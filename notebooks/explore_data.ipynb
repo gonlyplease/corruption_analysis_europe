{
 "cells": [
  {
   "cell_type": "markdown",
   "metadata": {},
   "source": [
    "## How well can the level of corruption of a country in Europe be quantified? \n",
    "\n",
    "* What differences are there in actual corruption and perceived corruption? \n",
    "\n",
    "* Are there different forms of corruption prevalent in different countries in Europe? \n",
    "\n",
    "* What characteristics of a country predict the level of corruption? \n",
    "\n",
    "* What characteristics of a country predict an increase or decrease in the level of corruption?"
   ]
  },
  {
   "cell_type": "markdown",
   "metadata": {
    "vscode": {
     "languageId": "plaintext"
    }
   },
   "source": [
    "• Corruption Perceptions Index (CPI) from Transparency International.\n",
    "Data Set that shows preceived corruption of countries and rank them.\n",
    "\n",
    "• World Bank Development Indicators (economic, social, and governance data).\n",
    "Indicators could be used to look for correlation between them and the corruption score of countries\n",
    "\n",
    "• European Social Survey (perception-related data).\n",
    "• OECD Data on governance and public sector integrity."
   ]
  },
  {
   "cell_type": "code",
   "execution_count": 71,
   "metadata": {},
   "outputs": [],
   "source": [
    "import pandas as pd\n",
    "import os"
   ]
  },
  {
   "cell_type": "code",
   "execution_count": 72,
   "metadata": {},
   "outputs": [],
   "source": [
    "ess_path = \"../data/raw/ESS.csv\""
   ]
  },
  {
   "cell_type": "code",
   "execution_count": 73,
   "metadata": {},
   "outputs": [],
   "source": [
    "ess_data = pd.read_csv(ess_path)\n"
   ]
  },
  {
   "cell_type": "code",
   "execution_count": 74,
   "metadata": {},
   "outputs": [
    {
     "data": {
      "text/html": [
       "<div>\n",
       "<style scoped>\n",
       "    .dataframe tbody tr th:only-of-type {\n",
       "        vertical-align: middle;\n",
       "    }\n",
       "\n",
       "    .dataframe tbody tr th {\n",
       "        vertical-align: top;\n",
       "    }\n",
       "\n",
       "    .dataframe thead th {\n",
       "        text-align: right;\n",
       "    }\n",
       "</style>\n",
       "<table border=\"1\" class=\"dataframe\">\n",
       "  <thead>\n",
       "    <tr style=\"text-align: right;\">\n",
       "      <th></th>\n",
       "      <th>name</th>\n",
       "      <th>essround</th>\n",
       "      <th>edition</th>\n",
       "      <th>proddate</th>\n",
       "      <th>idno</th>\n",
       "      <th>cntry</th>\n",
       "      <th>dweight</th>\n",
       "      <th>pspwght</th>\n",
       "      <th>pweight</th>\n",
       "      <th>anweight</th>\n",
       "      <th>...</th>\n",
       "      <th>trstplc</th>\n",
       "      <th>trstplt</th>\n",
       "      <th>trstprt</th>\n",
       "      <th>trstun</th>\n",
       "      <th>trstsci</th>\n",
       "      <th>loylead</th>\n",
       "      <th>medcrgv</th>\n",
       "      <th>medcrgvc</th>\n",
       "      <th>meprinf</th>\n",
       "      <th>implvdm</th>\n",
       "    </tr>\n",
       "  </thead>\n",
       "  <tbody>\n",
       "    <tr>\n",
       "      <th>530706</th>\n",
       "      <td>ESS11e02</td>\n",
       "      <td>11</td>\n",
       "      <td>2.0</td>\n",
       "      <td>20.11.2024</td>\n",
       "      <td>86379</td>\n",
       "      <td>SK</td>\n",
       "      <td>1.758655</td>\n",
       "      <td>3.777879</td>\n",
       "      <td>0.315904</td>\n",
       "      <td>1.193448</td>\n",
       "      <td>...</td>\n",
       "      <td>10</td>\n",
       "      <td>3</td>\n",
       "      <td>3.0</td>\n",
       "      <td>10</td>\n",
       "      <td>NaN</td>\n",
       "      <td>5.0</td>\n",
       "      <td>NaN</td>\n",
       "      <td>NaN</td>\n",
       "      <td>NaN</td>\n",
       "      <td>NaN</td>\n",
       "    </tr>\n",
       "    <tr>\n",
       "      <th>530707</th>\n",
       "      <td>ESS11e02</td>\n",
       "      <td>11</td>\n",
       "      <td>2.0</td>\n",
       "      <td>20.11.2024</td>\n",
       "      <td>86407</td>\n",
       "      <td>SK</td>\n",
       "      <td>1.302318</td>\n",
       "      <td>0.698084</td>\n",
       "      <td>0.315904</td>\n",
       "      <td>0.220528</td>\n",
       "      <td>...</td>\n",
       "      <td>10</td>\n",
       "      <td>4</td>\n",
       "      <td>6.0</td>\n",
       "      <td>6</td>\n",
       "      <td>NaN</td>\n",
       "      <td>2.0</td>\n",
       "      <td>NaN</td>\n",
       "      <td>NaN</td>\n",
       "      <td>NaN</td>\n",
       "      <td>NaN</td>\n",
       "    </tr>\n",
       "    <tr>\n",
       "      <th>530708</th>\n",
       "      <td>ESS11e02</td>\n",
       "      <td>11</td>\n",
       "      <td>2.0</td>\n",
       "      <td>20.11.2024</td>\n",
       "      <td>86408</td>\n",
       "      <td>SK</td>\n",
       "      <td>1.262293</td>\n",
       "      <td>3.717124</td>\n",
       "      <td>0.315904</td>\n",
       "      <td>1.174255</td>\n",
       "      <td>...</td>\n",
       "      <td>5</td>\n",
       "      <td>5</td>\n",
       "      <td>5.0</td>\n",
       "      <td>8</td>\n",
       "      <td>NaN</td>\n",
       "      <td>3.0</td>\n",
       "      <td>NaN</td>\n",
       "      <td>NaN</td>\n",
       "      <td>NaN</td>\n",
       "      <td>NaN</td>\n",
       "    </tr>\n",
       "    <tr>\n",
       "      <th>530709</th>\n",
       "      <td>ESS11e02</td>\n",
       "      <td>11</td>\n",
       "      <td>2.0</td>\n",
       "      <td>20.11.2024</td>\n",
       "      <td>86426</td>\n",
       "      <td>SK</td>\n",
       "      <td>4.000705</td>\n",
       "      <td>4.000297</td>\n",
       "      <td>0.315904</td>\n",
       "      <td>1.263711</td>\n",
       "      <td>...</td>\n",
       "      <td>2</td>\n",
       "      <td>3</td>\n",
       "      <td>88.0</td>\n",
       "      <td>88</td>\n",
       "      <td>NaN</td>\n",
       "      <td>2.0</td>\n",
       "      <td>NaN</td>\n",
       "      <td>NaN</td>\n",
       "      <td>NaN</td>\n",
       "      <td>NaN</td>\n",
       "    </tr>\n",
       "    <tr>\n",
       "      <th>530710</th>\n",
       "      <td>ESS11e02</td>\n",
       "      <td>11</td>\n",
       "      <td>2.0</td>\n",
       "      <td>20.11.2024</td>\n",
       "      <td>86453</td>\n",
       "      <td>SK</td>\n",
       "      <td>1.111078</td>\n",
       "      <td>1.031229</td>\n",
       "      <td>0.315904</td>\n",
       "      <td>0.325770</td>\n",
       "      <td>...</td>\n",
       "      <td>10</td>\n",
       "      <td>7</td>\n",
       "      <td>8.0</td>\n",
       "      <td>7</td>\n",
       "      <td>NaN</td>\n",
       "      <td>5.0</td>\n",
       "      <td>NaN</td>\n",
       "      <td>NaN</td>\n",
       "      <td>NaN</td>\n",
       "      <td>NaN</td>\n",
       "    </tr>\n",
       "  </tbody>\n",
       "</table>\n",
       "<p>5 rows × 42 columns</p>\n",
       "</div>"
      ],
      "text/plain": [
       "            name  essround  edition    proddate   idno cntry   dweight  \\\n",
       "530706  ESS11e02        11      2.0  20.11.2024  86379    SK  1.758655   \n",
       "530707  ESS11e02        11      2.0  20.11.2024  86407    SK  1.302318   \n",
       "530708  ESS11e02        11      2.0  20.11.2024  86408    SK  1.262293   \n",
       "530709  ESS11e02        11      2.0  20.11.2024  86426    SK  4.000705   \n",
       "530710  ESS11e02        11      2.0  20.11.2024  86453    SK  1.111078   \n",
       "\n",
       "         pspwght   pweight  anweight  ...  trstplc  trstplt  trstprt  trstun  \\\n",
       "530706  3.777879  0.315904  1.193448  ...       10        3      3.0      10   \n",
       "530707  0.698084  0.315904  0.220528  ...       10        4      6.0       6   \n",
       "530708  3.717124  0.315904  1.174255  ...        5        5      5.0       8   \n",
       "530709  4.000297  0.315904  1.263711  ...        2        3     88.0      88   \n",
       "530710  1.031229  0.315904  0.325770  ...       10        7      8.0       7   \n",
       "\n",
       "        trstsci  loylead  medcrgv  medcrgvc  meprinf  implvdm  \n",
       "530706      NaN      5.0      NaN       NaN      NaN      NaN  \n",
       "530707      NaN      2.0      NaN       NaN      NaN      NaN  \n",
       "530708      NaN      3.0      NaN       NaN      NaN      NaN  \n",
       "530709      NaN      2.0      NaN       NaN      NaN      NaN  \n",
       "530710      NaN      5.0      NaN       NaN      NaN      NaN  \n",
       "\n",
       "[5 rows x 42 columns]"
      ]
     },
     "execution_count": 74,
     "metadata": {},
     "output_type": "execute_result"
    }
   ],
   "source": [
    "ess_data.tail()"
   ]
  },
  {
   "cell_type": "code",
   "execution_count": 12,
   "metadata": {},
   "outputs": [],
   "source": [
    "html_data = pd.read_html(\"../data/raw/ESS.html\")"
   ]
  },
  {
   "cell_type": "code",
   "execution_count": 75,
   "metadata": {},
   "outputs": [
    {
     "data": {
      "text/plain": [
       "array(['AT', 'BE', 'CH', 'CZ', 'DE', 'DK', 'ES', 'FI', 'FR', 'GB', 'GR',\n",
       "       'HU', 'IE', 'IL', 'IT', 'LU', 'NL', 'NO', 'PL', 'PT', 'SE', 'SI',\n",
       "       'EE', 'IS', 'SK', 'TR', 'UA', 'BG', 'CY', 'RU', 'HR', 'LV', 'RO',\n",
       "       'LT', 'AL', 'XK', 'ME', 'RS', 'MK'], dtype=object)"
      ]
     },
     "execution_count": 75,
     "metadata": {},
     "output_type": "execute_result"
    }
   ],
   "source": [
    "ess_data[\"cntry\"].unique()"
   ]
  },
  {
   "cell_type": "code",
   "execution_count": 76,
   "metadata": {},
   "outputs": [],
   "source": [
    "corruption_raw_data = pd.read_csv(\"../data/raw/TI-CPI.csv\")"
   ]
  },
  {
   "cell_type": "code",
   "execution_count": 81,
   "metadata": {},
   "outputs": [
    {
     "data": {
      "text/html": [
       "<div>\n",
       "<style scoped>\n",
       "    .dataframe tbody tr th:only-of-type {\n",
       "        vertical-align: middle;\n",
       "    }\n",
       "\n",
       "    .dataframe tbody tr th {\n",
       "        vertical-align: top;\n",
       "    }\n",
       "\n",
       "    .dataframe thead th {\n",
       "        text-align: right;\n",
       "    }\n",
       "</style>\n",
       "<table border=\"1\" class=\"dataframe\">\n",
       "  <thead>\n",
       "    <tr style=\"text-align: right;\">\n",
       "      <th></th>\n",
       "      <th>Economy ISO3</th>\n",
       "      <th>Economy Name</th>\n",
       "      <th>Indicator ID</th>\n",
       "      <th>Indicator</th>\n",
       "      <th>2012</th>\n",
       "      <th>2013</th>\n",
       "      <th>2014</th>\n",
       "      <th>2015</th>\n",
       "      <th>2016</th>\n",
       "      <th>2017</th>\n",
       "      <th>2018</th>\n",
       "      <th>2019</th>\n",
       "      <th>2020</th>\n",
       "      <th>2021</th>\n",
       "      <th>2022</th>\n",
       "      <th>2023</th>\n",
       "    </tr>\n",
       "  </thead>\n",
       "  <tbody>\n",
       "    <tr>\n",
       "      <th>0</th>\n",
       "      <td>AFG</td>\n",
       "      <td>Afghanistan</td>\n",
       "      <td>TI.CPI.Rank</td>\n",
       "      <td>Corruption Perceptions Index Rank</td>\n",
       "      <td>174.0</td>\n",
       "      <td>175.0</td>\n",
       "      <td>172.00</td>\n",
       "      <td>166.00</td>\n",
       "      <td>169.00</td>\n",
       "      <td>177.00</td>\n",
       "      <td>172.00</td>\n",
       "      <td>173.00</td>\n",
       "      <td>165.00</td>\n",
       "      <td>174.00</td>\n",
       "      <td>150.0</td>\n",
       "      <td>162.00</td>\n",
       "    </tr>\n",
       "    <tr>\n",
       "      <th>1</th>\n",
       "      <td>AFG</td>\n",
       "      <td>Afghanistan</td>\n",
       "      <td>TI.CPI.STDERR</td>\n",
       "      <td>Corruption Perceptions Index Standard Error</td>\n",
       "      <td>3.3</td>\n",
       "      <td>3.3</td>\n",
       "      <td>1.29</td>\n",
       "      <td>3.49</td>\n",
       "      <td>1.74</td>\n",
       "      <td>1.39</td>\n",
       "      <td>1.41</td>\n",
       "      <td>2.55</td>\n",
       "      <td>2.44</td>\n",
       "      <td>2.12</td>\n",
       "      <td>6.3</td>\n",
       "      <td>6.24</td>\n",
       "    </tr>\n",
       "    <tr>\n",
       "      <th>2</th>\n",
       "      <td>AFG</td>\n",
       "      <td>Afghanistan</td>\n",
       "      <td>TI.CPI.Score</td>\n",
       "      <td>Corruption Perceptions Index Score</td>\n",
       "      <td>8.0</td>\n",
       "      <td>8.0</td>\n",
       "      <td>12.00</td>\n",
       "      <td>11.00</td>\n",
       "      <td>15.00</td>\n",
       "      <td>15.00</td>\n",
       "      <td>16.00</td>\n",
       "      <td>16.00</td>\n",
       "      <td>19.00</td>\n",
       "      <td>16.00</td>\n",
       "      <td>24.0</td>\n",
       "      <td>20.00</td>\n",
       "    </tr>\n",
       "    <tr>\n",
       "      <th>3</th>\n",
       "      <td>AFG</td>\n",
       "      <td>Afghanistan</td>\n",
       "      <td>TI.CPI.Sources</td>\n",
       "      <td>Corruption Perceptions Index Sources</td>\n",
       "      <td>3.0</td>\n",
       "      <td>3.0</td>\n",
       "      <td>4.00</td>\n",
       "      <td>4.00</td>\n",
       "      <td>5.00</td>\n",
       "      <td>5.00</td>\n",
       "      <td>5.00</td>\n",
       "      <td>5.00</td>\n",
       "      <td>5.00</td>\n",
       "      <td>5.00</td>\n",
       "      <td>4.0</td>\n",
       "      <td>5.00</td>\n",
       "    </tr>\n",
       "    <tr>\n",
       "      <th>4</th>\n",
       "      <td>AGO</td>\n",
       "      <td>Angola</td>\n",
       "      <td>TI.CPI.Rank</td>\n",
       "      <td>Corruption Perceptions Index Rank</td>\n",
       "      <td>157.0</td>\n",
       "      <td>153.0</td>\n",
       "      <td>161.00</td>\n",
       "      <td>163.00</td>\n",
       "      <td>164.00</td>\n",
       "      <td>167.00</td>\n",
       "      <td>165.00</td>\n",
       "      <td>146.00</td>\n",
       "      <td>142.00</td>\n",
       "      <td>136.00</td>\n",
       "      <td>116.0</td>\n",
       "      <td>121.00</td>\n",
       "    </tr>\n",
       "  </tbody>\n",
       "</table>\n",
       "</div>"
      ],
      "text/plain": [
       "  Economy ISO3 Economy Name    Indicator ID  \\\n",
       "0          AFG  Afghanistan     TI.CPI.Rank   \n",
       "1          AFG  Afghanistan   TI.CPI.STDERR   \n",
       "2          AFG  Afghanistan    TI.CPI.Score   \n",
       "3          AFG  Afghanistan  TI.CPI.Sources   \n",
       "4          AGO       Angola     TI.CPI.Rank   \n",
       "\n",
       "                                     Indicator   2012   2013    2014    2015  \\\n",
       "0            Corruption Perceptions Index Rank  174.0  175.0  172.00  166.00   \n",
       "1  Corruption Perceptions Index Standard Error    3.3    3.3    1.29    3.49   \n",
       "2           Corruption Perceptions Index Score    8.0    8.0   12.00   11.00   \n",
       "3         Corruption Perceptions Index Sources    3.0    3.0    4.00    4.00   \n",
       "4            Corruption Perceptions Index Rank  157.0  153.0  161.00  163.00   \n",
       "\n",
       "     2016    2017    2018    2019    2020    2021   2022    2023  \n",
       "0  169.00  177.00  172.00  173.00  165.00  174.00  150.0  162.00  \n",
       "1    1.74    1.39    1.41    2.55    2.44    2.12    6.3    6.24  \n",
       "2   15.00   15.00   16.00   16.00   19.00   16.00   24.0   20.00  \n",
       "3    5.00    5.00    5.00    5.00    5.00    5.00    4.0    5.00  \n",
       "4  164.00  167.00  165.00  146.00  142.00  136.00  116.0  121.00  "
      ]
     },
     "execution_count": 81,
     "metadata": {},
     "output_type": "execute_result"
    }
   ],
   "source": [
    "\n",
    "corruption_raw_data.head()"
   ]
  },
  {
   "cell_type": "code",
   "execution_count": 80,
   "metadata": {},
   "outputs": [
    {
     "ename": "KeyError",
     "evalue": "\"['Attribute 1', 'Attribute 2', 'Attribute 3', 'Partner'] not found in axis\"",
     "output_type": "error",
     "traceback": [
      "\u001b[0;31m---------------------------------------------------------------------------\u001b[0m",
      "\u001b[0;31mKeyError\u001b[0m                                  Traceback (most recent call last)",
      "Cell \u001b[0;32mIn[80], line 1\u001b[0m\n\u001b[0;32m----> 1\u001b[0m corruption_raw_data \u001b[38;5;241m=\u001b[39m \u001b[43mcorruption_raw_data\u001b[49m\u001b[38;5;241;43m.\u001b[39;49m\u001b[43mdrop\u001b[49m\u001b[43m(\u001b[49m\u001b[43mlabels\u001b[49m\u001b[38;5;241;43m=\u001b[39;49m\u001b[43m[\u001b[49m\u001b[38;5;124;43m\"\u001b[39;49m\u001b[38;5;124;43mAttribute 1\u001b[39;49m\u001b[38;5;124;43m\"\u001b[39;49m\u001b[43m,\u001b[49m\u001b[43m \u001b[49m\u001b[38;5;124;43m\"\u001b[39;49m\u001b[38;5;124;43mAttribute 2\u001b[39;49m\u001b[38;5;124;43m\"\u001b[39;49m\u001b[43m,\u001b[49m\u001b[43m \u001b[49m\u001b[38;5;124;43m\"\u001b[39;49m\u001b[38;5;124;43mAttribute 3\u001b[39;49m\u001b[38;5;124;43m\"\u001b[39;49m\u001b[43m,\u001b[49m\u001b[43m \u001b[49m\u001b[38;5;124;43m\"\u001b[39;49m\u001b[38;5;124;43mPartner\u001b[39;49m\u001b[38;5;124;43m\"\u001b[39;49m\u001b[43m]\u001b[49m\u001b[43m,\u001b[49m\u001b[43m \u001b[49m\u001b[43maxis\u001b[49m\u001b[38;5;241;43m=\u001b[39;49m\u001b[38;5;241;43m1\u001b[39;49m\u001b[43m)\u001b[49m\n",
      "File \u001b[0;32m~/DataScienceProjects/DOPP_Exercise2/.venv/lib/python3.10/site-packages/pandas/core/frame.py:5581\u001b[0m, in \u001b[0;36mDataFrame.drop\u001b[0;34m(self, labels, axis, index, columns, level, inplace, errors)\u001b[0m\n\u001b[1;32m   5433\u001b[0m \u001b[38;5;28;01mdef\u001b[39;00m \u001b[38;5;21mdrop\u001b[39m(\n\u001b[1;32m   5434\u001b[0m     \u001b[38;5;28mself\u001b[39m,\n\u001b[1;32m   5435\u001b[0m     labels: IndexLabel \u001b[38;5;241m|\u001b[39m \u001b[38;5;28;01mNone\u001b[39;00m \u001b[38;5;241m=\u001b[39m \u001b[38;5;28;01mNone\u001b[39;00m,\n\u001b[0;32m   (...)\u001b[0m\n\u001b[1;32m   5442\u001b[0m     errors: IgnoreRaise \u001b[38;5;241m=\u001b[39m \u001b[38;5;124m\"\u001b[39m\u001b[38;5;124mraise\u001b[39m\u001b[38;5;124m\"\u001b[39m,\n\u001b[1;32m   5443\u001b[0m ) \u001b[38;5;241m-\u001b[39m\u001b[38;5;241m>\u001b[39m DataFrame \u001b[38;5;241m|\u001b[39m \u001b[38;5;28;01mNone\u001b[39;00m:\n\u001b[1;32m   5444\u001b[0m \u001b[38;5;250m    \u001b[39m\u001b[38;5;124;03m\"\"\"\u001b[39;00m\n\u001b[1;32m   5445\u001b[0m \u001b[38;5;124;03m    Drop specified labels from rows or columns.\u001b[39;00m\n\u001b[1;32m   5446\u001b[0m \n\u001b[0;32m   (...)\u001b[0m\n\u001b[1;32m   5579\u001b[0m \u001b[38;5;124;03m            weight  1.0     0.8\u001b[39;00m\n\u001b[1;32m   5580\u001b[0m \u001b[38;5;124;03m    \"\"\"\u001b[39;00m\n\u001b[0;32m-> 5581\u001b[0m     \u001b[38;5;28;01mreturn\u001b[39;00m \u001b[38;5;28;43msuper\u001b[39;49m\u001b[43m(\u001b[49m\u001b[43m)\u001b[49m\u001b[38;5;241;43m.\u001b[39;49m\u001b[43mdrop\u001b[49m\u001b[43m(\u001b[49m\n\u001b[1;32m   5582\u001b[0m \u001b[43m        \u001b[49m\u001b[43mlabels\u001b[49m\u001b[38;5;241;43m=\u001b[39;49m\u001b[43mlabels\u001b[49m\u001b[43m,\u001b[49m\n\u001b[1;32m   5583\u001b[0m \u001b[43m        \u001b[49m\u001b[43maxis\u001b[49m\u001b[38;5;241;43m=\u001b[39;49m\u001b[43maxis\u001b[49m\u001b[43m,\u001b[49m\n\u001b[1;32m   5584\u001b[0m \u001b[43m        \u001b[49m\u001b[43mindex\u001b[49m\u001b[38;5;241;43m=\u001b[39;49m\u001b[43mindex\u001b[49m\u001b[43m,\u001b[49m\n\u001b[1;32m   5585\u001b[0m \u001b[43m        \u001b[49m\u001b[43mcolumns\u001b[49m\u001b[38;5;241;43m=\u001b[39;49m\u001b[43mcolumns\u001b[49m\u001b[43m,\u001b[49m\n\u001b[1;32m   5586\u001b[0m \u001b[43m        \u001b[49m\u001b[43mlevel\u001b[49m\u001b[38;5;241;43m=\u001b[39;49m\u001b[43mlevel\u001b[49m\u001b[43m,\u001b[49m\n\u001b[1;32m   5587\u001b[0m \u001b[43m        \u001b[49m\u001b[43minplace\u001b[49m\u001b[38;5;241;43m=\u001b[39;49m\u001b[43minplace\u001b[49m\u001b[43m,\u001b[49m\n\u001b[1;32m   5588\u001b[0m \u001b[43m        \u001b[49m\u001b[43merrors\u001b[49m\u001b[38;5;241;43m=\u001b[39;49m\u001b[43merrors\u001b[49m\u001b[43m,\u001b[49m\n\u001b[1;32m   5589\u001b[0m \u001b[43m    \u001b[49m\u001b[43m)\u001b[49m\n",
      "File \u001b[0;32m~/DataScienceProjects/DOPP_Exercise2/.venv/lib/python3.10/site-packages/pandas/core/generic.py:4788\u001b[0m, in \u001b[0;36mNDFrame.drop\u001b[0;34m(self, labels, axis, index, columns, level, inplace, errors)\u001b[0m\n\u001b[1;32m   4786\u001b[0m \u001b[38;5;28;01mfor\u001b[39;00m axis, labels \u001b[38;5;129;01min\u001b[39;00m axes\u001b[38;5;241m.\u001b[39mitems():\n\u001b[1;32m   4787\u001b[0m     \u001b[38;5;28;01mif\u001b[39;00m labels \u001b[38;5;129;01mis\u001b[39;00m \u001b[38;5;129;01mnot\u001b[39;00m \u001b[38;5;28;01mNone\u001b[39;00m:\n\u001b[0;32m-> 4788\u001b[0m         obj \u001b[38;5;241m=\u001b[39m \u001b[43mobj\u001b[49m\u001b[38;5;241;43m.\u001b[39;49m\u001b[43m_drop_axis\u001b[49m\u001b[43m(\u001b[49m\u001b[43mlabels\u001b[49m\u001b[43m,\u001b[49m\u001b[43m \u001b[49m\u001b[43maxis\u001b[49m\u001b[43m,\u001b[49m\u001b[43m \u001b[49m\u001b[43mlevel\u001b[49m\u001b[38;5;241;43m=\u001b[39;49m\u001b[43mlevel\u001b[49m\u001b[43m,\u001b[49m\u001b[43m \u001b[49m\u001b[43merrors\u001b[49m\u001b[38;5;241;43m=\u001b[39;49m\u001b[43merrors\u001b[49m\u001b[43m)\u001b[49m\n\u001b[1;32m   4790\u001b[0m \u001b[38;5;28;01mif\u001b[39;00m inplace:\n\u001b[1;32m   4791\u001b[0m     \u001b[38;5;28mself\u001b[39m\u001b[38;5;241m.\u001b[39m_update_inplace(obj)\n",
      "File \u001b[0;32m~/DataScienceProjects/DOPP_Exercise2/.venv/lib/python3.10/site-packages/pandas/core/generic.py:4830\u001b[0m, in \u001b[0;36mNDFrame._drop_axis\u001b[0;34m(self, labels, axis, level, errors, only_slice)\u001b[0m\n\u001b[1;32m   4828\u001b[0m         new_axis \u001b[38;5;241m=\u001b[39m axis\u001b[38;5;241m.\u001b[39mdrop(labels, level\u001b[38;5;241m=\u001b[39mlevel, errors\u001b[38;5;241m=\u001b[39merrors)\n\u001b[1;32m   4829\u001b[0m     \u001b[38;5;28;01melse\u001b[39;00m:\n\u001b[0;32m-> 4830\u001b[0m         new_axis \u001b[38;5;241m=\u001b[39m \u001b[43maxis\u001b[49m\u001b[38;5;241;43m.\u001b[39;49m\u001b[43mdrop\u001b[49m\u001b[43m(\u001b[49m\u001b[43mlabels\u001b[49m\u001b[43m,\u001b[49m\u001b[43m \u001b[49m\u001b[43merrors\u001b[49m\u001b[38;5;241;43m=\u001b[39;49m\u001b[43merrors\u001b[49m\u001b[43m)\u001b[49m\n\u001b[1;32m   4831\u001b[0m     indexer \u001b[38;5;241m=\u001b[39m axis\u001b[38;5;241m.\u001b[39mget_indexer(new_axis)\n\u001b[1;32m   4833\u001b[0m \u001b[38;5;66;03m# Case for non-unique axis\u001b[39;00m\n\u001b[1;32m   4834\u001b[0m \u001b[38;5;28;01melse\u001b[39;00m:\n",
      "File \u001b[0;32m~/DataScienceProjects/DOPP_Exercise2/.venv/lib/python3.10/site-packages/pandas/core/indexes/base.py:7070\u001b[0m, in \u001b[0;36mIndex.drop\u001b[0;34m(self, labels, errors)\u001b[0m\n\u001b[1;32m   7068\u001b[0m \u001b[38;5;28;01mif\u001b[39;00m mask\u001b[38;5;241m.\u001b[39many():\n\u001b[1;32m   7069\u001b[0m     \u001b[38;5;28;01mif\u001b[39;00m errors \u001b[38;5;241m!=\u001b[39m \u001b[38;5;124m\"\u001b[39m\u001b[38;5;124mignore\u001b[39m\u001b[38;5;124m\"\u001b[39m:\n\u001b[0;32m-> 7070\u001b[0m         \u001b[38;5;28;01mraise\u001b[39;00m \u001b[38;5;167;01mKeyError\u001b[39;00m(\u001b[38;5;124mf\u001b[39m\u001b[38;5;124m\"\u001b[39m\u001b[38;5;132;01m{\u001b[39;00mlabels[mask]\u001b[38;5;241m.\u001b[39mtolist()\u001b[38;5;132;01m}\u001b[39;00m\u001b[38;5;124m not found in axis\u001b[39m\u001b[38;5;124m\"\u001b[39m)\n\u001b[1;32m   7071\u001b[0m     indexer \u001b[38;5;241m=\u001b[39m indexer[\u001b[38;5;241m~\u001b[39mmask]\n\u001b[1;32m   7072\u001b[0m \u001b[38;5;28;01mreturn\u001b[39;00m \u001b[38;5;28mself\u001b[39m\u001b[38;5;241m.\u001b[39mdelete(indexer)\n",
      "\u001b[0;31mKeyError\u001b[0m: \"['Attribute 1', 'Attribute 2', 'Attribute 3', 'Partner'] not found in axis\""
     ]
    }
   ],
   "source": [
    "corruption_raw_data = corruption_raw_data.drop(labels=[\"Attribute 1\", \"Attribute 2\", \"Attribute 3\", \"Partner\"], axis=1)"
   ]
  },
  {
   "cell_type": "code",
   "execution_count": 82,
   "metadata": {},
   "outputs": [
    {
     "name": "stdout",
     "output_type": "stream",
     "text": [
      "<class 'pandas.core.frame.DataFrame'>\n",
      "RangeIndex: 726 entries, 0 to 725\n",
      "Data columns (total 16 columns):\n",
      " #   Column        Non-Null Count  Dtype  \n",
      "---  ------        --------------  -----  \n",
      " 0   Economy ISO3  726 non-null    object \n",
      " 1   Economy Name  726 non-null    object \n",
      " 2   Indicator ID  726 non-null    object \n",
      " 3   Indicator     726 non-null    object \n",
      " 4   2012          692 non-null    float64\n",
      " 5   2013          696 non-null    float64\n",
      " 6   2014          687 non-null    float64\n",
      " 7   2015          661 non-null    float64\n",
      " 8   2016          693 non-null    float64\n",
      " 9   2017          720 non-null    float64\n",
      " 10  2018          720 non-null    float64\n",
      " 11  2019          720 non-null    float64\n",
      " 12  2020          720 non-null    float64\n",
      " 13  2021          720 non-null    float64\n",
      " 14  2022          720 non-null    float64\n",
      " 15  2023          720 non-null    float64\n",
      "dtypes: float64(12), object(4)\n",
      "memory usage: 90.9+ KB\n"
     ]
    }
   ],
   "source": [
    "corruption_raw_data.info()"
   ]
  },
  {
   "cell_type": "code",
   "execution_count": 54,
   "metadata": {},
   "outputs": [],
   "source": [
    "countries = pd.read_csv(\"../data/processed/europe_countries.csv\")"
   ]
  },
  {
   "cell_type": "code",
   "execution_count": 59,
   "metadata": {},
   "outputs": [
    {
     "name": "stdout",
     "output_type": "stream",
     "text": [
      "<class 'pandas.core.frame.DataFrame'>\n",
      "RangeIndex: 48 entries, 0 to 47\n",
      "Data columns (total 3 columns):\n",
      " #   Column     Non-Null Count  Dtype \n",
      "---  ------     --------------  ----- \n",
      " 0   Country    48 non-null     object\n",
      " 1   ISO3 Code  48 non-null     object\n",
      " 2   ISO2 Code  48 non-null     object\n",
      "dtypes: object(3)\n",
      "memory usage: 1.2+ KB\n"
     ]
    }
   ],
   "source": [
    "countries.info()"
   ]
  },
  {
   "cell_type": "code",
   "execution_count": 83,
   "metadata": {},
   "outputs": [],
   "source": [
    "iso3_europe = set(countries[\"ISO3 Code\"])"
   ]
  },
  {
   "cell_type": "code",
   "execution_count": 84,
   "metadata": {},
   "outputs": [],
   "source": [
    "corruption_raw_data = corruption_raw_data[corruption_raw_data[\"Economy ISO3\"].isin(iso3_europe)]"
   ]
  },
  {
   "cell_type": "code",
   "execution_count": 91,
   "metadata": {},
   "outputs": [
    {
     "data": {
      "text/plain": [
       "42"
      ]
     },
     "execution_count": 91,
     "metadata": {},
     "output_type": "execute_result"
    }
   ],
   "source": [
    "corruption_raw_data[\"Economy ISO3\"].nunique()"
   ]
  },
  {
   "cell_type": "code",
   "execution_count": 92,
   "metadata": {},
   "outputs": [],
   "source": [
    "corruption_raw_data.to_csv(\"../data/processed/CPI.csv\", index=False, index_label=False)"
   ]
  }
 ],
 "metadata": {
  "kernelspec": {
   "display_name": ".venv",
   "language": "python",
   "name": "python3"
  },
  "language_info": {
   "codemirror_mode": {
    "name": "ipython",
    "version": 3
   },
   "file_extension": ".py",
   "mimetype": "text/x-python",
   "name": "python",
   "nbconvert_exporter": "python",
   "pygments_lexer": "ipython3",
   "version": "3.10.12"
  }
 },
 "nbformat": 4,
 "nbformat_minor": 2
}
