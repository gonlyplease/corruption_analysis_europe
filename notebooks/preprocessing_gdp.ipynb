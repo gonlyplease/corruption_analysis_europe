{
 "cells": [
  {
   "cell_type": "code",
   "metadata": {
    "ExecuteTime": {
     "end_time": "2025-01-05T15:43:32.260916Z",
     "start_time": "2025-01-05T15:43:32.255888Z"
    }
   },
   "source": [
    "import pandas as pd\n",
    "import os   "
   ],
   "outputs": [],
   "execution_count": 115
  },
  {
   "cell_type": "code",
   "metadata": {
    "ExecuteTime": {
     "end_time": "2025-01-05T15:43:32.302686Z",
     "start_time": "2025-01-05T15:43:32.292513Z"
    }
   },
   "source": [
    "gdp = pd.read_csv(\"../data/raw/gdp.csv\")"
   ],
   "outputs": [],
   "execution_count": 116
  },
  {
   "cell_type": "code",
   "metadata": {
    "ExecuteTime": {
     "end_time": "2025-01-05T15:43:32.330459Z",
     "start_time": "2025-01-05T15:43:32.322424Z"
    }
   },
   "source": [
    "gdp.info()"
   ],
   "outputs": [
    {
     "name": "stdout",
     "output_type": "stream",
     "text": [
      "<class 'pandas.core.frame.DataFrame'>\n",
      "RangeIndex: 1045 entries, 0 to 1044\n",
      "Data columns (total 10 columns):\n",
      " #   Column           Non-Null Count  Dtype  \n",
      "---  ------           --------------  -----  \n",
      " 0   IndicatorCode    1045 non-null   int64  \n",
      " 1   IndicatorName    1045 non-null   object \n",
      " 2   VariableName     1045 non-null   object \n",
      " 3   MeasurementName  1045 non-null   object \n",
      " 4   CountryCode      1045 non-null   int64  \n",
      " 5   Alpha3Code       1045 non-null   object \n",
      " 6   CountryName      1045 non-null   object \n",
      " 7   PeriodCode       1045 non-null   int64  \n",
      " 8   Value            1045 non-null   object \n",
      " 9   Unnamed: 9       0 non-null      float64\n",
      "dtypes: float64(1), int64(3), object(6)\n",
      "memory usage: 81.8+ KB\n"
     ]
    }
   ],
   "execution_count": 117
  },
  {
   "cell_type": "code",
   "metadata": {
    "ExecuteTime": {
     "end_time": "2025-01-05T15:43:32.357508Z",
     "start_time": "2025-01-05T15:43:32.349461Z"
    }
   },
   "source": [
    "gdp.head()"
   ],
   "outputs": [
    {
     "data": {
      "text/plain": [
       "   IndicatorCode                                      IndicatorName  \\\n",
       "0              5  Final consumption expenditure per capita in US...   \n",
       "1              5  Final consumption expenditure per capita in US...   \n",
       "2              5  Final consumption expenditure per capita in US...   \n",
       "3              5  Final consumption expenditure per capita in US...   \n",
       "4              5  Final consumption expenditure per capita in US...   \n",
       "\n",
       "                    VariableName  \\\n",
       "0  Final consumption expenditure   \n",
       "1  Final consumption expenditure   \n",
       "2  Final consumption expenditure   \n",
       "3  Final consumption expenditure   \n",
       "4  Final consumption expenditure   \n",
       "\n",
       "                                     MeasurementName  CountryCode Alpha3Code  \\\n",
       "0  Per capita in USD adjusted by purchasing power...            8        ALB   \n",
       "1  Per capita in USD adjusted by purchasing power...            8        ALB   \n",
       "2  Per capita in USD adjusted by purchasing power...            8        ALB   \n",
       "3  Per capita in USD adjusted by purchasing power...            8        ALB   \n",
       "4  Per capita in USD adjusted by purchasing power...            8        ALB   \n",
       "\n",
       "  CountryName  PeriodCode   Value  Unnamed: 9  \n",
       "0     Albania        2005  5160.0         NaN  \n",
       "1     Albania        2006  5788.4         NaN  \n",
       "2     Albania        2007  6719.9         NaN  \n",
       "3     Albania        2008  7691.0         NaN  \n",
       "4     Albania        2009  8101.3         NaN  "
      ],
      "text/html": [
       "<div>\n",
       "<style scoped>\n",
       "    .dataframe tbody tr th:only-of-type {\n",
       "        vertical-align: middle;\n",
       "    }\n",
       "\n",
       "    .dataframe tbody tr th {\n",
       "        vertical-align: top;\n",
       "    }\n",
       "\n",
       "    .dataframe thead th {\n",
       "        text-align: right;\n",
       "    }\n",
       "</style>\n",
       "<table border=\"1\" class=\"dataframe\">\n",
       "  <thead>\n",
       "    <tr style=\"text-align: right;\">\n",
       "      <th></th>\n",
       "      <th>IndicatorCode</th>\n",
       "      <th>IndicatorName</th>\n",
       "      <th>VariableName</th>\n",
       "      <th>MeasurementName</th>\n",
       "      <th>CountryCode</th>\n",
       "      <th>Alpha3Code</th>\n",
       "      <th>CountryName</th>\n",
       "      <th>PeriodCode</th>\n",
       "      <th>Value</th>\n",
       "      <th>Unnamed: 9</th>\n",
       "    </tr>\n",
       "  </thead>\n",
       "  <tbody>\n",
       "    <tr>\n",
       "      <th>0</th>\n",
       "      <td>5</td>\n",
       "      <td>Final consumption expenditure per capita in US...</td>\n",
       "      <td>Final consumption expenditure</td>\n",
       "      <td>Per capita in USD adjusted by purchasing power...</td>\n",
       "      <td>8</td>\n",
       "      <td>ALB</td>\n",
       "      <td>Albania</td>\n",
       "      <td>2005</td>\n",
       "      <td>5160.0</td>\n",
       "      <td>NaN</td>\n",
       "    </tr>\n",
       "    <tr>\n",
       "      <th>1</th>\n",
       "      <td>5</td>\n",
       "      <td>Final consumption expenditure per capita in US...</td>\n",
       "      <td>Final consumption expenditure</td>\n",
       "      <td>Per capita in USD adjusted by purchasing power...</td>\n",
       "      <td>8</td>\n",
       "      <td>ALB</td>\n",
       "      <td>Albania</td>\n",
       "      <td>2006</td>\n",
       "      <td>5788.4</td>\n",
       "      <td>NaN</td>\n",
       "    </tr>\n",
       "    <tr>\n",
       "      <th>2</th>\n",
       "      <td>5</td>\n",
       "      <td>Final consumption expenditure per capita in US...</td>\n",
       "      <td>Final consumption expenditure</td>\n",
       "      <td>Per capita in USD adjusted by purchasing power...</td>\n",
       "      <td>8</td>\n",
       "      <td>ALB</td>\n",
       "      <td>Albania</td>\n",
       "      <td>2007</td>\n",
       "      <td>6719.9</td>\n",
       "      <td>NaN</td>\n",
       "    </tr>\n",
       "    <tr>\n",
       "      <th>3</th>\n",
       "      <td>5</td>\n",
       "      <td>Final consumption expenditure per capita in US...</td>\n",
       "      <td>Final consumption expenditure</td>\n",
       "      <td>Per capita in USD adjusted by purchasing power...</td>\n",
       "      <td>8</td>\n",
       "      <td>ALB</td>\n",
       "      <td>Albania</td>\n",
       "      <td>2008</td>\n",
       "      <td>7691.0</td>\n",
       "      <td>NaN</td>\n",
       "    </tr>\n",
       "    <tr>\n",
       "      <th>4</th>\n",
       "      <td>5</td>\n",
       "      <td>Final consumption expenditure per capita in US...</td>\n",
       "      <td>Final consumption expenditure</td>\n",
       "      <td>Per capita in USD adjusted by purchasing power...</td>\n",
       "      <td>8</td>\n",
       "      <td>ALB</td>\n",
       "      <td>Albania</td>\n",
       "      <td>2009</td>\n",
       "      <td>8101.3</td>\n",
       "      <td>NaN</td>\n",
       "    </tr>\n",
       "  </tbody>\n",
       "</table>\n",
       "</div>"
      ]
     },
     "execution_count": 118,
     "metadata": {},
     "output_type": "execute_result"
    }
   ],
   "execution_count": 118
  },
  {
   "cell_type": "code",
   "metadata": {
    "ExecuteTime": {
     "end_time": "2025-01-05T15:43:32.515110Z",
     "start_time": "2025-01-05T15:43:32.508502Z"
    }
   },
   "source": [
    "gdp = gdp.drop(labels=[\"IndicatorCode\", \"CountryCode\", \"Unnamed: 9\" , \"IndicatorName\", \"VariableName\", \"MeasurementName\"], axis=1)\n",
    "\n",
    "gdp.rename(columns={\"PeriodCode\": \"year\", \"Value\": \"gdp\"}, inplace=True)"
   ],
   "outputs": [],
   "execution_count": 119
  },
  {
   "cell_type": "code",
   "metadata": {
    "ExecuteTime": {
     "end_time": "2025-01-05T15:43:32.581467Z",
     "start_time": "2025-01-05T15:43:32.574956Z"
    }
   },
   "source": [
    "gdp.head()"
   ],
   "outputs": [
    {
     "data": {
      "text/plain": [
       "  Alpha3Code CountryName  year     gdp\n",
       "0        ALB     Albania  2005  5160.0\n",
       "1        ALB     Albania  2006  5788.4\n",
       "2        ALB     Albania  2007  6719.9\n",
       "3        ALB     Albania  2008  7691.0\n",
       "4        ALB     Albania  2009  8101.3"
      ],
      "text/html": [
       "<div>\n",
       "<style scoped>\n",
       "    .dataframe tbody tr th:only-of-type {\n",
       "        vertical-align: middle;\n",
       "    }\n",
       "\n",
       "    .dataframe tbody tr th {\n",
       "        vertical-align: top;\n",
       "    }\n",
       "\n",
       "    .dataframe thead th {\n",
       "        text-align: right;\n",
       "    }\n",
       "</style>\n",
       "<table border=\"1\" class=\"dataframe\">\n",
       "  <thead>\n",
       "    <tr style=\"text-align: right;\">\n",
       "      <th></th>\n",
       "      <th>Alpha3Code</th>\n",
       "      <th>CountryName</th>\n",
       "      <th>year</th>\n",
       "      <th>gdp</th>\n",
       "    </tr>\n",
       "  </thead>\n",
       "  <tbody>\n",
       "    <tr>\n",
       "      <th>0</th>\n",
       "      <td>ALB</td>\n",
       "      <td>Albania</td>\n",
       "      <td>2005</td>\n",
       "      <td>5160.0</td>\n",
       "    </tr>\n",
       "    <tr>\n",
       "      <th>1</th>\n",
       "      <td>ALB</td>\n",
       "      <td>Albania</td>\n",
       "      <td>2006</td>\n",
       "      <td>5788.4</td>\n",
       "    </tr>\n",
       "    <tr>\n",
       "      <th>2</th>\n",
       "      <td>ALB</td>\n",
       "      <td>Albania</td>\n",
       "      <td>2007</td>\n",
       "      <td>6719.9</td>\n",
       "    </tr>\n",
       "    <tr>\n",
       "      <th>3</th>\n",
       "      <td>ALB</td>\n",
       "      <td>Albania</td>\n",
       "      <td>2008</td>\n",
       "      <td>7691.0</td>\n",
       "    </tr>\n",
       "    <tr>\n",
       "      <th>4</th>\n",
       "      <td>ALB</td>\n",
       "      <td>Albania</td>\n",
       "      <td>2009</td>\n",
       "      <td>8101.3</td>\n",
       "    </tr>\n",
       "  </tbody>\n",
       "</table>\n",
       "</div>"
      ]
     },
     "execution_count": 120,
     "metadata": {},
     "output_type": "execute_result"
    }
   ],
   "execution_count": 120
  },
  {
   "cell_type": "code",
   "metadata": {
    "ExecuteTime": {
     "end_time": "2025-01-05T15:43:32.700446Z",
     "start_time": "2025-01-05T15:43:32.693933Z"
    }
   },
   "source": [
    "countries = pd.read_csv(\"../data/processed/europe_countries.csv\")\n",
    "iso3_europe_all = set(countries[\"ISO3 Code\"])"
   ],
   "outputs": [],
   "execution_count": 121
  },
  {
   "cell_type": "code",
   "metadata": {
    "ExecuteTime": {
     "end_time": "2025-01-05T15:43:32.801623Z",
     "start_time": "2025-01-05T15:43:32.797614Z"
    }
   },
   "source": [
    "iso3_europe_gdp = set(gdp[\"Alpha3Code\"])"
   ],
   "outputs": [],
   "execution_count": 122
  },
  {
   "cell_type": "code",
   "metadata": {
    "ExecuteTime": {
     "end_time": "2025-01-05T15:43:32.904561Z",
     "start_time": "2025-01-05T15:43:32.899079Z"
    }
   },
   "source": [
    "len(iso3_europe_gdp)"
   ],
   "outputs": [
    {
     "data": {
      "text/plain": [
       "55"
      ]
     },
     "execution_count": 123,
     "metadata": {},
     "output_type": "execute_result"
    }
   ],
   "execution_count": 123
  },
  {
   "cell_type": "code",
   "metadata": {
    "ExecuteTime": {
     "end_time": "2025-01-05T15:43:33.045655Z",
     "start_time": "2025-01-05T15:43:33.040767Z"
    }
   },
   "source": [
    "iso3_europe_gdp-iso3_europe_all"
   ],
   "outputs": [
    {
     "data": {
      "text/plain": [
       "{'ARM', 'AZE', 'CAN', 'ISR', 'KAZ', 'KGZ', 'TJK', 'TKM', 'USA', 'UZB'}"
      ]
     },
     "execution_count": 124,
     "metadata": {},
     "output_type": "execute_result"
    }
   ],
   "execution_count": 124
  },
  {
   "cell_type": "code",
   "metadata": {
    "ExecuteTime": {
     "end_time": "2025-01-05T15:43:33.221153Z",
     "start_time": "2025-01-05T15:43:33.215614Z"
    }
   },
   "source": "df = gdp[gdp[\"Alpha3Code\"].isin(iso3_europe_all)]",
   "outputs": [],
   "execution_count": 125
  },
  {
   "cell_type": "code",
   "metadata": {
    "ExecuteTime": {
     "end_time": "2025-01-05T15:43:33.355611Z",
     "start_time": "2025-01-05T15:43:33.351615Z"
    }
   },
   "source": "#showAustria = gdp[gdp['Alpha3Code']==\"AUT\"]",
   "outputs": [],
   "execution_count": 126
  },
  {
   "cell_type": "code",
   "metadata": {
    "ExecuteTime": {
     "end_time": "2025-01-05T15:43:33.389566Z",
     "start_time": "2025-01-05T15:43:33.386518Z"
    }
   },
   "source": "#showAustria.head(20)",
   "outputs": [],
   "execution_count": 127
  },
  {
   "cell_type": "code",
   "metadata": {
    "ExecuteTime": {
     "end_time": "2025-01-05T15:43:33.466771Z",
     "start_time": "2025-01-05T15:43:33.463634Z"
    }
   },
   "source": [
    "\n",
    "# Example: pivot so that rows are identified by CountryName (and possibly other columns),\n",
    "# columns are the PeriodCode (years), and values are the GDP.\n",
    "#df_pivoted = gdp.pivot(\n",
    " #   index=[\"Alpha3Code\", \"CountryName\"],\n",
    " #   columns=\"PeriodCode\",\n",
    " #   values=\"Value\"\n",
    "#).reset_index()\n",
    "\n",
    "# If you prefer not to reset the index, you can omit .reset_index() \n",
    "# and keep Alpha3Code and CountryName as your row index.\n"
   ],
   "outputs": [],
   "execution_count": 128
  },
  {
   "cell_type": "code",
   "metadata": {
    "ExecuteTime": {
     "end_time": "2025-01-05T15:43:33.518598Z",
     "start_time": "2025-01-05T15:43:33.514654Z"
    }
   },
   "source": "#df_pivoted.head(30)",
   "outputs": [],
   "execution_count": 129
  },
  {
   "cell_type": "code",
   "metadata": {
    "ExecuteTime": {
     "end_time": "2025-01-05T15:43:33.559554Z",
     "start_time": "2025-01-05T15:43:33.555661Z"
    }
   },
   "source": "#df_pivoted = df_pivoted.drop(labels=[\"PeriodCode\"], axis=1)",
   "outputs": [],
   "execution_count": 130
  },
  {
   "cell_type": "code",
   "metadata": {
    "ExecuteTime": {
     "end_time": "2025-01-05T15:43:33.625182Z",
     "start_time": "2025-01-05T15:43:33.621677Z"
    }
   },
   "source": "#df = pd.read_csv(\"../data/processed/gdp.csv\")",
   "outputs": [],
   "execution_count": 131
  },
  {
   "cell_type": "code",
   "metadata": {
    "ExecuteTime": {
     "end_time": "2025-01-05T15:43:33.662063Z",
     "start_time": "2025-01-05T15:43:33.658554Z"
    }
   },
   "source": "#df = df.drop(labels=[\"Unnamed: 0\"], axis=1)",
   "outputs": [],
   "execution_count": 132
  },
  {
   "cell_type": "code",
   "metadata": {
    "ExecuteTime": {
     "end_time": "2025-01-05T15:43:33.686028Z",
     "start_time": "2025-01-05T15:43:33.682066Z"
    }
   },
   "source": "#df.head()",
   "outputs": [],
   "execution_count": 133
  },
  {
   "cell_type": "code",
   "metadata": {
    "ExecuteTime": {
     "end_time": "2025-01-05T15:43:33.733679Z",
     "start_time": "2025-01-05T15:43:33.726163Z"
    }
   },
   "source": [
    "df.to_csv(\"../data/processed/gdp.csv\")"
   ],
   "outputs": [],
   "execution_count": 134
  },
  {
   "cell_type": "code",
   "metadata": {
    "ExecuteTime": {
     "end_time": "2025-01-05T15:43:33.755886Z",
     "start_time": "2025-01-05T15:43:33.748701Z"
    }
   },
   "source": [
    "df.info()"
   ],
   "outputs": [
    {
     "name": "stdout",
     "output_type": "stream",
     "text": [
      "<class 'pandas.core.frame.DataFrame'>\n",
      "Index: 855 entries, 0 to 1006\n",
      "Data columns (total 4 columns):\n",
      " #   Column       Non-Null Count  Dtype \n",
      "---  ------       --------------  ----- \n",
      " 0   Alpha3Code   855 non-null    object\n",
      " 1   CountryName  855 non-null    object\n",
      " 2   year         855 non-null    int64 \n",
      " 3   gdp          855 non-null    object\n",
      "dtypes: int64(1), object(3)\n",
      "memory usage: 33.4+ KB\n"
     ]
    }
   ],
   "execution_count": 135
  },
  {
   "cell_type": "code",
   "metadata": {
    "ExecuteTime": {
     "end_time": "2025-01-05T15:43:33.795145Z",
     "start_time": "2025-01-05T15:43:33.788685Z"
    }
   },
   "source": [
    "df.count(numeric_only=True)"
   ],
   "outputs": [
    {
     "data": {
      "text/plain": [
       "year    855\n",
       "dtype: int64"
      ]
     },
     "execution_count": 136,
     "metadata": {},
     "output_type": "execute_result"
    }
   ],
   "execution_count": 136
  },
  {
   "cell_type": "code",
   "metadata": {
    "ExecuteTime": {
     "end_time": "2025-01-05T15:43:33.884769Z",
     "start_time": "2025-01-05T15:43:33.823910Z"
    }
   },
   "source": [
    "x = df[\"2022\"][2]\n",
    "\n",
    "print(x)\n",
    "\n",
    "print(type(x))\n",
    "\n",
    "def is_number(s):\n",
    "    try:\n",
    "        float(s)\n",
    "        return True\n",
    "    except ValueError:\n",
    "        return False\n",
    "    \n",
    "len(df.columns)\n",
    "\n",
    "\n",
    "# Apply the is_number function to each element\n",
    "numeric_mask = df.applymap(is_number)\n",
    "\n",
    "# Replace non-numeric values with NaN for clarity (optional)\n",
    "#numeric_values = df.where(numeric_mask)\n",
    "\n",
    "print(\"Numeric Values per Row:\")\n",
    "print(numeric_mask)\n",
    "\n"
   ],
   "outputs": [
    {
     "ename": "KeyError",
     "evalue": "'2022'",
     "output_type": "error",
     "traceback": [
      "\u001B[1;31m---------------------------------------------------------------------------\u001B[0m",
      "\u001B[1;31mKeyError\u001B[0m                                  Traceback (most recent call last)",
      "File \u001B[1;32mC:\\Data Science\\Module\\Dataoriented programming paradigms\\Exercise_2\\DOPP_Exercise2\\.venv\\Lib\\site-packages\\pandas\\core\\indexes\\base.py:3805\u001B[0m, in \u001B[0;36mIndex.get_loc\u001B[1;34m(self, key)\u001B[0m\n\u001B[0;32m   3804\u001B[0m \u001B[38;5;28;01mtry\u001B[39;00m:\n\u001B[1;32m-> 3805\u001B[0m     \u001B[38;5;28;01mreturn\u001B[39;00m \u001B[38;5;28;43mself\u001B[39;49m\u001B[38;5;241;43m.\u001B[39;49m\u001B[43m_engine\u001B[49m\u001B[38;5;241;43m.\u001B[39;49m\u001B[43mget_loc\u001B[49m\u001B[43m(\u001B[49m\u001B[43mcasted_key\u001B[49m\u001B[43m)\u001B[49m\n\u001B[0;32m   3806\u001B[0m \u001B[38;5;28;01mexcept\u001B[39;00m \u001B[38;5;167;01mKeyError\u001B[39;00m \u001B[38;5;28;01mas\u001B[39;00m err:\n",
      "File \u001B[1;32mindex.pyx:167\u001B[0m, in \u001B[0;36mpandas._libs.index.IndexEngine.get_loc\u001B[1;34m()\u001B[0m\n",
      "File \u001B[1;32mindex.pyx:196\u001B[0m, in \u001B[0;36mpandas._libs.index.IndexEngine.get_loc\u001B[1;34m()\u001B[0m\n",
      "File \u001B[1;32mpandas\\\\_libs\\\\hashtable_class_helper.pxi:7081\u001B[0m, in \u001B[0;36mpandas._libs.hashtable.PyObjectHashTable.get_item\u001B[1;34m()\u001B[0m\n",
      "File \u001B[1;32mpandas\\\\_libs\\\\hashtable_class_helper.pxi:7089\u001B[0m, in \u001B[0;36mpandas._libs.hashtable.PyObjectHashTable.get_item\u001B[1;34m()\u001B[0m\n",
      "\u001B[1;31mKeyError\u001B[0m: '2022'",
      "\nThe above exception was the direct cause of the following exception:\n",
      "\u001B[1;31mKeyError\u001B[0m                                  Traceback (most recent call last)",
      "Cell \u001B[1;32mIn[137], line 1\u001B[0m\n\u001B[1;32m----> 1\u001B[0m x \u001B[38;5;241m=\u001B[39m \u001B[43mdf\u001B[49m\u001B[43m[\u001B[49m\u001B[38;5;124;43m\"\u001B[39;49m\u001B[38;5;124;43m2022\u001B[39;49m\u001B[38;5;124;43m\"\u001B[39;49m\u001B[43m]\u001B[49m[\u001B[38;5;241m2\u001B[39m]\n\u001B[0;32m      3\u001B[0m \u001B[38;5;28mprint\u001B[39m(x)\n\u001B[0;32m      5\u001B[0m \u001B[38;5;28mprint\u001B[39m(\u001B[38;5;28mtype\u001B[39m(x))\n",
      "File \u001B[1;32mC:\\Data Science\\Module\\Dataoriented programming paradigms\\Exercise_2\\DOPP_Exercise2\\.venv\\Lib\\site-packages\\pandas\\core\\frame.py:4102\u001B[0m, in \u001B[0;36mDataFrame.__getitem__\u001B[1;34m(self, key)\u001B[0m\n\u001B[0;32m   4100\u001B[0m \u001B[38;5;28;01mif\u001B[39;00m \u001B[38;5;28mself\u001B[39m\u001B[38;5;241m.\u001B[39mcolumns\u001B[38;5;241m.\u001B[39mnlevels \u001B[38;5;241m>\u001B[39m \u001B[38;5;241m1\u001B[39m:\n\u001B[0;32m   4101\u001B[0m     \u001B[38;5;28;01mreturn\u001B[39;00m \u001B[38;5;28mself\u001B[39m\u001B[38;5;241m.\u001B[39m_getitem_multilevel(key)\n\u001B[1;32m-> 4102\u001B[0m indexer \u001B[38;5;241m=\u001B[39m \u001B[38;5;28;43mself\u001B[39;49m\u001B[38;5;241;43m.\u001B[39;49m\u001B[43mcolumns\u001B[49m\u001B[38;5;241;43m.\u001B[39;49m\u001B[43mget_loc\u001B[49m\u001B[43m(\u001B[49m\u001B[43mkey\u001B[49m\u001B[43m)\u001B[49m\n\u001B[0;32m   4103\u001B[0m \u001B[38;5;28;01mif\u001B[39;00m is_integer(indexer):\n\u001B[0;32m   4104\u001B[0m     indexer \u001B[38;5;241m=\u001B[39m [indexer]\n",
      "File \u001B[1;32mC:\\Data Science\\Module\\Dataoriented programming paradigms\\Exercise_2\\DOPP_Exercise2\\.venv\\Lib\\site-packages\\pandas\\core\\indexes\\base.py:3812\u001B[0m, in \u001B[0;36mIndex.get_loc\u001B[1;34m(self, key)\u001B[0m\n\u001B[0;32m   3807\u001B[0m     \u001B[38;5;28;01mif\u001B[39;00m \u001B[38;5;28misinstance\u001B[39m(casted_key, \u001B[38;5;28mslice\u001B[39m) \u001B[38;5;129;01mor\u001B[39;00m (\n\u001B[0;32m   3808\u001B[0m         \u001B[38;5;28misinstance\u001B[39m(casted_key, abc\u001B[38;5;241m.\u001B[39mIterable)\n\u001B[0;32m   3809\u001B[0m         \u001B[38;5;129;01mand\u001B[39;00m \u001B[38;5;28many\u001B[39m(\u001B[38;5;28misinstance\u001B[39m(x, \u001B[38;5;28mslice\u001B[39m) \u001B[38;5;28;01mfor\u001B[39;00m x \u001B[38;5;129;01min\u001B[39;00m casted_key)\n\u001B[0;32m   3810\u001B[0m     ):\n\u001B[0;32m   3811\u001B[0m         \u001B[38;5;28;01mraise\u001B[39;00m InvalidIndexError(key)\n\u001B[1;32m-> 3812\u001B[0m     \u001B[38;5;28;01mraise\u001B[39;00m \u001B[38;5;167;01mKeyError\u001B[39;00m(key) \u001B[38;5;28;01mfrom\u001B[39;00m \u001B[38;5;21;01merr\u001B[39;00m\n\u001B[0;32m   3813\u001B[0m \u001B[38;5;28;01mexcept\u001B[39;00m \u001B[38;5;167;01mTypeError\u001B[39;00m:\n\u001B[0;32m   3814\u001B[0m     \u001B[38;5;66;03m# If we have a listlike key, _check_indexing_error will raise\u001B[39;00m\n\u001B[0;32m   3815\u001B[0m     \u001B[38;5;66;03m#  InvalidIndexError. Otherwise we fall through and re-raise\u001B[39;00m\n\u001B[0;32m   3816\u001B[0m     \u001B[38;5;66;03m#  the TypeError.\u001B[39;00m\n\u001B[0;32m   3817\u001B[0m     \u001B[38;5;28mself\u001B[39m\u001B[38;5;241m.\u001B[39m_check_indexing_error(key)\n",
      "\u001B[1;31mKeyError\u001B[0m: '2022'"
     ]
    }
   ],
   "execution_count": 137
  },
  {
   "cell_type": "code",
   "execution_count": 182,
   "metadata": {},
   "outputs": [],
   "source": [
    "columns = df.columns\n",
    "\n",
    "numeric_col = []\n",
    "\n",
    "for v in range(len(columns)):\n",
    "    if(is_number(columns[v])):\n",
    "        numeric_col.append(columns[v]) "
   ]
  },
  {
   "cell_type": "code",
   "execution_count": 183,
   "metadata": {},
   "outputs": [
    {
     "name": "stdout",
     "output_type": "stream",
     "text": [
      "['2005', '2006', '2007', '2008', '2009', '2010', '2011', '2012', '2013', '2014', '2015', '2016', '2017', '2018', '2019', '2020', '2021', '2022', '2023']\n"
     ]
    }
   ],
   "source": [
    "print(numeric_col)"
   ]
  },
  {
   "cell_type": "code",
   "execution_count": 191,
   "metadata": {},
   "outputs": [],
   "source": [
    "\n",
    "# Replace non-numeric values with NaN for clarity (optional)\n",
    "df[numeric_col] = df[numeric_col].where(numeric_mask)"
   ]
  },
  {
   "cell_type": "code",
   "execution_count": 195,
   "metadata": {},
   "outputs": [
    {
     "data": {
      "text/plain": [
       "Alpha3Code      0\n",
       "CountryName     0\n",
       "2005            6\n",
       "2006            4\n",
       "2007            4\n",
       "2008            4\n",
       "2009            3\n",
       "2010            0\n",
       "2011            0\n",
       "2012            0\n",
       "2013            0\n",
       "2014            1\n",
       "2015            1\n",
       "2016            1\n",
       "2017            1\n",
       "2018            3\n",
       "2019            3\n",
       "2020            3\n",
       "2021            3\n",
       "2022            6\n",
       "2023           11\n",
       "dtype: int64"
      ]
     },
     "execution_count": 195,
     "metadata": {},
     "output_type": "execute_result"
    }
   ],
   "source": [
    "df.isna().sum()"
   ]
  },
  {
   "cell_type": "code",
   "execution_count": 203,
   "metadata": {},
   "outputs": [
    {
     "name": "stdout",
     "output_type": "stream",
     "text": [
      "<class 'pandas.core.frame.DataFrame'>\n",
      "RangeIndex: 45 entries, 0 to 44\n",
      "Data columns (total 21 columns):\n",
      " #   Column       Non-Null Count  Dtype  \n",
      "---  ------       --------------  -----  \n",
      " 0   Alpha3Code   45 non-null     object \n",
      " 1   CountryName  45 non-null     object \n",
      " 2   2005         39 non-null     float64\n",
      " 3   2006         41 non-null     float64\n",
      " 4   2007         41 non-null     float64\n",
      " 5   2008         41 non-null     float64\n",
      " 6   2009         42 non-null     float64\n",
      " 7   2010         45 non-null     float64\n",
      " 8   2011         45 non-null     float64\n",
      " 9   2012         45 non-null     float64\n",
      " 10  2013         45 non-null     float64\n",
      " 11  2014         44 non-null     float64\n",
      " 12  2015         44 non-null     float64\n",
      " 13  2016         44 non-null     float64\n",
      " 14  2017         44 non-null     float64\n",
      " 15  2018         42 non-null     float64\n",
      " 16  2019         42 non-null     float64\n",
      " 17  2020         42 non-null     float64\n",
      " 18  2021         42 non-null     float64\n",
      " 19  2022         39 non-null     float64\n",
      " 20  2023         34 non-null     float64\n",
      "dtypes: float64(19), object(2)\n",
      "memory usage: 7.5+ KB\n"
     ]
    }
   ],
   "source": [
    "df.info()"
   ]
  },
  {
   "cell_type": "code",
   "execution_count": 204,
   "metadata": {},
   "outputs": [],
   "source": [
    "df[numeric_col] = df[numeric_col].astype(float)"
   ]
  },
  {
   "cell_type": "code",
   "execution_count": 206,
   "metadata": {},
   "outputs": [
    {
     "data": {
      "text/html": [
       "<div>\n",
       "<style scoped>\n",
       "    .dataframe tbody tr th:only-of-type {\n",
       "        vertical-align: middle;\n",
       "    }\n",
       "\n",
       "    .dataframe tbody tr th {\n",
       "        vertical-align: top;\n",
       "    }\n",
       "\n",
       "    .dataframe thead th {\n",
       "        text-align: right;\n",
       "    }\n",
       "</style>\n",
       "<table border=\"1\" class=\"dataframe\">\n",
       "  <thead>\n",
       "    <tr style=\"text-align: right;\">\n",
       "      <th></th>\n",
       "      <th>Alpha3Code</th>\n",
       "      <th>CountryName</th>\n",
       "      <th>2005</th>\n",
       "      <th>2006</th>\n",
       "      <th>2007</th>\n",
       "      <th>2008</th>\n",
       "      <th>2009</th>\n",
       "      <th>2010</th>\n",
       "      <th>2011</th>\n",
       "      <th>2012</th>\n",
       "      <th>...</th>\n",
       "      <th>2014</th>\n",
       "      <th>2015</th>\n",
       "      <th>2016</th>\n",
       "      <th>2017</th>\n",
       "      <th>2018</th>\n",
       "      <th>2019</th>\n",
       "      <th>2020</th>\n",
       "      <th>2021</th>\n",
       "      <th>2022</th>\n",
       "      <th>2023</th>\n",
       "    </tr>\n",
       "  </thead>\n",
       "  <tbody>\n",
       "    <tr>\n",
       "      <th>0</th>\n",
       "      <td>ALB</td>\n",
       "      <td>Albania</td>\n",
       "      <td>5160.0</td>\n",
       "      <td>5788.4</td>\n",
       "      <td>6719.9</td>\n",
       "      <td>7691.0</td>\n",
       "      <td>8101.3</td>\n",
       "      <td>8593.4</td>\n",
       "      <td>9112.3</td>\n",
       "      <td>9348.1</td>\n",
       "      <td>...</td>\n",
       "      <td>10384.7</td>\n",
       "      <td>10702.7</td>\n",
       "      <td>11139.9</td>\n",
       "      <td>11634.1</td>\n",
       "      <td>12200.7</td>\n",
       "      <td>13049.6</td>\n",
       "      <td>12802.1</td>\n",
       "      <td>13823.8</td>\n",
       "      <td>NaN</td>\n",
       "      <td>NaN</td>\n",
       "    </tr>\n",
       "    <tr>\n",
       "      <th>1</th>\n",
       "      <td>AND</td>\n",
       "      <td>Andorra</td>\n",
       "      <td>NaN</td>\n",
       "      <td>NaN</td>\n",
       "      <td>NaN</td>\n",
       "      <td>NaN</td>\n",
       "      <td>30731.8</td>\n",
       "      <td>34307.9</td>\n",
       "      <td>34616.4</td>\n",
       "      <td>34791.7</td>\n",
       "      <td>...</td>\n",
       "      <td>33753.2</td>\n",
       "      <td>33769.2</td>\n",
       "      <td>36869.9</td>\n",
       "      <td>38152.5</td>\n",
       "      <td>41032.1</td>\n",
       "      <td>42629.2</td>\n",
       "      <td>42750.7</td>\n",
       "      <td>48357.6</td>\n",
       "      <td>NaN</td>\n",
       "      <td>NaN</td>\n",
       "    </tr>\n",
       "    <tr>\n",
       "      <th>2</th>\n",
       "      <td>AUT</td>\n",
       "      <td>Austria</td>\n",
       "      <td>25396.4</td>\n",
       "      <td>27041.6</td>\n",
       "      <td>27668.2</td>\n",
       "      <td>29138.7</td>\n",
       "      <td>30057.8</td>\n",
       "      <td>30861.4</td>\n",
       "      <td>32290.0</td>\n",
       "      <td>33796.6</td>\n",
       "      <td>...</td>\n",
       "      <td>35274.6</td>\n",
       "      <td>35900.8</td>\n",
       "      <td>37613.2</td>\n",
       "      <td>38740.6</td>\n",
       "      <td>40263.1</td>\n",
       "      <td>42719.9</td>\n",
       "      <td>41492.7</td>\n",
       "      <td>45455.4</td>\n",
       "      <td>50773.4</td>\n",
       "      <td>53176.5</td>\n",
       "    </tr>\n",
       "    <tr>\n",
       "      <th>3</th>\n",
       "      <td>BEL</td>\n",
       "      <td>Belgium</td>\n",
       "      <td>23981.8</td>\n",
       "      <td>25381.8</td>\n",
       "      <td>26223.9</td>\n",
       "      <td>27802.7</td>\n",
       "      <td>28762.9</td>\n",
       "      <td>30326.2</td>\n",
       "      <td>31240.1</td>\n",
       "      <td>32583.7</td>\n",
       "      <td>...</td>\n",
       "      <td>34547.0</td>\n",
       "      <td>35010.4</td>\n",
       "      <td>36620.8</td>\n",
       "      <td>38035.4</td>\n",
       "      <td>39748.6</td>\n",
       "      <td>42452.0</td>\n",
       "      <td>41802.3</td>\n",
       "      <td>45593.7</td>\n",
       "      <td>51762.0</td>\n",
       "      <td>54326.5</td>\n",
       "    </tr>\n",
       "    <tr>\n",
       "      <th>4</th>\n",
       "      <td>BGR</td>\n",
       "      <td>Bulgaria</td>\n",
       "      <td>8851.2</td>\n",
       "      <td>9577.3</td>\n",
       "      <td>10763.3</td>\n",
       "      <td>11676.3</td>\n",
       "      <td>11094.6</td>\n",
       "      <td>11841.8</td>\n",
       "      <td>12358.4</td>\n",
       "      <td>13363.3</td>\n",
       "      <td>...</td>\n",
       "      <td>14326.7</td>\n",
       "      <td>14768.9</td>\n",
       "      <td>15791.4</td>\n",
       "      <td>16923.0</td>\n",
       "      <td>18332.2</td>\n",
       "      <td>20370.4</td>\n",
       "      <td>21172.9</td>\n",
       "      <td>23981.7</td>\n",
       "      <td>27111.7</td>\n",
       "      <td>29625.3</td>\n",
       "    </tr>\n",
       "  </tbody>\n",
       "</table>\n",
       "<p>5 rows × 21 columns</p>\n",
       "</div>"
      ],
      "text/plain": [
       "  Alpha3Code CountryName     2005     2006     2007     2008     2009  \\\n",
       "0        ALB     Albania   5160.0   5788.4   6719.9   7691.0   8101.3   \n",
       "1        AND     Andorra      NaN      NaN      NaN      NaN  30731.8   \n",
       "2        AUT     Austria  25396.4  27041.6  27668.2  29138.7  30057.8   \n",
       "3        BEL     Belgium  23981.8  25381.8  26223.9  27802.7  28762.9   \n",
       "4        BGR    Bulgaria   8851.2   9577.3  10763.3  11676.3  11094.6   \n",
       "\n",
       "      2010     2011     2012  ...     2014     2015     2016     2017  \\\n",
       "0   8593.4   9112.3   9348.1  ...  10384.7  10702.7  11139.9  11634.1   \n",
       "1  34307.9  34616.4  34791.7  ...  33753.2  33769.2  36869.9  38152.5   \n",
       "2  30861.4  32290.0  33796.6  ...  35274.6  35900.8  37613.2  38740.6   \n",
       "3  30326.2  31240.1  32583.7  ...  34547.0  35010.4  36620.8  38035.4   \n",
       "4  11841.8  12358.4  13363.3  ...  14326.7  14768.9  15791.4  16923.0   \n",
       "\n",
       "      2018     2019     2020     2021     2022     2023  \n",
       "0  12200.7  13049.6  12802.1  13823.8      NaN      NaN  \n",
       "1  41032.1  42629.2  42750.7  48357.6      NaN      NaN  \n",
       "2  40263.1  42719.9  41492.7  45455.4  50773.4  53176.5  \n",
       "3  39748.6  42452.0  41802.3  45593.7  51762.0  54326.5  \n",
       "4  18332.2  20370.4  21172.9  23981.7  27111.7  29625.3  \n",
       "\n",
       "[5 rows x 21 columns]"
      ]
     },
     "execution_count": 206,
     "metadata": {},
     "output_type": "execute_result"
    }
   ],
   "source": [
    "df.head()"
   ]
  },
  {
   "cell_type": "code",
   "execution_count": 208,
   "metadata": {},
   "outputs": [],
   "source": [
    "df.to_csv(\"../data/processed/gdp.csv\")"
   ]
  }
 ],
 "metadata": {
  "kernelspec": {
   "display_name": ".venv",
   "language": "python",
   "name": "python3"
  },
  "language_info": {
   "codemirror_mode": {
    "name": "ipython",
    "version": 3
   },
   "file_extension": ".py",
   "mimetype": "text/x-python",
   "name": "python",
   "nbconvert_exporter": "python",
   "pygments_lexer": "ipython3",
   "version": "3.10.12"
  }
 },
 "nbformat": 4,
 "nbformat_minor": 2
}
