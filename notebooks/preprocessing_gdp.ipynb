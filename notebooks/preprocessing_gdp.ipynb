{
 "cells": [
  {
   "cell_type": "code",
   "metadata": {
    "ExecuteTime": {
     "end_time": "2025-01-05T15:20:26.438752Z",
     "start_time": "2025-01-05T15:20:26.434885Z"
    }
   },
   "source": [
    "import pandas as pd\n",
    "import os   "
   ],
   "outputs": [],
   "execution_count": 51
  },
  {
   "cell_type": "code",
   "metadata": {
    "ExecuteTime": {
     "end_time": "2025-01-05T15:20:26.480802Z",
     "start_time": "2025-01-05T15:20:26.471707Z"
    }
   },
   "source": [
    "gdp = pd.read_csv(\"../data/raw/gdp.csv\")"
   ],
   "outputs": [],
   "execution_count": 52
  },
  {
   "cell_type": "code",
   "metadata": {
    "ExecuteTime": {
     "end_time": "2025-01-05T15:20:26.495735Z",
     "start_time": "2025-01-05T15:20:26.488202Z"
    }
   },
   "source": [
    "gdp.info()"
   ],
   "outputs": [
    {
     "name": "stdout",
     "output_type": "stream",
     "text": [
      "<class 'pandas.core.frame.DataFrame'>\n",
      "RangeIndex: 1045 entries, 0 to 1044\n",
      "Data columns (total 10 columns):\n",
      " #   Column           Non-Null Count  Dtype  \n",
      "---  ------           --------------  -----  \n",
      " 0   IndicatorCode    1045 non-null   int64  \n",
      " 1   IndicatorName    1045 non-null   object \n",
      " 2   VariableName     1045 non-null   object \n",
      " 3   MeasurementName  1045 non-null   object \n",
      " 4   CountryCode      1045 non-null   int64  \n",
      " 5   Alpha3Code       1045 non-null   object \n",
      " 6   CountryName      1045 non-null   object \n",
      " 7   PeriodCode       1045 non-null   int64  \n",
      " 8   Value            1045 non-null   object \n",
      " 9   Unnamed: 9       0 non-null      float64\n",
      "dtypes: float64(1), int64(3), object(6)\n",
      "memory usage: 81.8+ KB\n"
     ]
    }
   ],
   "execution_count": 53
  },
  {
   "cell_type": "code",
   "metadata": {
    "ExecuteTime": {
     "end_time": "2025-01-05T15:20:26.610580Z",
     "start_time": "2025-01-05T15:20:26.601003Z"
    }
   },
   "source": [
    "gdp.head()"
   ],
   "outputs": [
    {
     "data": {
      "text/plain": [
       "   IndicatorCode                                      IndicatorName  \\\n",
       "0              5  Final consumption expenditure per capita in US...   \n",
       "1              5  Final consumption expenditure per capita in US...   \n",
       "2              5  Final consumption expenditure per capita in US...   \n",
       "3              5  Final consumption expenditure per capita in US...   \n",
       "4              5  Final consumption expenditure per capita in US...   \n",
       "\n",
       "                    VariableName  \\\n",
       "0  Final consumption expenditure   \n",
       "1  Final consumption expenditure   \n",
       "2  Final consumption expenditure   \n",
       "3  Final consumption expenditure   \n",
       "4  Final consumption expenditure   \n",
       "\n",
       "                                     MeasurementName  CountryCode Alpha3Code  \\\n",
       "0  Per capita in USD adjusted by purchasing power...            8        ALB   \n",
       "1  Per capita in USD adjusted by purchasing power...            8        ALB   \n",
       "2  Per capita in USD adjusted by purchasing power...            8        ALB   \n",
       "3  Per capita in USD adjusted by purchasing power...            8        ALB   \n",
       "4  Per capita in USD adjusted by purchasing power...            8        ALB   \n",
       "\n",
       "  CountryName  PeriodCode   Value  Unnamed: 9  \n",
       "0     Albania        2005  5160.0         NaN  \n",
       "1     Albania        2006  5788.4         NaN  \n",
       "2     Albania        2007  6719.9         NaN  \n",
       "3     Albania        2008  7691.0         NaN  \n",
       "4     Albania        2009  8101.3         NaN  "
      ],
      "text/html": [
       "<div>\n",
       "<style scoped>\n",
       "    .dataframe tbody tr th:only-of-type {\n",
       "        vertical-align: middle;\n",
       "    }\n",
       "\n",
       "    .dataframe tbody tr th {\n",
       "        vertical-align: top;\n",
       "    }\n",
       "\n",
       "    .dataframe thead th {\n",
       "        text-align: right;\n",
       "    }\n",
       "</style>\n",
       "<table border=\"1\" class=\"dataframe\">\n",
       "  <thead>\n",
       "    <tr style=\"text-align: right;\">\n",
       "      <th></th>\n",
       "      <th>IndicatorCode</th>\n",
       "      <th>IndicatorName</th>\n",
       "      <th>VariableName</th>\n",
       "      <th>MeasurementName</th>\n",
       "      <th>CountryCode</th>\n",
       "      <th>Alpha3Code</th>\n",
       "      <th>CountryName</th>\n",
       "      <th>PeriodCode</th>\n",
       "      <th>Value</th>\n",
       "      <th>Unnamed: 9</th>\n",
       "    </tr>\n",
       "  </thead>\n",
       "  <tbody>\n",
       "    <tr>\n",
       "      <th>0</th>\n",
       "      <td>5</td>\n",
       "      <td>Final consumption expenditure per capita in US...</td>\n",
       "      <td>Final consumption expenditure</td>\n",
       "      <td>Per capita in USD adjusted by purchasing power...</td>\n",
       "      <td>8</td>\n",
       "      <td>ALB</td>\n",
       "      <td>Albania</td>\n",
       "      <td>2005</td>\n",
       "      <td>5160.0</td>\n",
       "      <td>NaN</td>\n",
       "    </tr>\n",
       "    <tr>\n",
       "      <th>1</th>\n",
       "      <td>5</td>\n",
       "      <td>Final consumption expenditure per capita in US...</td>\n",
       "      <td>Final consumption expenditure</td>\n",
       "      <td>Per capita in USD adjusted by purchasing power...</td>\n",
       "      <td>8</td>\n",
       "      <td>ALB</td>\n",
       "      <td>Albania</td>\n",
       "      <td>2006</td>\n",
       "      <td>5788.4</td>\n",
       "      <td>NaN</td>\n",
       "    </tr>\n",
       "    <tr>\n",
       "      <th>2</th>\n",
       "      <td>5</td>\n",
       "      <td>Final consumption expenditure per capita in US...</td>\n",
       "      <td>Final consumption expenditure</td>\n",
       "      <td>Per capita in USD adjusted by purchasing power...</td>\n",
       "      <td>8</td>\n",
       "      <td>ALB</td>\n",
       "      <td>Albania</td>\n",
       "      <td>2007</td>\n",
       "      <td>6719.9</td>\n",
       "      <td>NaN</td>\n",
       "    </tr>\n",
       "    <tr>\n",
       "      <th>3</th>\n",
       "      <td>5</td>\n",
       "      <td>Final consumption expenditure per capita in US...</td>\n",
       "      <td>Final consumption expenditure</td>\n",
       "      <td>Per capita in USD adjusted by purchasing power...</td>\n",
       "      <td>8</td>\n",
       "      <td>ALB</td>\n",
       "      <td>Albania</td>\n",
       "      <td>2008</td>\n",
       "      <td>7691.0</td>\n",
       "      <td>NaN</td>\n",
       "    </tr>\n",
       "    <tr>\n",
       "      <th>4</th>\n",
       "      <td>5</td>\n",
       "      <td>Final consumption expenditure per capita in US...</td>\n",
       "      <td>Final consumption expenditure</td>\n",
       "      <td>Per capita in USD adjusted by purchasing power...</td>\n",
       "      <td>8</td>\n",
       "      <td>ALB</td>\n",
       "      <td>Albania</td>\n",
       "      <td>2009</td>\n",
       "      <td>8101.3</td>\n",
       "      <td>NaN</td>\n",
       "    </tr>\n",
       "  </tbody>\n",
       "</table>\n",
       "</div>"
      ]
     },
     "execution_count": 54,
     "metadata": {},
     "output_type": "execute_result"
    }
   ],
   "execution_count": 54
  },
  {
   "cell_type": "code",
   "metadata": {
    "ExecuteTime": {
     "end_time": "2025-01-05T15:20:26.676871Z",
     "start_time": "2025-01-05T15:20:26.672495Z"
    }
   },
   "source": "gdp = gdp.drop(labels=[\"IndicatorCode\", \"CountryCode\", \"Unnamed: 9\", \"IndicatorName\", \"VariableName\", \"MeasurementName\" ], axis=1)",
   "outputs": [],
   "execution_count": 55
  },
  {
   "cell_type": "code",
   "metadata": {
    "ExecuteTime": {
     "end_time": "2025-01-05T15:20:26.752827Z",
     "start_time": "2025-01-05T15:20:26.743013Z"
    }
   },
   "source": "gdp.head()",
   "outputs": [
    {
     "data": {
      "text/plain": [
       "  Alpha3Code CountryName  PeriodCode   Value\n",
       "0        ALB     Albania        2005  5160.0\n",
       "1        ALB     Albania        2006  5788.4\n",
       "2        ALB     Albania        2007  6719.9\n",
       "3        ALB     Albania        2008  7691.0\n",
       "4        ALB     Albania        2009  8101.3"
      ],
      "text/html": [
       "<div>\n",
       "<style scoped>\n",
       "    .dataframe tbody tr th:only-of-type {\n",
       "        vertical-align: middle;\n",
       "    }\n",
       "\n",
       "    .dataframe tbody tr th {\n",
       "        vertical-align: top;\n",
       "    }\n",
       "\n",
       "    .dataframe thead th {\n",
       "        text-align: right;\n",
       "    }\n",
       "</style>\n",
       "<table border=\"1\" class=\"dataframe\">\n",
       "  <thead>\n",
       "    <tr style=\"text-align: right;\">\n",
       "      <th></th>\n",
       "      <th>Alpha3Code</th>\n",
       "      <th>CountryName</th>\n",
       "      <th>PeriodCode</th>\n",
       "      <th>Value</th>\n",
       "    </tr>\n",
       "  </thead>\n",
       "  <tbody>\n",
       "    <tr>\n",
       "      <th>0</th>\n",
       "      <td>ALB</td>\n",
       "      <td>Albania</td>\n",
       "      <td>2005</td>\n",
       "      <td>5160.0</td>\n",
       "    </tr>\n",
       "    <tr>\n",
       "      <th>1</th>\n",
       "      <td>ALB</td>\n",
       "      <td>Albania</td>\n",
       "      <td>2006</td>\n",
       "      <td>5788.4</td>\n",
       "    </tr>\n",
       "    <tr>\n",
       "      <th>2</th>\n",
       "      <td>ALB</td>\n",
       "      <td>Albania</td>\n",
       "      <td>2007</td>\n",
       "      <td>6719.9</td>\n",
       "    </tr>\n",
       "    <tr>\n",
       "      <th>3</th>\n",
       "      <td>ALB</td>\n",
       "      <td>Albania</td>\n",
       "      <td>2008</td>\n",
       "      <td>7691.0</td>\n",
       "    </tr>\n",
       "    <tr>\n",
       "      <th>4</th>\n",
       "      <td>ALB</td>\n",
       "      <td>Albania</td>\n",
       "      <td>2009</td>\n",
       "      <td>8101.3</td>\n",
       "    </tr>\n",
       "  </tbody>\n",
       "</table>\n",
       "</div>"
      ]
     },
     "execution_count": 56,
     "metadata": {},
     "output_type": "execute_result"
    }
   ],
   "execution_count": 56
  },
  {
   "cell_type": "code",
   "metadata": {
    "ExecuteTime": {
     "end_time": "2025-01-05T15:20:26.854098Z",
     "start_time": "2025-01-05T15:20:26.848068Z"
    }
   },
   "source": [
    "countries = pd.read_csv(\"../data/processed/europe_countries.csv\")\n",
    "iso3_europe_all = set(countries[\"ISO3 Code\"])"
   ],
   "outputs": [],
   "execution_count": 57
  },
  {
   "cell_type": "code",
   "metadata": {
    "ExecuteTime": {
     "end_time": "2025-01-05T15:20:26.958243Z",
     "start_time": "2025-01-05T15:20:26.954007Z"
    }
   },
   "source": [
    "iso3_europe_gdp = set(gdp[\"Alpha3Code\"])"
   ],
   "outputs": [],
   "execution_count": 58
  },
  {
   "cell_type": "code",
   "metadata": {
    "ExecuteTime": {
     "end_time": "2025-01-05T15:20:27.059910Z",
     "start_time": "2025-01-05T15:20:27.054900Z"
    }
   },
   "source": [
    "len(iso3_europe_gdp)"
   ],
   "outputs": [
    {
     "data": {
      "text/plain": [
       "55"
      ]
     },
     "execution_count": 59,
     "metadata": {},
     "output_type": "execute_result"
    }
   ],
   "execution_count": 59
  },
  {
   "cell_type": "code",
   "metadata": {
    "ExecuteTime": {
     "end_time": "2025-01-05T15:20:27.133324Z",
     "start_time": "2025-01-05T15:20:27.128304Z"
    }
   },
   "source": [
    "iso3_europe_gdp-iso3_europe_all"
   ],
   "outputs": [
    {
     "data": {
      "text/plain": [
       "{'ARM', 'AZE', 'CAN', 'ISR', 'KAZ', 'KGZ', 'TJK', 'TKM', 'USA', 'UZB'}"
      ]
     },
     "execution_count": 60,
     "metadata": {},
     "output_type": "execute_result"
    }
   ],
   "execution_count": 60
  },
  {
   "cell_type": "code",
   "metadata": {
    "ExecuteTime": {
     "end_time": "2025-01-05T15:20:27.182936Z",
     "start_time": "2025-01-05T15:20:27.179286Z"
    }
   },
   "source": [
    "gdp = gdp[gdp[\"Alpha3Code\"].isin(iso3_europe_all)]\n",
    "gdp.rename(columns={\"PeriodCode\": \"year\", \"Value\": \"gdp\"}, inplace=True)\n",
    "df_pivoted = gdp"
   ],
   "outputs": [],
   "execution_count": 61
  },
  {
   "cell_type": "code",
   "metadata": {
    "ExecuteTime": {
     "end_time": "2025-01-05T15:20:27.254980Z",
     "start_time": "2025-01-05T15:20:27.251533Z"
    }
   },
   "source": "#showAustria = gdp[gdp['Alpha3Code']==\"AUT\"]",
   "outputs": [],
   "execution_count": 62
  },
  {
   "cell_type": "code",
   "metadata": {
    "ExecuteTime": {
     "end_time": "2025-01-05T15:20:27.346266Z",
     "start_time": "2025-01-05T15:20:27.343014Z"
    }
   },
   "source": "#showAustria.head(20)",
   "outputs": [],
   "execution_count": 63
  },
  {
   "cell_type": "code",
   "metadata": {
    "ExecuteTime": {
     "end_time": "2025-01-05T15:20:27.469585Z",
     "start_time": "2025-01-05T15:20:27.466189Z"
    }
   },
   "source": [
    "\n",
    "# Example: pivot so that rows are identified by CountryName (and possibly other columns),\n",
    "# columns are the PeriodCode (years), and values are the GDP.\n",
    "#df_pivoted = gdp.pivot(\n",
    "#    index=[\"Alpha3Code\", \"CountryName\"],\n",
    "#    columns=\"PeriodCode\",\n",
    "#    values=\"Value\"\n",
    "#).reset_index()\n",
    "\n",
    "# If you prefer not to reset the index, you can omit .reset_index() \n",
    "# and keep Alpha3Code and CountryName as your row index.\n"
   ],
   "outputs": [],
   "execution_count": 64
  },
  {
   "cell_type": "code",
   "metadata": {
    "ExecuteTime": {
     "end_time": "2025-01-05T15:20:27.516387Z",
     "start_time": "2025-01-05T15:20:27.507917Z"
    }
   },
   "source": "df_pivoted.head(30)",
   "outputs": [
    {
     "data": {
      "text/plain": [
       "   Alpha3Code CountryName  year      gdp\n",
       "0         ALB     Albania  2005   5160.0\n",
       "1         ALB     Albania  2006   5788.4\n",
       "2         ALB     Albania  2007   6719.9\n",
       "3         ALB     Albania  2008   7691.0\n",
       "4         ALB     Albania  2009   8101.3\n",
       "5         ALB     Albania  2010   8593.4\n",
       "6         ALB     Albania  2011   9112.3\n",
       "7         ALB     Albania  2012   9348.1\n",
       "8         ALB     Albania  2013   9624.9\n",
       "9         ALB     Albania  2014  10384.7\n",
       "10        ALB     Albania  2015  10702.7\n",
       "11        ALB     Albania  2016  11139.9\n",
       "12        ALB     Albania  2017  11634.1\n",
       "13        ALB     Albania  2018  12200.7\n",
       "14        ALB     Albania  2019  13049.6\n",
       "15        ALB     Albania  2020  12802.1\n",
       "16        ALB     Albania  2021  13823.8\n",
       "17        ALB     Albania  2022       ..\n",
       "18        ALB     Albania  2023       ..\n",
       "19        AND     Andorra  2005       ..\n",
       "20        AND     Andorra  2006       ..\n",
       "21        AND     Andorra  2007       ..\n",
       "22        AND     Andorra  2008       ..\n",
       "23        AND     Andorra  2009  30731.8\n",
       "24        AND     Andorra  2010  34307.9\n",
       "25        AND     Andorra  2011  34616.4\n",
       "26        AND     Andorra  2012  34791.7\n",
       "27        AND     Andorra  2013  32108.8\n",
       "28        AND     Andorra  2014  33753.2\n",
       "29        AND     Andorra  2015  33769.2"
      ],
      "text/html": [
       "<div>\n",
       "<style scoped>\n",
       "    .dataframe tbody tr th:only-of-type {\n",
       "        vertical-align: middle;\n",
       "    }\n",
       "\n",
       "    .dataframe tbody tr th {\n",
       "        vertical-align: top;\n",
       "    }\n",
       "\n",
       "    .dataframe thead th {\n",
       "        text-align: right;\n",
       "    }\n",
       "</style>\n",
       "<table border=\"1\" class=\"dataframe\">\n",
       "  <thead>\n",
       "    <tr style=\"text-align: right;\">\n",
       "      <th></th>\n",
       "      <th>Alpha3Code</th>\n",
       "      <th>CountryName</th>\n",
       "      <th>year</th>\n",
       "      <th>gdp</th>\n",
       "    </tr>\n",
       "  </thead>\n",
       "  <tbody>\n",
       "    <tr>\n",
       "      <th>0</th>\n",
       "      <td>ALB</td>\n",
       "      <td>Albania</td>\n",
       "      <td>2005</td>\n",
       "      <td>5160.0</td>\n",
       "    </tr>\n",
       "    <tr>\n",
       "      <th>1</th>\n",
       "      <td>ALB</td>\n",
       "      <td>Albania</td>\n",
       "      <td>2006</td>\n",
       "      <td>5788.4</td>\n",
       "    </tr>\n",
       "    <tr>\n",
       "      <th>2</th>\n",
       "      <td>ALB</td>\n",
       "      <td>Albania</td>\n",
       "      <td>2007</td>\n",
       "      <td>6719.9</td>\n",
       "    </tr>\n",
       "    <tr>\n",
       "      <th>3</th>\n",
       "      <td>ALB</td>\n",
       "      <td>Albania</td>\n",
       "      <td>2008</td>\n",
       "      <td>7691.0</td>\n",
       "    </tr>\n",
       "    <tr>\n",
       "      <th>4</th>\n",
       "      <td>ALB</td>\n",
       "      <td>Albania</td>\n",
       "      <td>2009</td>\n",
       "      <td>8101.3</td>\n",
       "    </tr>\n",
       "    <tr>\n",
       "      <th>5</th>\n",
       "      <td>ALB</td>\n",
       "      <td>Albania</td>\n",
       "      <td>2010</td>\n",
       "      <td>8593.4</td>\n",
       "    </tr>\n",
       "    <tr>\n",
       "      <th>6</th>\n",
       "      <td>ALB</td>\n",
       "      <td>Albania</td>\n",
       "      <td>2011</td>\n",
       "      <td>9112.3</td>\n",
       "    </tr>\n",
       "    <tr>\n",
       "      <th>7</th>\n",
       "      <td>ALB</td>\n",
       "      <td>Albania</td>\n",
       "      <td>2012</td>\n",
       "      <td>9348.1</td>\n",
       "    </tr>\n",
       "    <tr>\n",
       "      <th>8</th>\n",
       "      <td>ALB</td>\n",
       "      <td>Albania</td>\n",
       "      <td>2013</td>\n",
       "      <td>9624.9</td>\n",
       "    </tr>\n",
       "    <tr>\n",
       "      <th>9</th>\n",
       "      <td>ALB</td>\n",
       "      <td>Albania</td>\n",
       "      <td>2014</td>\n",
       "      <td>10384.7</td>\n",
       "    </tr>\n",
       "    <tr>\n",
       "      <th>10</th>\n",
       "      <td>ALB</td>\n",
       "      <td>Albania</td>\n",
       "      <td>2015</td>\n",
       "      <td>10702.7</td>\n",
       "    </tr>\n",
       "    <tr>\n",
       "      <th>11</th>\n",
       "      <td>ALB</td>\n",
       "      <td>Albania</td>\n",
       "      <td>2016</td>\n",
       "      <td>11139.9</td>\n",
       "    </tr>\n",
       "    <tr>\n",
       "      <th>12</th>\n",
       "      <td>ALB</td>\n",
       "      <td>Albania</td>\n",
       "      <td>2017</td>\n",
       "      <td>11634.1</td>\n",
       "    </tr>\n",
       "    <tr>\n",
       "      <th>13</th>\n",
       "      <td>ALB</td>\n",
       "      <td>Albania</td>\n",
       "      <td>2018</td>\n",
       "      <td>12200.7</td>\n",
       "    </tr>\n",
       "    <tr>\n",
       "      <th>14</th>\n",
       "      <td>ALB</td>\n",
       "      <td>Albania</td>\n",
       "      <td>2019</td>\n",
       "      <td>13049.6</td>\n",
       "    </tr>\n",
       "    <tr>\n",
       "      <th>15</th>\n",
       "      <td>ALB</td>\n",
       "      <td>Albania</td>\n",
       "      <td>2020</td>\n",
       "      <td>12802.1</td>\n",
       "    </tr>\n",
       "    <tr>\n",
       "      <th>16</th>\n",
       "      <td>ALB</td>\n",
       "      <td>Albania</td>\n",
       "      <td>2021</td>\n",
       "      <td>13823.8</td>\n",
       "    </tr>\n",
       "    <tr>\n",
       "      <th>17</th>\n",
       "      <td>ALB</td>\n",
       "      <td>Albania</td>\n",
       "      <td>2022</td>\n",
       "      <td>..</td>\n",
       "    </tr>\n",
       "    <tr>\n",
       "      <th>18</th>\n",
       "      <td>ALB</td>\n",
       "      <td>Albania</td>\n",
       "      <td>2023</td>\n",
       "      <td>..</td>\n",
       "    </tr>\n",
       "    <tr>\n",
       "      <th>19</th>\n",
       "      <td>AND</td>\n",
       "      <td>Andorra</td>\n",
       "      <td>2005</td>\n",
       "      <td>..</td>\n",
       "    </tr>\n",
       "    <tr>\n",
       "      <th>20</th>\n",
       "      <td>AND</td>\n",
       "      <td>Andorra</td>\n",
       "      <td>2006</td>\n",
       "      <td>..</td>\n",
       "    </tr>\n",
       "    <tr>\n",
       "      <th>21</th>\n",
       "      <td>AND</td>\n",
       "      <td>Andorra</td>\n",
       "      <td>2007</td>\n",
       "      <td>..</td>\n",
       "    </tr>\n",
       "    <tr>\n",
       "      <th>22</th>\n",
       "      <td>AND</td>\n",
       "      <td>Andorra</td>\n",
       "      <td>2008</td>\n",
       "      <td>..</td>\n",
       "    </tr>\n",
       "    <tr>\n",
       "      <th>23</th>\n",
       "      <td>AND</td>\n",
       "      <td>Andorra</td>\n",
       "      <td>2009</td>\n",
       "      <td>30731.8</td>\n",
       "    </tr>\n",
       "    <tr>\n",
       "      <th>24</th>\n",
       "      <td>AND</td>\n",
       "      <td>Andorra</td>\n",
       "      <td>2010</td>\n",
       "      <td>34307.9</td>\n",
       "    </tr>\n",
       "    <tr>\n",
       "      <th>25</th>\n",
       "      <td>AND</td>\n",
       "      <td>Andorra</td>\n",
       "      <td>2011</td>\n",
       "      <td>34616.4</td>\n",
       "    </tr>\n",
       "    <tr>\n",
       "      <th>26</th>\n",
       "      <td>AND</td>\n",
       "      <td>Andorra</td>\n",
       "      <td>2012</td>\n",
       "      <td>34791.7</td>\n",
       "    </tr>\n",
       "    <tr>\n",
       "      <th>27</th>\n",
       "      <td>AND</td>\n",
       "      <td>Andorra</td>\n",
       "      <td>2013</td>\n",
       "      <td>32108.8</td>\n",
       "    </tr>\n",
       "    <tr>\n",
       "      <th>28</th>\n",
       "      <td>AND</td>\n",
       "      <td>Andorra</td>\n",
       "      <td>2014</td>\n",
       "      <td>33753.2</td>\n",
       "    </tr>\n",
       "    <tr>\n",
       "      <th>29</th>\n",
       "      <td>AND</td>\n",
       "      <td>Andorra</td>\n",
       "      <td>2015</td>\n",
       "      <td>33769.2</td>\n",
       "    </tr>\n",
       "  </tbody>\n",
       "</table>\n",
       "</div>"
      ]
     },
     "execution_count": 65,
     "metadata": {},
     "output_type": "execute_result"
    }
   ],
   "execution_count": 65
  },
  {
   "cell_type": "code",
   "metadata": {
    "ExecuteTime": {
     "end_time": "2025-01-05T15:20:27.614294Z",
     "start_time": "2025-01-05T15:20:27.607337Z"
    }
   },
   "source": [
    "df_pivoted.to_csv(\"../data/processed/gdp.csv\")"
   ],
   "outputs": [],
   "execution_count": 66
  }
 ],
 "metadata": {
  "kernelspec": {
   "display_name": ".venv",
   "language": "python",
   "name": "python3"
  },
  "language_info": {
   "codemirror_mode": {
    "name": "ipython",
    "version": 3
   },
   "file_extension": ".py",
   "mimetype": "text/x-python",
   "name": "python",
   "nbconvert_exporter": "python",
   "pygments_lexer": "ipython3",
   "version": "3.10.12"
  }
 },
 "nbformat": 4,
 "nbformat_minor": 2
}
