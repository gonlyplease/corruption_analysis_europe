{
 "cells": [
  {
   "cell_type": "code",
   "execution_count": 1,
   "metadata": {},
   "outputs": [],
   "source": [
    "import pandas as pd"
   ]
  },
  {
   "cell_type": "code",
   "execution_count": 5,
   "metadata": {},
   "outputs": [],
   "source": [
    "df = pd.read_csv(\"../data/raw/fdi/fdi1.csv\")\n",
    "df2 = pd.read_csv(\"../data/raw/fdi/fdi2.csv\")"
   ]
  },
  {
   "cell_type": "code",
   "execution_count": 9,
   "metadata": {},
   "outputs": [
    {
     "name": "stdout",
     "output_type": "stream",
     "text": [
      "<class 'pandas.core.frame.DataFrame'>\n",
      "RangeIndex: 271 entries, 0 to 270\n",
      "Data columns (total 16 columns):\n",
      " #   Column         Non-Null Count  Dtype \n",
      "---  ------         --------------  ----- \n",
      " 0   Series Name    268 non-null    object\n",
      " 1   Series Code    266 non-null    object\n",
      " 2   Country Name   266 non-null    object\n",
      " 3   Country Code   266 non-null    object\n",
      " 4   1990 [YR1990]  266 non-null    object\n",
      " 5   2000 [YR2000]  266 non-null    object\n",
      " 6   2014 [YR2014]  266 non-null    object\n",
      " 7   2015 [YR2015]  266 non-null    object\n",
      " 8   2016 [YR2016]  266 non-null    object\n",
      " 9   2017 [YR2017]  266 non-null    object\n",
      " 10  2018 [YR2018]  266 non-null    object\n",
      " 11  2019 [YR2019]  266 non-null    object\n",
      " 12  2020 [YR2020]  266 non-null    object\n",
      " 13  2021 [YR2021]  266 non-null    object\n",
      " 14  2022 [YR2022]  266 non-null    object\n",
      " 15  2023 [YR2023]  266 non-null    object\n",
      "dtypes: object(16)\n",
      "memory usage: 34.0+ KB\n"
     ]
    }
   ],
   "source": [
    "df.info()"
   ]
  },
  {
   "cell_type": "code",
   "execution_count": 8,
   "metadata": {},
   "outputs": [
    {
     "name": "stdout",
     "output_type": "stream",
     "text": [
      "<class 'pandas.core.frame.DataFrame'>\n",
      "RangeIndex: 273 entries, 0 to 272\n",
      "Data columns (total 16 columns):\n",
      " #   Column         Non-Null Count  Dtype \n",
      "---  ------         --------------  ----- \n",
      " 0   Series Name    270 non-null    object\n",
      " 1   Series Code    268 non-null    object\n",
      " 2   Country Name   268 non-null    object\n",
      " 3   Country Code   268 non-null    object\n",
      " 4   1990 [YR1990]  268 non-null    object\n",
      " 5   2000 [YR2000]  268 non-null    object\n",
      " 6   2014 [YR2014]  268 non-null    object\n",
      " 7   2015 [YR2015]  268 non-null    object\n",
      " 8   2016 [YR2016]  268 non-null    object\n",
      " 9   2017 [YR2017]  268 non-null    object\n",
      " 10  2018 [YR2018]  268 non-null    object\n",
      " 11  2019 [YR2019]  268 non-null    object\n",
      " 12  2020 [YR2020]  268 non-null    object\n",
      " 13  2021 [YR2021]  266 non-null    object\n",
      " 14  2022 [YR2022]  266 non-null    object\n",
      " 15  2023 [YR2023]  266 non-null    object\n",
      "dtypes: object(16)\n",
      "memory usage: 34.2+ KB\n"
     ]
    }
   ],
   "source": [
    "df2.info()"
   ]
  }
 ],
 "metadata": {
  "kernelspec": {
   "display_name": ".venv",
   "language": "python",
   "name": "python3"
  },
  "language_info": {
   "codemirror_mode": {
    "name": "ipython",
    "version": 3
   },
   "file_extension": ".py",
   "mimetype": "text/x-python",
   "name": "python",
   "nbconvert_exporter": "python",
   "pygments_lexer": "ipython3",
   "version": "3.10.12"
  }
 },
 "nbformat": 4,
 "nbformat_minor": 2
}
