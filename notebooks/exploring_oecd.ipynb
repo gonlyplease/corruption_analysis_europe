{
 "cells": [
  {
   "cell_type": "markdown",
   "id": "bf7c2ee985a528d7",
   "metadata": {},
   "source": [
    "## OECD Datasets\n",
    "\n",
    "Containing the following columns:\n",
    "* cname (Country name)\n",
    "* year (Year of record)\n",
    "* Civil Justice is Free of Corruption ( Project, W. J. (2023). WJP Rule of Law Index 2022. https://worldjusticeproject.org/rule-of-law-index/)\n",
    "* Criminal System is Free of Corruption (Project, W. J. (2023). WJP Rule of Law Index 2022. https://worldjusticeproject.org/rule-of-law-index/)\n",
    "* Corruption Commission Present in Constitution (Elkins, Z., & Ginsburg, T. (2022). Characteristics of national constitutions, version 4.0. In Comparative Constitutions Project.)\n",
    "* Civil Rights (Donner, S., Hartmann, H., Härterich, C., & Steinkamp, S. (2022). Transformation index of the bertelsmann stiftung 2022. Bertelsmann Stiftung.)\n",
    "* Anti Corruption Policy (Donner, S., Hartmann, H., Härterich, C., & Steinkamp, S. (2022). Transformation index of the bertelsmann stiftung 2022. Bertelsmann Stiftung.)\n",
    "* The Bayesian Corruption Indicator (Standaert, S. (2015). Divining the level of corruption: A bayesian state-space approach. Journal of Comparative Economics, 43(3), 782–803.)\n",
    "\n",
    "Description of columns:\n",
    "https://www.qogdata.pol.gu.se/dataarchive/qog_bas_jan23.pdf\n",
    "\n",
    "Download filter for datasets: https://datafinder.qog.gu.se/downloads?download=bti_acp,bti_cr,ccp_cc,ess_health,ess_trlegal,ess_trpeople,wef_qoi,undp_hdi,iiag_he,pwt_hci,wjp_abs_cor,wjp_civ_just,wjp_cj_cor,wjp_crsys_cor,bci_bci,wbgi_cce,wdi_litrad,wdi_refasy,wdi_refori"
   ]
  },
  {
   "cell_type": "code",
   "execution_count": 86,
   "id": "initial_id",
   "metadata": {
    "ExecuteTime": {
     "end_time": "2025-01-03T19:37:42.348913Z",
     "start_time": "2025-01-03T19:37:42.327189Z"
    }
   },
   "outputs": [
    {
     "name": "stdout",
     "output_type": "stream",
     "text": [
      "          cname        year Civil Justice is Free of Corruption  \\\n",
      "count       743         743                                 279   \n",
      "unique       36          21                                  69   \n",
      "top     Albania  2013-01-01                                0,77   \n",
      "freq         21          36                                  13   \n",
      "\n",
      "       Criminal System is Free of Corruption  \\\n",
      "count                                    279   \n",
      "unique                                    66   \n",
      "top                                     0,75   \n",
      "freq                                      12   \n",
      "\n",
      "       Corruption Commission Present in Constitution Civil Rights  \\\n",
      "count                                            659          160   \n",
      "unique                                             1            7   \n",
      "top                                             2,00         8,00   \n",
      "freq                                             659           57   \n",
      "\n",
      "       Anti Corruption Policy The Bayesian Corruption Indicator  \n",
      "count                     160                               678  \n",
      "unique                      7                               636  \n",
      "top                      7,00                              7,77  \n",
      "freq                       54                                 3  \n"
     ]
    }
   ],
   "source": [
    "import matplotlib.pyplot as plt\n",
    "import seaborn as sns\n",
    "import pandas as pd\n",
    "oecd_data = pd.read_csv(\"../data/processed/oecd.csv\")\n",
    "print(oecd_data.describe(include='all'))"
   ]
  },
  {
   "cell_type": "code",
   "execution_count": 96,
   "id": "f857fc86",
   "metadata": {},
   "outputs": [
    {
     "name": "stdout",
     "output_type": "stream",
     "text": [
      "<class 'pandas.core.frame.DataFrame'>\n",
      "Index: 703 entries, 0 to 742\n",
      "Data columns (total 8 columns):\n",
      " #   Column                                         Non-Null Count  Dtype  \n",
      "---  ------                                         --------------  -----  \n",
      " 0   Year                                           703 non-null    object \n",
      " 1   Civil Justice is Free of Corruption            269 non-null    float64\n",
      " 2   Criminal System is Free of Corruption          269 non-null    float64\n",
      " 3   Corruption Commission Present in Constitution  640 non-null    float64\n",
      " 4   Civil Rights                                   151 non-null    float64\n",
      " 5   Anti Corruption Policy                         151 non-null    float64\n",
      " 6   The Bayesian Corruption Indicator              640 non-null    float64\n",
      " 7   ISO3 Code                                      703 non-null    object \n",
      "dtypes: float64(6), object(2)\n",
      "memory usage: 49.4+ KB\n"
     ]
    }
   ],
   "source": [
    "oecd_data.rename(columns={'year': 'Year'}, inplace=True)\n",
    "oecd_data.info()"
   ]
  },
  {
   "cell_type": "code",
   "execution_count": 88,
   "id": "95b7c3e0",
   "metadata": {},
   "outputs": [
    {
     "data": {
      "text/html": [
       "<div>\n",
       "<style scoped>\n",
       "    .dataframe tbody tr th:only-of-type {\n",
       "        vertical-align: middle;\n",
       "    }\n",
       "\n",
       "    .dataframe tbody tr th {\n",
       "        vertical-align: top;\n",
       "    }\n",
       "\n",
       "    .dataframe thead th {\n",
       "        text-align: right;\n",
       "    }\n",
       "</style>\n",
       "<table border=\"1\" class=\"dataframe\">\n",
       "  <thead>\n",
       "    <tr style=\"text-align: right;\">\n",
       "      <th></th>\n",
       "      <th>cname</th>\n",
       "      <th>Year</th>\n",
       "      <th>Civil Justice is Free of Corruption</th>\n",
       "      <th>Criminal System is Free of Corruption</th>\n",
       "      <th>Corruption Commission Present in Constitution</th>\n",
       "      <th>Civil Rights</th>\n",
       "      <th>Anti Corruption Policy</th>\n",
       "      <th>The Bayesian Corruption Indicator</th>\n",
       "    </tr>\n",
       "  </thead>\n",
       "  <tbody>\n",
       "    <tr>\n",
       "      <th>0</th>\n",
       "      <td>Albania</td>\n",
       "      <td>2003</td>\n",
       "      <td>NaN</td>\n",
       "      <td>NaN</td>\n",
       "      <td>2,00</td>\n",
       "      <td>NaN</td>\n",
       "      <td>NaN</td>\n",
       "      <td>58,32</td>\n",
       "    </tr>\n",
       "    <tr>\n",
       "      <th>1</th>\n",
       "      <td>Albania</td>\n",
       "      <td>2004</td>\n",
       "      <td>NaN</td>\n",
       "      <td>NaN</td>\n",
       "      <td>2,00</td>\n",
       "      <td>NaN</td>\n",
       "      <td>NaN</td>\n",
       "      <td>57,87</td>\n",
       "    </tr>\n",
       "    <tr>\n",
       "      <th>2</th>\n",
       "      <td>Albania</td>\n",
       "      <td>2005</td>\n",
       "      <td>NaN</td>\n",
       "      <td>NaN</td>\n",
       "      <td>2,00</td>\n",
       "      <td>8,00</td>\n",
       "      <td>4,00</td>\n",
       "      <td>57,98</td>\n",
       "    </tr>\n",
       "    <tr>\n",
       "      <th>3</th>\n",
       "      <td>Albania</td>\n",
       "      <td>2006</td>\n",
       "      <td>NaN</td>\n",
       "      <td>NaN</td>\n",
       "      <td>2,00</td>\n",
       "      <td>NaN</td>\n",
       "      <td>NaN</td>\n",
       "      <td>57,75</td>\n",
       "    </tr>\n",
       "    <tr>\n",
       "      <th>4</th>\n",
       "      <td>Albania</td>\n",
       "      <td>2007</td>\n",
       "      <td>NaN</td>\n",
       "      <td>NaN</td>\n",
       "      <td>2,00</td>\n",
       "      <td>8,00</td>\n",
       "      <td>4,00</td>\n",
       "      <td>57,44</td>\n",
       "    </tr>\n",
       "  </tbody>\n",
       "</table>\n",
       "</div>"
      ],
      "text/plain": [
       "     cname  Year Civil Justice is Free of Corruption  \\\n",
       "0  Albania  2003                                 NaN   \n",
       "1  Albania  2004                                 NaN   \n",
       "2  Albania  2005                                 NaN   \n",
       "3  Albania  2006                                 NaN   \n",
       "4  Albania  2007                                 NaN   \n",
       "\n",
       "  Criminal System is Free of Corruption  \\\n",
       "0                                   NaN   \n",
       "1                                   NaN   \n",
       "2                                   NaN   \n",
       "3                                   NaN   \n",
       "4                                   NaN   \n",
       "\n",
       "  Corruption Commission Present in Constitution Civil Rights  \\\n",
       "0                                          2,00          NaN   \n",
       "1                                          2,00          NaN   \n",
       "2                                          2,00         8,00   \n",
       "3                                          2,00          NaN   \n",
       "4                                          2,00         8,00   \n",
       "\n",
       "  Anti Corruption Policy The Bayesian Corruption Indicator  \n",
       "0                    NaN                             58,32  \n",
       "1                    NaN                             57,87  \n",
       "2                   4,00                             57,98  \n",
       "3                    NaN                             57,75  \n",
       "4                   4,00                             57,44  "
      ]
     },
     "execution_count": 88,
     "metadata": {},
     "output_type": "execute_result"
    }
   ],
   "source": [
    "oecd_data['Year'] = pd.to_datetime(oecd_data['Year']).dt.strftime('%Y')\n",
    "oecd_data.head()\n"
   ]
  },
  {
   "cell_type": "code",
   "execution_count": 89,
   "id": "b65cfa1d",
   "metadata": {},
   "outputs": [
    {
     "data": {
      "text/plain": [
       "array(['2003', '2004', '2005', '2006', '2007', '2008', '2009', '2010',\n",
       "       '2011', '2012', '2013', '2014', '2015', '2016', '2017', '2018',\n",
       "       '2019', '2020', '2021', '2022', '2023'], dtype=object)"
      ]
     },
     "execution_count": 89,
     "metadata": {},
     "output_type": "execute_result"
    }
   ],
   "source": [
    "oecd_data[\"Year\"].unique()"
   ]
  },
  {
   "cell_type": "code",
   "execution_count": 83,
   "id": "950c2471",
   "metadata": {},
   "outputs": [],
   "source": [
    "def apply_iso3_code(df, countries_df):\n",
    "    \"\"\"\n",
    "    Merges 'df' (with 'cname') against 'countries_df' (with 'Country Name' and 'Country Code')\n",
    "    to add the 'ISO3 Code' column to 'df'.\n",
    "\n",
    "    Parameters:\n",
    "        df (pd.DataFrame): Your original DataFrame with a 'cname' column.\n",
    "        countries_df (pd.DataFrame): DataFrame with at least two columns:\n",
    "                                     - 'Country Name': textual name of the country\n",
    "                                     - 'Country Code': ISO3 code (e.g. FRA, DEU, etc.)\n",
    "\n",
    "    Returns:\n",
    "        pd.DataFrame: Updated DataFrame that includes the 'ISO3 Code'.\n",
    "    \"\"\"\n",
    "\n",
    "    # Merge on the country name\n",
    "    merged = df.merge(\n",
    "        countries_df[['Country', 'ISO3 Code']],\n",
    "        how='left',\n",
    "        left_on='cname',\n",
    "        right_on='Country'\n",
    "    )\n",
    "\n",
    "\n",
    "    # (Optional) Filter out rows with missing ISO3 codes, \n",
    "    # if you only want to keep countries that have a valid code:\n",
    "    merged = merged[~merged['ISO3 Code'].isna()]\n",
    "\n",
    "    return merged\n",
    "\n",
    "# --- Example usage ---\n",
    "# Suppose `df` is your 8-column DataFrame shown above, and\n",
    "# `countries_df` is a DataFrame that contains a mapping\n",
    "# of valid European countries to their ISO3 codes.\n",
    "\n",
    "# df_with_iso3 = apply_iso3_code(df, countries_df)\n",
    "# print(df_with_iso3.head())\n"
   ]
  },
  {
   "cell_type": "code",
   "execution_count": 90,
   "id": "41290f1b",
   "metadata": {},
   "outputs": [
    {
     "data": {
      "text/html": [
       "<div>\n",
       "<style scoped>\n",
       "    .dataframe tbody tr th:only-of-type {\n",
       "        vertical-align: middle;\n",
       "    }\n",
       "\n",
       "    .dataframe tbody tr th {\n",
       "        vertical-align: top;\n",
       "    }\n",
       "\n",
       "    .dataframe thead th {\n",
       "        text-align: right;\n",
       "    }\n",
       "</style>\n",
       "<table border=\"1\" class=\"dataframe\">\n",
       "  <thead>\n",
       "    <tr style=\"text-align: right;\">\n",
       "      <th></th>\n",
       "      <th>cname</th>\n",
       "      <th>Year</th>\n",
       "      <th>Civil Justice is Free of Corruption</th>\n",
       "      <th>Criminal System is Free of Corruption</th>\n",
       "      <th>Corruption Commission Present in Constitution</th>\n",
       "      <th>Civil Rights</th>\n",
       "      <th>Anti Corruption Policy</th>\n",
       "      <th>The Bayesian Corruption Indicator</th>\n",
       "      <th>Country</th>\n",
       "      <th>ISO3 Code</th>\n",
       "    </tr>\n",
       "  </thead>\n",
       "  <tbody>\n",
       "    <tr>\n",
       "      <th>0</th>\n",
       "      <td>Albania</td>\n",
       "      <td>2003</td>\n",
       "      <td>NaN</td>\n",
       "      <td>NaN</td>\n",
       "      <td>2,00</td>\n",
       "      <td>NaN</td>\n",
       "      <td>NaN</td>\n",
       "      <td>58,32</td>\n",
       "      <td>Albania</td>\n",
       "      <td>ALB</td>\n",
       "    </tr>\n",
       "    <tr>\n",
       "      <th>1</th>\n",
       "      <td>Albania</td>\n",
       "      <td>2004</td>\n",
       "      <td>NaN</td>\n",
       "      <td>NaN</td>\n",
       "      <td>2,00</td>\n",
       "      <td>NaN</td>\n",
       "      <td>NaN</td>\n",
       "      <td>57,87</td>\n",
       "      <td>Albania</td>\n",
       "      <td>ALB</td>\n",
       "    </tr>\n",
       "    <tr>\n",
       "      <th>2</th>\n",
       "      <td>Albania</td>\n",
       "      <td>2005</td>\n",
       "      <td>NaN</td>\n",
       "      <td>NaN</td>\n",
       "      <td>2,00</td>\n",
       "      <td>8,00</td>\n",
       "      <td>4,00</td>\n",
       "      <td>57,98</td>\n",
       "      <td>Albania</td>\n",
       "      <td>ALB</td>\n",
       "    </tr>\n",
       "    <tr>\n",
       "      <th>3</th>\n",
       "      <td>Albania</td>\n",
       "      <td>2006</td>\n",
       "      <td>NaN</td>\n",
       "      <td>NaN</td>\n",
       "      <td>2,00</td>\n",
       "      <td>NaN</td>\n",
       "      <td>NaN</td>\n",
       "      <td>57,75</td>\n",
       "      <td>Albania</td>\n",
       "      <td>ALB</td>\n",
       "    </tr>\n",
       "    <tr>\n",
       "      <th>4</th>\n",
       "      <td>Albania</td>\n",
       "      <td>2007</td>\n",
       "      <td>NaN</td>\n",
       "      <td>NaN</td>\n",
       "      <td>2,00</td>\n",
       "      <td>8,00</td>\n",
       "      <td>4,00</td>\n",
       "      <td>57,44</td>\n",
       "      <td>Albania</td>\n",
       "      <td>ALB</td>\n",
       "    </tr>\n",
       "  </tbody>\n",
       "</table>\n",
       "</div>"
      ],
      "text/plain": [
       "     cname  Year Civil Justice is Free of Corruption  \\\n",
       "0  Albania  2003                                 NaN   \n",
       "1  Albania  2004                                 NaN   \n",
       "2  Albania  2005                                 NaN   \n",
       "3  Albania  2006                                 NaN   \n",
       "4  Albania  2007                                 NaN   \n",
       "\n",
       "  Criminal System is Free of Corruption  \\\n",
       "0                                   NaN   \n",
       "1                                   NaN   \n",
       "2                                   NaN   \n",
       "3                                   NaN   \n",
       "4                                   NaN   \n",
       "\n",
       "  Corruption Commission Present in Constitution Civil Rights  \\\n",
       "0                                          2,00          NaN   \n",
       "1                                          2,00          NaN   \n",
       "2                                          2,00         8,00   \n",
       "3                                          2,00          NaN   \n",
       "4                                          2,00         8,00   \n",
       "\n",
       "  Anti Corruption Policy The Bayesian Corruption Indicator  Country ISO3 Code  \n",
       "0                    NaN                             58,32  Albania       ALB  \n",
       "1                    NaN                             57,87  Albania       ALB  \n",
       "2                   4,00                             57,98  Albania       ALB  \n",
       "3                    NaN                             57,75  Albania       ALB  \n",
       "4                   4,00                             57,44  Albania       ALB  "
      ]
     },
     "execution_count": 90,
     "metadata": {},
     "output_type": "execute_result"
    }
   ],
   "source": [
    "countries = pd.read_csv(\"../data/processed/europe_countries.csv\")\n",
    "oecd_data = apply_iso3_code(oecd_data, countries)\n",
    "oecd_data.head()"
   ]
  },
  {
   "cell_type": "code",
   "execution_count": 92,
   "id": "3dbe635d",
   "metadata": {},
   "outputs": [],
   "source": [
    "oecd_data = oecd_data.drop(axis=1, labels=[\"Country\"])"
   ]
  },
  {
   "cell_type": "code",
   "execution_count": 95,
   "id": "f23ad787",
   "metadata": {},
   "outputs": [
    {
     "data": {
      "text/html": [
       "<div>\n",
       "<style scoped>\n",
       "    .dataframe tbody tr th:only-of-type {\n",
       "        vertical-align: middle;\n",
       "    }\n",
       "\n",
       "    .dataframe tbody tr th {\n",
       "        vertical-align: top;\n",
       "    }\n",
       "\n",
       "    .dataframe thead th {\n",
       "        text-align: right;\n",
       "    }\n",
       "</style>\n",
       "<table border=\"1\" class=\"dataframe\">\n",
       "  <thead>\n",
       "    <tr style=\"text-align: right;\">\n",
       "      <th></th>\n",
       "      <th>Year</th>\n",
       "      <th>Civil Justice is Free of Corruption</th>\n",
       "      <th>Criminal System is Free of Corruption</th>\n",
       "      <th>Corruption Commission Present in Constitution</th>\n",
       "      <th>Civil Rights</th>\n",
       "      <th>Anti Corruption Policy</th>\n",
       "      <th>The Bayesian Corruption Indicator</th>\n",
       "      <th>ISO3 Code</th>\n",
       "    </tr>\n",
       "  </thead>\n",
       "  <tbody>\n",
       "    <tr>\n",
       "      <th>0</th>\n",
       "      <td>2003</td>\n",
       "      <td>NaN</td>\n",
       "      <td>NaN</td>\n",
       "      <td>2.0</td>\n",
       "      <td>NaN</td>\n",
       "      <td>NaN</td>\n",
       "      <td>58.32</td>\n",
       "      <td>ALB</td>\n",
       "    </tr>\n",
       "    <tr>\n",
       "      <th>1</th>\n",
       "      <td>2004</td>\n",
       "      <td>NaN</td>\n",
       "      <td>NaN</td>\n",
       "      <td>2.0</td>\n",
       "      <td>NaN</td>\n",
       "      <td>NaN</td>\n",
       "      <td>57.87</td>\n",
       "      <td>ALB</td>\n",
       "    </tr>\n",
       "    <tr>\n",
       "      <th>2</th>\n",
       "      <td>2005</td>\n",
       "      <td>NaN</td>\n",
       "      <td>NaN</td>\n",
       "      <td>2.0</td>\n",
       "      <td>8.0</td>\n",
       "      <td>4.0</td>\n",
       "      <td>57.98</td>\n",
       "      <td>ALB</td>\n",
       "    </tr>\n",
       "    <tr>\n",
       "      <th>3</th>\n",
       "      <td>2006</td>\n",
       "      <td>NaN</td>\n",
       "      <td>NaN</td>\n",
       "      <td>2.0</td>\n",
       "      <td>NaN</td>\n",
       "      <td>NaN</td>\n",
       "      <td>57.75</td>\n",
       "      <td>ALB</td>\n",
       "    </tr>\n",
       "    <tr>\n",
       "      <th>4</th>\n",
       "      <td>2007</td>\n",
       "      <td>NaN</td>\n",
       "      <td>NaN</td>\n",
       "      <td>2.0</td>\n",
       "      <td>8.0</td>\n",
       "      <td>4.0</td>\n",
       "      <td>57.44</td>\n",
       "      <td>ALB</td>\n",
       "    </tr>\n",
       "  </tbody>\n",
       "</table>\n",
       "</div>"
      ],
      "text/plain": [
       "   Year  Civil Justice is Free of Corruption  \\\n",
       "0  2003                                  NaN   \n",
       "1  2004                                  NaN   \n",
       "2  2005                                  NaN   \n",
       "3  2006                                  NaN   \n",
       "4  2007                                  NaN   \n",
       "\n",
       "   Criminal System is Free of Corruption  \\\n",
       "0                                    NaN   \n",
       "1                                    NaN   \n",
       "2                                    NaN   \n",
       "3                                    NaN   \n",
       "4                                    NaN   \n",
       "\n",
       "   Corruption Commission Present in Constitution  Civil Rights  \\\n",
       "0                                            2.0           NaN   \n",
       "1                                            2.0           NaN   \n",
       "2                                            2.0           8.0   \n",
       "3                                            2.0           NaN   \n",
       "4                                            2.0           8.0   \n",
       "\n",
       "   Anti Corruption Policy  The Bayesian Corruption Indicator ISO3 Code  \n",
       "0                     NaN                              58.32       ALB  \n",
       "1                     NaN                              57.87       ALB  \n",
       "2                     4.0                              57.98       ALB  \n",
       "3                     NaN                              57.75       ALB  \n",
       "4                     4.0                              57.44       ALB  "
      ]
     },
     "execution_count": 95,
     "metadata": {},
     "output_type": "execute_result"
    }
   ],
   "source": [
    "oecd_data.head()"
   ]
  },
  {
   "cell_type": "code",
   "execution_count": 94,
   "id": "bc4ca8d116f53e58",
   "metadata": {
    "ExecuteTime": {
     "end_time": "2025-01-03T19:37:42.587103Z",
     "start_time": "2025-01-03T19:37:42.568318Z"
    }
   },
   "outputs": [],
   "source": [
    "for col in oecd_data.columns:\n",
    "    if col not in [\"Year\", \"ISO3 Code\"]:\n",
    "        oecd_data[col] = oecd_data[col].replace(',', '.', regex=True)  # Replace commas with dots\n",
    "        oecd_data[col] = pd.to_numeric(oecd_data[col], errors='coerce')  # Convert to numeric, coercing errors to NaN\n"
   ]
  },
  {
   "cell_type": "code",
   "execution_count": 98,
   "id": "be893c15",
   "metadata": {},
   "outputs": [],
   "source": [
    "oecd_data['Year'] = pd.to_numeric(oecd_data['Year'], errors='coerce')\n"
   ]
  },
  {
   "cell_type": "code",
   "execution_count": 99,
   "id": "3b4867b8",
   "metadata": {},
   "outputs": [],
   "source": [
    "oecd_data = oecd_data[oecd_data['Year'] >= 2012]\n"
   ]
  },
  {
   "cell_type": "code",
   "execution_count": 100,
   "id": "2cb5457e",
   "metadata": {},
   "outputs": [
    {
     "name": "stdout",
     "output_type": "stream",
     "text": [
      "<class 'pandas.core.frame.DataFrame'>\n",
      "Index: 403 entries, 9 to 742\n",
      "Data columns (total 8 columns):\n",
      " #   Column                                         Non-Null Count  Dtype  \n",
      "---  ------                                         --------------  -----  \n",
      " 0   Year                                           403 non-null    int64  \n",
      " 1   Civil Justice is Free of Corruption            269 non-null    float64\n",
      " 2   Criminal System is Free of Corruption          269 non-null    float64\n",
      " 3   Corruption Commission Present in Constitution  340 non-null    float64\n",
      " 4   Civil Rights                                   85 non-null     float64\n",
      " 5   Anti Corruption Policy                         85 non-null     float64\n",
      " 6   The Bayesian Corruption Indicator              340 non-null    float64\n",
      " 7   ISO3 Code                                      403 non-null    object \n",
      "dtypes: float64(6), int64(1), object(1)\n",
      "memory usage: 28.3+ KB\n"
     ]
    }
   ],
   "source": [
    "oecd_data.info()"
   ]
  },
  {
   "cell_type": "code",
   "execution_count": null,
   "id": "da2f1680",
   "metadata": {},
   "outputs": [],
   "source": [
    "numeric_columns = oecd_data.drop(columns=['year'])\n",
    "\n",
    "correlation_matrix = numeric_columns.corr()\n",
    "\n",
    "#Sorting\n",
    "sorted_correlation = correlation_matrix['The Bayesian Corruption Indicator'].sort_values(ascending=False)\n",
    "print(sorted_correlation)"
   ]
  },
  {
   "cell_type": "code",
   "execution_count": 5,
   "id": "45f9920582c247a9",
   "metadata": {
    "ExecuteTime": {
     "end_time": "2025-01-03T19:37:42.896530Z",
     "start_time": "2025-01-03T19:37:42.602827Z"
    }
   },
   "outputs": [
    {
     "data": {
      "image/png": "[encoded data removed]",
      "text/plain": [
       "<Figure size 1000x800 with 2 Axes>"
      ]
     },
     "metadata": {},
     "output_type": "display_data"
    }
   ],
   "source": [
    "plt.figure(figsize=(10, 8))\n",
    "sns.heatmap(correlation_matrix, annot=True)\n",
    "plt.show()\n"
   ]
  },
  {
   "cell_type": "code",
   "execution_count": 6,
   "id": "da1292f05d9ad4fd",
   "metadata": {
    "ExecuteTime": {
     "end_time": "2025-01-03T19:38:31.891097Z",
     "start_time": "2025-01-03T19:38:29.739911Z"
    }
   },
   "outputs": [
    {
     "data": {
      "image/png": "[encoded data removed]",
      "text/plain": [
       "<Figure size 640x480 with 1 Axes>"
      ]
     },
     "metadata": {},
     "output_type": "display_data"
    }
   ],
   "source": [
    "#plt.hist(oecd_data['year'], bins=20)\n",
    "#plt.title('Year distribution')\n",
    "#plt.show()\n",
    "\n",
    "plt.boxplot(oecd_data['Civil Rights'].dropna())\n",
    "plt.title('Boxplot Civil Rights')\n",
    "plt.ylabel('Value')\n",
    "plt.show()"
   ]
  },
  {
   "cell_type": "code",
   "execution_count": 8,
   "id": "f53ceec0-c147-47d3-b6cb-4566061da71b",
   "metadata": {},
   "outputs": [],
   "source": [
    "oecd_data.to_csv(\"../data/processed/oecd_years.csv\", index=False, index_label=False)"
   ]
  },
  {
   "cell_type": "code",
   "execution_count": 9,
   "id": "8e256900-9aa8-4cc8-9983-f8e40464a57e",
   "metadata": {},
   "outputs": [
    {
     "name": "stdout",
     "output_type": "stream",
     "text": [
      "<class 'pandas.core.frame.DataFrame'>\n",
      "RangeIndex: 743 entries, 0 to 742\n",
      "Data columns (total 8 columns):\n",
      " #   Column                                         Non-Null Count  Dtype  \n",
      "---  ------                                         --------------  -----  \n",
      " 0   cname                                          0 non-null      float64\n",
      " 1   year                                           0 non-null      object \n",
      " 2   Civil Justice is Free of Corruption            279 non-null    float64\n",
      " 3   Criminal System is Free of Corruption          279 non-null    float64\n",
      " 4   Corruption Commission Present in Constitution  659 non-null    float64\n",
      " 5   Civil Rights                                   160 non-null    float64\n",
      " 6   Anti Corruption Policy                         160 non-null    float64\n",
      " 7   The Bayesian Corruption Indicator              678 non-null    float64\n",
      "dtypes: float64(7), object(1)\n",
      "memory usage: 46.6+ KB\n"
     ]
    }
   ],
   "source": [
    "oecd_data.info()\n"
   ]
  }
 ],
 "metadata": {
  "kernelspec": {
   "display_name": ".venv",
   "language": "python",
   "name": "python3"
  },
  "language_info": {
   "codemirror_mode": {
    "name": "ipython",
    "version": 3
   },
   "file_extension": ".py",
   "mimetype": "text/x-python",
   "name": "python",
   "nbconvert_exporter": "python",
   "pygments_lexer": "ipython3",
   "version": "3.10.12"
  }
 },
 "nbformat": 4,
 "nbformat_minor": 5
}
