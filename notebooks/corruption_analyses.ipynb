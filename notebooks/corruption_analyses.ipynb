{
 "cells": [
  {
   "cell_type": "markdown",
   "metadata": {},
   "source": [
    "## Our 4 Starting Question we decided to change to a single one:\n",
    "\n",
    "\n",
    "1. How well can the level of corruption in a European country be quantified?\n",
    "\n",
    "This questions is too broad and may lack specificity. Also not a good question to answer within a notebook.\n",
    "The definition of \"quantified\" needs clarification—are we looking at an index, a model, or a metric?\n",
    "\n",
    "2. Are there different forms of corruption prevalent in different European countries?\n",
    "\n",
    "While interesting, it may be challenging to obtain granular, comparable data across countries.\n",
    "Requires deep qualitative insights, which may not be fully captured by available datasets.\n",
    "\n",
    "3. What characteristics of a country predict the level of corruption?\n",
    "\n",
    "Why it's promising:\n",
    "\n",
    "Allows for quantitative analysis using regression or classification models.\n",
    "Can leverage socio-economic, political, and governance indicators.\n",
    "Provides actionable insights for policymakers and organizations.\n",
    "Well-defined and measurable through publicly available datasets.\n",
    "Potential Challenges:\n",
    "\n",
    "Ensuring data quality and avoiding biases in reporting.\n",
    "Distinguishing correlation from causation.\n",
    "\n",
    "4. What characteristics of a country predict an increase or decrease in the level of corruption?\n",
    "\n",
    "Why it's promising:\n",
    "\n",
    "Focuses on change over time, enabling trend analysis.\n",
    "Useful for policy evaluation and forecasting.\n",
    "Encourages a deeper exploration of temporal datasets (e.g., economic reforms, governance improvements, etc.).\n",
    "Can help identify early warning signs for rising corruption.\n",
    "Potential Challenges:\n",
    "\n",
    "Requires time-series data and careful handling of lag effects.\n",
    "External factors (global economic crises, political events) may introduce noise.\n"
   ]
  },
  {
   "cell_type": "markdown",
   "metadata": {},
   "source": [
    "The following question seems the most promising and we decided to only choose this one:\n",
    "\n",
    "# What characteristics of a european country predict the level of corruption?\n",
    "\n",
    "Why it's promising:\n",
    "\n",
    "Allows for quantitative analysis using regression or classification models.\n",
    "Can leverage socio-economic, political, and governance indicators.\n",
    "Provides actionable insights for policymakers and organizations.\n",
    "Well-defined and measurable through publicly available datasets.\n",
    "Potential Challenges:\n",
    "\n",
    "Ensuring data quality and avoiding biases in reporting.\n",
    "Distinguishing correlation from causation."
   ]
  },
  {
   "cell_type": "markdown",
   "metadata": {},
   "source": [
    "maybe we could tackle this one but lets find out later: Which country characteristics (e.g., economic, political, social indicators) best predict the level of corruption in European countries, and how do these characteristics relate to any gap between actual and perceived corruption?\n",
    "\n"
   ]
  },
  {
   "cell_type": "markdown",
   "metadata": {},
   "source": [
    "# Start\n",
    "\n",
    "As we have decided to focus on the continent of europe the first challenge will be to create a dataset of all european countries. To make this notebook not substantially long we will provide the finished data **europe_countries** to you. It shows all european countries and their ISO3 Code and ISO2 Code which should allow better preprocessing later."
   ]
  },
  {
   "cell_type": "code",
   "execution_count": 1,
   "metadata": {},
   "outputs": [],
   "source": [
    "import numpy as np\n",
    "import pandas as pd"
   ]
  },
  {
   "cell_type": "code",
   "execution_count": 2,
   "metadata": {},
   "outputs": [],
   "source": [
    "countries = pd.read_csv(\"../data/processed/europe_countries.csv\")"
   ]
  },
  {
   "cell_type": "code",
   "execution_count": 24,
   "metadata": {},
   "outputs": [
    {
     "name": "stdout",
     "output_type": "stream",
     "text": [
      "<class 'pandas.core.frame.DataFrame'>\n",
      "RangeIndex: 48 entries, 0 to 47\n",
      "Data columns (total 3 columns):\n",
      " #   Column     Non-Null Count  Dtype \n",
      "---  ------     --------------  ----- \n",
      " 0   Country    48 non-null     object\n",
      " 1   ISO3 Code  48 non-null     object\n",
      " 2   ISO2 Code  48 non-null     object\n",
      "dtypes: object(3)\n",
      "memory usage: 1.2+ KB\n"
     ]
    }
   ],
   "source": [
    "countries.info()"
   ]
  },
  {
   "cell_type": "code",
   "execution_count": 25,
   "metadata": {},
   "outputs": [
    {
     "data": {
      "text/plain": [
       "array(['Albania', 'Andorra', 'Austria', 'Belarus', 'Belgium',\n",
       "       'Bosnia & Herzegovina', 'Bulgaria', 'Croatia', 'Cyprus',\n",
       "       'Czech Republic', 'Denmark', 'Estonia', 'Finland', 'France',\n",
       "       'Georgia', 'Germany', 'Greece', 'Hungary', 'Iceland', 'Ireland',\n",
       "       'Italy', 'Kosovo', 'Latvia', 'Liechtenstein', 'Lithuania',\n",
       "       'Luxembourg', 'Malta', 'Moldova', 'Monaco', 'Montenegro',\n",
       "       'Netherlands', 'North Macedonia', 'Norway', 'Poland', 'Portugal',\n",
       "       'Romania', 'Russia', 'San Marino', 'Serbia', 'Slovakia',\n",
       "       'Slovenia', 'Spain', 'Sweden', 'Switzerland', 'Turkey', 'Ukraine',\n",
       "       'United Kingdom', 'Vatican City'], dtype=object)"
      ]
     },
     "execution_count": 25,
     "metadata": {},
     "output_type": "execute_result"
    }
   ],
   "source": [
    "countries['Country'].unique()"
   ]
  },
  {
   "cell_type": "markdown",
   "metadata": {},
   "source": [
    "When looking at european countrie numbers, many figures fly arround, our data includes 48 countries, and of course the most promising ones. As we will see later most of the other datasets aint serve data for all countries anyway. Especially for small countries like Vatican or Monaco, etc."
   ]
  },
  {
   "cell_type": "markdown",
   "metadata": {},
   "source": [
    "### Corruption Perceptions Index (CPI) from Transparency International.\n",
    "Data Set that shows preceived corruption of countries and rank them.\n",
    "\n",
    "Link to data: https://images.transparencycdn.org/images/CPI2023_FullDataSet.zip\n",
    "https://www.transparency.org/en/news/how-cpi-scores-are-calculated\n",
    "\n",
    " 0   Economy ISO3                                \n",
    " 1   Economy Name                                 \n",
    " 2   Year                                           \n",
    " 3   Corruption Perceptions Index Rank            \n",
    " 4   Corruption Perceptions Index Score           \n",
    " 5   Corruption Perceptions Index Sources        \n",
    " 6   Corruption Perceptions Index Standard Error\n",
    "\n",
    "We took the xlsx and transformed it to this more comapct version with only features we need and only european countries. Data points get explained at the end of each processing."
   ]
  },
  {
   "cell_type": "code",
   "execution_count": 5,
   "metadata": {},
   "outputs": [],
   "source": [
    "cpi_data = pd.read_csv(\"../data/processed/CPI.csv\")"
   ]
  },
  {
   "cell_type": "code",
   "execution_count": 13,
   "metadata": {},
   "outputs": [
    {
     "name": "stdout",
     "output_type": "stream",
     "text": [
      "Lenght of all europe countries in our list:  48\n",
      "Lenght of cpi countriest: 42\n",
      "Countries mssing\n"
     ]
    },
    {
     "data": {
      "text/plain": [
       "{'AND', 'LIE', 'MCO', 'RKS', 'SMR', 'VAT'}"
      ]
     },
     "execution_count": 13,
     "metadata": {},
     "output_type": "execute_result"
    }
   ],
   "source": [
    "iso3_europe_full = set(countries[\"ISO3 Code\"])\n",
    "\n",
    "iso3_europe_cpi = set(cpi_data[\"Economy ISO3\"])\n",
    "\n",
    "print('Lenght of all europe countries in our list: ',len(iso3_europe_full))\n",
    "print('Lenght of cpi countriest:', len(iso3_europe_cpi))\n",
    "\n",
    "print('Countries mssing')\n",
    "\n",
    "iso3_europe_full-iso3_europe_cpi"
   ]
  },
  {
   "cell_type": "markdown",
   "metadata": {},
   "source": [
    "Countries missing: Andora, Liechtenstein, Kosovo, San Marino, Vatikan, Gibraltar, Azerbaijan. We could neclect this countries due to their small size and impact."
   ]
  },
  {
   "cell_type": "code",
   "execution_count": 21,
   "metadata": {},
   "outputs": [
    {
     "data": {
      "text/plain": [
       "array([2012, 2013, 2014, 2015, 2016, 2017, 2018, 2019, 2020, 2021, 2022,\n",
       "       2023])"
      ]
     },
     "execution_count": 21,
     "metadata": {},
     "output_type": "execute_result"
    }
   ],
   "source": [
    "cpi_data['Year'].unique()"
   ]
  },
  {
   "cell_type": "code",
   "execution_count": 23,
   "metadata": {},
   "outputs": [
    {
     "name": "stdout",
     "output_type": "stream",
     "text": [
      "<class 'pandas.core.frame.DataFrame'>\n",
      "RangeIndex: 504 entries, 0 to 503\n",
      "Data columns (total 7 columns):\n",
      " #   Column                                       Non-Null Count  Dtype  \n",
      "---  ------                                       --------------  -----  \n",
      " 0   Economy ISO3                                 504 non-null    object \n",
      " 1   Economy Name                                 504 non-null    object \n",
      " 2   Year                                         504 non-null    int64  \n",
      " 3   Corruption Perceptions Index Rank            491 non-null    float64\n",
      " 4   Corruption Perceptions Index Score           504 non-null    float64\n",
      " 5   Corruption Perceptions Index Sources         504 non-null    float64\n",
      " 6   Corruption Perceptions Index Standard Error  504 non-null    float64\n",
      "dtypes: float64(4), int64(1), object(2)\n",
      "memory usage: 27.7+ KB\n"
     ]
    }
   ],
   "source": [
    "cpi_data.info()"
   ]
  },
  {
   "cell_type": "markdown",
   "metadata": {},
   "source": [
    "#### CPI Dataset Summary\n",
    "* Corruption Perceptions Index Rank (float64):\n",
    "This represents the ranking of the country based on its Corruption Perceptions Index (CPI) score, with rank 1 being the least corrupt country.\n",
    "Lower ranks indicate better perceived transparency.\n",
    "\n",
    "* Corruption Perceptions Index Score (float64):\n",
    "This score quantifies perceived corruption levels on a scale of 0 to 100, where:\n",
    "0 = highly corrupt\n",
    "100 = very clean (low corruption perception)\n",
    "It is calculated using multiple data sources, standardized, and aggregated.\n",
    "\n",
    "* Corruption Perceptions Index Sources (float64):\n",
    "The number of sources used to calculate the CPI score for a given country.\n",
    "The CPI uses multiple expert assessments and business surveys; having more sources increases reliability.\n",
    "\n",
    "*  Corruption Perceptions Index Standard Error (float64):\n",
    "This represents the uncertainty or variability in the CPI score, showing how much variation exists among different data sources.\n",
    "A lower standard error indicates a more reliable score, while a higher one suggests more disagreement or variability in corruption perceptions across sources."
   ]
  },
  {
   "cell_type": "markdown",
   "metadata": {},
   "source": [
    "### GDP Data"
   ]
  },
  {
   "cell_type": "markdown",
   "metadata": {},
   "source": [
    "We decided to go for GDP per Capita (PPP - Purchasing Power Parity)\n",
    "\n",
    "Why?\n",
    "\n",
    "Adjusted for cost of living, making it a fairer comparison across countries.\n",
    "Helps analyze the standard of living and economic well-being in relation to corruption.\n",
    "Frequently used in corruption-related studies to measure economic development.\n",
    "\n",
    "Definition: A country's gross domestic product (GDP) at purchasing power parity (PPP) per capita is the PPP value of all final goods and services produced within an economy in a given year, divided by the average (or mid-year) population for the same year. This is similar to nominal GDP per capita but adjusted for the cost of living in each country.\n",
    "\n"
   ]
  },
  {
   "cell_type": "markdown",
   "metadata": {},
   "source": [
    "## GDP Per Capita\n",
    "\n",
    "### 1. Basic Information\n",
    "- **Data Source**: https://databank.worldbank.org/indicator/NY.GDP.PCAP.CD/1ff4a498/Popular-Indicators?l=en#advancedDownloadOptions\n",
    "- **Description**: The dataset contains GDP per capita data (current US$) for European countries from 2012 to 2023.\n",
    "- **Year/Coverage**: 2012-2023\n",
    "\n",
    "### 2. Key Variables / Columns\n",
    "\n",
    "| **Column Name**   | **Type** | **Description**                       |\n",
    "|------------------|----------|---------------------------------------|\n",
    "| Country Name     | object   | Name of the country                   |\n",
    "| Country Code     | object   | ISO 3 code of the country               |\n",
    "| Year             | object   | Year of the recorded GDP value        |\n",
    "| GDP_per_capita   | float64  | GDP per capita in current US dollars  |\n",
    "\n",
    "### 3. Data Cleaning / Transformation\n",
    "- **Original Format**: Wide format with years as columns.\n",
    "- **Filtering**: Retained only European countries.\n",
    "- **Columns Kept/Removed**: Dropped `Series Code` and `Series Name` columns.\n",
    "- **Data Type Conversions**: Converted `Year` to string and `GDP_per_capita` to float.\n",
    "- **Handling Missing Values**: -\n",
    "\n",
    "### 4. Data Context & Usage\n",
    "- **Why This Dataset**: To analyze economic trends across European countries by measuring GDP per capita over time.\n",
    "- **Potential Biases**: -\n",
    "- **Reliability Considerations**: The data's reliability depends on the accuracy of the original source.\n",
    "\n",
    "### 5. Additional Notes / References\n",
    "- **Version / Date of Retrieval**: 20.01.25\n",
    "\n"
   ]
  },
  {
   "cell_type": "code",
   "execution_count": 88,
   "metadata": {},
   "outputs": [],
   "source": [
    "gdp_ppp = pd.read_csv(\"../data/raw/gdp_per_capita.csv\")"
   ]
  },
  {
   "cell_type": "code",
   "execution_count": 71,
   "metadata": {},
   "outputs": [
    {
     "data": {
      "text/html": [
       "<div>\n",
       "<style scoped>\n",
       "    .dataframe tbody tr th:only-of-type {\n",
       "        vertical-align: middle;\n",
       "    }\n",
       "\n",
       "    .dataframe tbody tr th {\n",
       "        vertical-align: top;\n",
       "    }\n",
       "\n",
       "    .dataframe thead th {\n",
       "        text-align: right;\n",
       "    }\n",
       "</style>\n",
       "<table border=\"1\" class=\"dataframe\">\n",
       "  <thead>\n",
       "    <tr style=\"text-align: right;\">\n",
       "      <th></th>\n",
       "      <th>Country Name</th>\n",
       "      <th>Country Code</th>\n",
       "      <th>2012</th>\n",
       "      <th>2013</th>\n",
       "      <th>2014</th>\n",
       "      <th>2015</th>\n",
       "      <th>2016</th>\n",
       "      <th>2017</th>\n",
       "      <th>2018</th>\n",
       "      <th>2019</th>\n",
       "      <th>2020</th>\n",
       "      <th>2021</th>\n",
       "      <th>2022</th>\n",
       "      <th>2023</th>\n",
       "    </tr>\n",
       "  </thead>\n",
       "  <tbody>\n",
       "    <tr>\n",
       "      <th>0</th>\n",
       "      <td>Albania</td>\n",
       "      <td>ALB</td>\n",
       "      <td>4247.631343</td>\n",
       "      <td>4413.063383</td>\n",
       "      <td>4578.633208</td>\n",
       "      <td>3952.803574</td>\n",
       "      <td>4124.055390</td>\n",
       "      <td>4531.032207</td>\n",
       "      <td>5365.489347</td>\n",
       "      <td>5460.428237</td>\n",
       "      <td>5370.778623</td>\n",
       "      <td>6413.283286</td>\n",
       "      <td>6846.426143</td>\n",
       "      <td>8575.171134</td>\n",
       "    </tr>\n",
       "    <tr>\n",
       "      <th>1</th>\n",
       "      <td>Andorra</td>\n",
       "      <td>AND</td>\n",
       "      <td>41500.543579</td>\n",
       "      <td>42470.316116</td>\n",
       "      <td>44369.659691</td>\n",
       "      <td>38654.934720</td>\n",
       "      <td>40129.819201</td>\n",
       "      <td>40672.994335</td>\n",
       "      <td>42819.774580</td>\n",
       "      <td>41257.804585</td>\n",
       "      <td>37361.090067</td>\n",
       "      <td>42425.699676</td>\n",
       "      <td>42414.059009</td>\n",
       "      <td>46812.448449</td>\n",
       "    </tr>\n",
       "    <tr>\n",
       "      <th>2</th>\n",
       "      <td>Austria</td>\n",
       "      <td>AUT</td>\n",
       "      <td>48250.405914</td>\n",
       "      <td>50305.354577</td>\n",
       "      <td>51314.972262</td>\n",
       "      <td>43915.228021</td>\n",
       "      <td>45061.499392</td>\n",
       "      <td>47163.742578</td>\n",
       "      <td>51194.074984</td>\n",
       "      <td>49885.994736</td>\n",
       "      <td>48716.409890</td>\n",
       "      <td>53648.719074</td>\n",
       "      <td>52176.664914</td>\n",
       "      <td>56033.573792</td>\n",
       "    </tr>\n",
       "    <tr>\n",
       "      <th>3</th>\n",
       "      <td>Belarus</td>\n",
       "      <td>BLR</td>\n",
       "      <td>6953.215917</td>\n",
       "      <td>7998.080205</td>\n",
       "      <td>8341.290143</td>\n",
       "      <td>5967.068560</td>\n",
       "      <td>5039.775609</td>\n",
       "      <td>5785.533977</td>\n",
       "      <td>6360.053101</td>\n",
       "      <td>6837.768321</td>\n",
       "      <td>6542.864540</td>\n",
       "      <td>7489.718947</td>\n",
       "      <td>7994.648061</td>\n",
       "      <td>7829.053137</td>\n",
       "    </tr>\n",
       "    <tr>\n",
       "      <th>4</th>\n",
       "      <td>Belgium</td>\n",
       "      <td>BEL</td>\n",
       "      <td>44874.170918</td>\n",
       "      <td>46964.594678</td>\n",
       "      <td>47995.778696</td>\n",
       "      <td>40893.804538</td>\n",
       "      <td>41854.549830</td>\n",
       "      <td>44035.323936</td>\n",
       "      <td>47487.210039</td>\n",
       "      <td>46716.622747</td>\n",
       "      <td>45906.287581</td>\n",
       "      <td>51655.788330</td>\n",
       "      <td>50807.204708</td>\n",
       "      <td>54700.909324</td>\n",
       "    </tr>\n",
       "  </tbody>\n",
       "</table>\n",
       "</div>"
      ],
      "text/plain": [
       "  Country Name Country Code          2012          2013          2014  \\\n",
       "0      Albania          ALB   4247.631343   4413.063383   4578.633208   \n",
       "1      Andorra          AND  41500.543579  42470.316116  44369.659691   \n",
       "2      Austria          AUT  48250.405914  50305.354577  51314.972262   \n",
       "3      Belarus          BLR   6953.215917   7998.080205   8341.290143   \n",
       "4      Belgium          BEL  44874.170918  46964.594678  47995.778696   \n",
       "\n",
       "           2015          2016          2017          2018          2019  \\\n",
       "0   3952.803574   4124.055390   4531.032207   5365.489347   5460.428237   \n",
       "1  38654.934720  40129.819201  40672.994335  42819.774580  41257.804585   \n",
       "2  43915.228021  45061.499392  47163.742578  51194.074984  49885.994736   \n",
       "3   5967.068560   5039.775609   5785.533977   6360.053101   6837.768321   \n",
       "4  40893.804538  41854.549830  44035.323936  47487.210039  46716.622747   \n",
       "\n",
       "           2020          2021          2022          2023  \n",
       "0   5370.778623   6413.283286   6846.426143   8575.171134  \n",
       "1  37361.090067  42425.699676  42414.059009  46812.448449  \n",
       "2  48716.409890  53648.719074  52176.664914  56033.573792  \n",
       "3   6542.864540   7489.718947   7994.648061   7829.053137  \n",
       "4  45906.287581  51655.788330  50807.204708  54700.909324  "
      ]
     },
     "execution_count": 71,
     "metadata": {},
     "output_type": "execute_result"
    }
   ],
   "source": [
    "\n",
    "gdp_ppp =gdp_ppp.drop(labels=[\"Series Code\", \"Series Name\"], axis= 1)\n",
    "\n",
    "gdp_ppp = gdp_ppp.drop(gdp_ppp.tail(8).index)\n",
    "\n",
    "gdp_ppp.columns = gdp_ppp.columns.str.replace(r\"\\[.*?\\]\", \"\", regex=True).str.strip()\n",
    "\n",
    "\n",
    "gdp_ppp.head()\n"
   ]
  },
  {
   "cell_type": "code",
   "execution_count": 76,
   "metadata": {},
   "outputs": [],
   "source": [
    "# Convert wide format to long format\n",
    "gdp_ppp_long = gdp_ppp.melt(\n",
    "    id_vars=['Country Name', 'Country Code'],\n",
    "    var_name='Year',\n",
    "    value_name='GDP_per_capita'\n",
    ")"
   ]
  },
  {
   "cell_type": "code",
   "execution_count": 83,
   "metadata": {},
   "outputs": [],
   "source": [
    "#gdp_ppp_long.sort_values([\"Country Name\", \"Year\"]).head()"
   ]
  },
  {
   "cell_type": "code",
   "execution_count": 87,
   "metadata": {},
   "outputs": [],
   "source": [
    "gdp_ppp_long.to_csv(\"../data/processed/gdp_per_capita.csv\")"
   ]
  },
  {
   "cell_type": "code",
   "execution_count": 90,
   "metadata": {},
   "outputs": [
    {
     "data": {
      "text/html": [
       "<div>\n",
       "<style scoped>\n",
       "    .dataframe tbody tr th:only-of-type {\n",
       "        vertical-align: middle;\n",
       "    }\n",
       "\n",
       "    .dataframe tbody tr th {\n",
       "        vertical-align: top;\n",
       "    }\n",
       "\n",
       "    .dataframe thead th {\n",
       "        text-align: right;\n",
       "    }\n",
       "</style>\n",
       "<table border=\"1\" class=\"dataframe\">\n",
       "  <thead>\n",
       "    <tr style=\"text-align: right;\">\n",
       "      <th></th>\n",
       "      <th>Country Name</th>\n",
       "      <th>Country Code</th>\n",
       "      <th>Year</th>\n",
       "      <th>GDP_per_capita</th>\n",
       "    </tr>\n",
       "  </thead>\n",
       "  <tbody>\n",
       "    <tr>\n",
       "      <th>0</th>\n",
       "      <td>Albania</td>\n",
       "      <td>ALB</td>\n",
       "      <td>2012</td>\n",
       "      <td>4247.631343</td>\n",
       "    </tr>\n",
       "    <tr>\n",
       "      <th>1</th>\n",
       "      <td>Andorra</td>\n",
       "      <td>AND</td>\n",
       "      <td>2012</td>\n",
       "      <td>41500.543579</td>\n",
       "    </tr>\n",
       "    <tr>\n",
       "      <th>2</th>\n",
       "      <td>Austria</td>\n",
       "      <td>AUT</td>\n",
       "      <td>2012</td>\n",
       "      <td>48250.405914</td>\n",
       "    </tr>\n",
       "    <tr>\n",
       "      <th>3</th>\n",
       "      <td>Belarus</td>\n",
       "      <td>BLR</td>\n",
       "      <td>2012</td>\n",
       "      <td>6953.215917</td>\n",
       "    </tr>\n",
       "    <tr>\n",
       "      <th>4</th>\n",
       "      <td>Belgium</td>\n",
       "      <td>BEL</td>\n",
       "      <td>2012</td>\n",
       "      <td>44874.170918</td>\n",
       "    </tr>\n",
       "  </tbody>\n",
       "</table>\n",
       "</div>"
      ],
      "text/plain": [
       "  Country Name Country Code  Year  GDP_per_capita\n",
       "0      Albania          ALB  2012     4247.631343\n",
       "1      Andorra          AND  2012    41500.543579\n",
       "2      Austria          AUT  2012    48250.405914\n",
       "3      Belarus          BLR  2012     6953.215917\n",
       "4      Belgium          BEL  2012    44874.170918"
      ]
     },
     "execution_count": 90,
     "metadata": {},
     "output_type": "execute_result"
    }
   ],
   "source": [
    "gdp_ppp_long.head()"
   ]
  },
  {
   "cell_type": "markdown",
   "metadata": {},
   "source": [
    "### FDI Data"
   ]
  },
  {
   "cell_type": "markdown",
   "metadata": {},
   "source": [
    "Function to filter the datasets on our european country list."
   ]
  },
  {
   "cell_type": "code",
   "execution_count": 153,
   "metadata": {},
   "outputs": [],
   "source": [
    "def get_countries(df, countries_df, iso=\"ISO3 Code\", iso_data_name=\"Economy ISO3\"):\n",
    "    try:\n",
    "        # Ensure the required column exists in the input DataFrame\n",
    "        if iso_data_name not in df.columns:\n",
    "            raise KeyError(f\"Column '{iso_data_name}' not found in DataFrame\")\n",
    "        \n",
    "        if iso not in countries_df.columns:\n",
    "            raise KeyError(f\"Column '{iso}' not found in countries DataFrame\")\n",
    "        \n",
    "        # Process the ISO codes and clean whitespace\n",
    "        iso_europe = set(countries_df[iso].dropna().astype(str).str.strip())\n",
    "        iso_data = set(df[iso_data_name].dropna().astype(str).str.strip())\n",
    "        \n",
    "        # Print missing countries for debugging\n",
    "        missing_countries = iso_data - iso_europe\n",
    "        if missing_countries:\n",
    "            print(\"Missing countries:\", missing_countries)\n",
    "        \n",
    "        # Filter the DataFrame based on valid ISO codes\n",
    "        filtered_df = df[df[iso_data_name].isin(iso_europe)]\n",
    "        \n",
    "        return filtered_df\n",
    "    \n",
    "    except KeyError as err:\n",
    "        print(f\"KeyError: {err}\")\n",
    "        return None\n",
    "    except Exception as e:\n",
    "        print(f\"An error occurred: {e}\")\n",
    "        return None\n"
   ]
  },
  {
   "cell_type": "code",
   "execution_count": 139,
   "metadata": {},
   "outputs": [],
   "source": [
    "fdi = pd.read_csv(\"../data/raw/fdi.csv\")"
   ]
  },
  {
   "cell_type": "code",
   "execution_count": 164,
   "metadata": {},
   "outputs": [],
   "source": [
    "#fdi.columns = fdi.columns.str.strip().str.replace(\"\\n\", \"\", regex=True)\n"
   ]
  },
  {
   "cell_type": "code",
   "execution_count": 159,
   "metadata": {},
   "outputs": [
    {
     "name": "stdout",
     "output_type": "stream",
     "text": [
      "Missing countries: {'FRO', 'XKX', 'TJK', 'UZB', 'nan', 'KGZ', 'AZE', 'KAZ', 'GIB', 'ARM', 'CHI', 'TKM', 'IMN', 'GRL'}\n"
     ]
    }
   ],
   "source": [
    "fdi = get_countries(df=fdi, countries_df=countries, iso_data_name=\"Country Code\")"
   ]
  },
  {
   "cell_type": "code",
   "execution_count": 155,
   "metadata": {},
   "outputs": [],
   "source": [
    "def convert_worldbank_df(df, value_name):\n",
    "    \n",
    "    df =df.drop(labels=[\"Series Code\", \"Series Name\"], axis= 1)\n",
    "\n",
    "    #df = df.drop(df.tail(8).index)\n",
    "\n",
    "    df.columns = df.columns.str.replace(r\"\\[.*?\\]\", \"\", regex=True).str.strip()\n",
    "    \n",
    "    df = df.melt(\n",
    "    id_vars=['Country Name', 'Country Code'],\n",
    "    var_name='Year',\n",
    "    value_name=value_name\n",
    ")\n",
    "    \n",
    "    return df"
   ]
  },
  {
   "cell_type": "code",
   "execution_count": 161,
   "metadata": {},
   "outputs": [],
   "source": [
    "fdi = convert_worldbank_df(df=fdi, value_name=\"FDI\")"
   ]
  },
  {
   "cell_type": "code",
   "execution_count": 162,
   "metadata": {},
   "outputs": [
    {
     "data": {
      "text/html": [
       "<div>\n",
       "<style scoped>\n",
       "    .dataframe tbody tr th:only-of-type {\n",
       "        vertical-align: middle;\n",
       "    }\n",
       "\n",
       "    .dataframe tbody tr th {\n",
       "        vertical-align: top;\n",
       "    }\n",
       "\n",
       "    .dataframe thead th {\n",
       "        text-align: right;\n",
       "    }\n",
       "</style>\n",
       "<table border=\"1\" class=\"dataframe\">\n",
       "  <thead>\n",
       "    <tr style=\"text-align: right;\">\n",
       "      <th></th>\n",
       "      <th>Country Name</th>\n",
       "      <th>Country Code</th>\n",
       "      <th>Year</th>\n",
       "      <th>FDI</th>\n",
       "    </tr>\n",
       "  </thead>\n",
       "  <tbody>\n",
       "    <tr>\n",
       "      <th>0</th>\n",
       "      <td>Albania</td>\n",
       "      <td>ALB</td>\n",
       "      <td>2012</td>\n",
       "      <td>7.451355</td>\n",
       "    </tr>\n",
       "    <tr>\n",
       "      <th>1</th>\n",
       "      <td>Andorra</td>\n",
       "      <td>AND</td>\n",
       "      <td>2012</td>\n",
       "      <td>NaN</td>\n",
       "    </tr>\n",
       "    <tr>\n",
       "      <th>2</th>\n",
       "      <td>Austria</td>\n",
       "      <td>AUT</td>\n",
       "      <td>2012</td>\n",
       "      <td>1.283003</td>\n",
       "    </tr>\n",
       "    <tr>\n",
       "      <th>3</th>\n",
       "      <td>Belarus</td>\n",
       "      <td>BLR</td>\n",
       "      <td>2012</td>\n",
       "      <td>2.228180</td>\n",
       "    </tr>\n",
       "    <tr>\n",
       "      <th>4</th>\n",
       "      <td>Belgium</td>\n",
       "      <td>BEL</td>\n",
       "      <td>2012</td>\n",
       "      <td>2.369569</td>\n",
       "    </tr>\n",
       "  </tbody>\n",
       "</table>\n",
       "</div>"
      ],
      "text/plain": [
       "  Country Name Country Code  Year       FDI\n",
       "0      Albania          ALB  2012  7.451355\n",
       "1      Andorra          AND  2012       NaN\n",
       "2      Austria          AUT  2012  1.283003\n",
       "3      Belarus          BLR  2012  2.228180\n",
       "4      Belgium          BEL  2012  2.369569"
      ]
     },
     "execution_count": 162,
     "metadata": {},
     "output_type": "execute_result"
    }
   ],
   "source": [
    "fdi.head()"
   ]
  },
  {
   "cell_type": "code",
   "execution_count": 163,
   "metadata": {},
   "outputs": [
    {
     "data": {
      "text/plain": [
       "45"
      ]
     },
     "execution_count": 163,
     "metadata": {},
     "output_type": "execute_result"
    }
   ],
   "source": [
    "fdi[\"Country Code\"].nunique()"
   ]
  },
  {
   "cell_type": "markdown",
   "metadata": {},
   "source": [
    "### Unemployment Rate"
   ]
  },
  {
   "cell_type": "code",
   "execution_count": 174,
   "metadata": {},
   "outputs": [],
   "source": [
    "unemployement = pd.read_csv('../data/raw/unemployement.csv')"
   ]
  },
  {
   "cell_type": "code",
   "execution_count": 177,
   "metadata": {},
   "outputs": [
    {
     "name": "stdout",
     "output_type": "stream",
     "text": [
      "Missing countries: {'GHA', 'GNQ', 'THA', 'GTM', 'ABW', 'CYM', 'BEN', 'FJI', 'FSM', 'VEN', 'WSM', 'MUS', 'LSO', 'BWA', 'COM', 'BTN', 'BHR', 'GRD', 'ARM', 'SAU', 'SYR', 'TGO', 'PAN', 'XKX', 'GUM', 'NZL', 'STP', 'MWI', 'ZWE', 'GUY', 'IMN', 'MOZ', 'IRN', 'PNG', 'MAC', 'AUS', 'LBN', 'SEN', 'MRT', 'TLS', 'KWT', 'GMB', 'SLE', 'CHN', 'COL', 'OMN', 'SYC', 'KGZ', 'NCL', 'PRK', 'NGA', 'CUB', 'TJK', 'URY', 'CIV', 'MAR', 'ISR', 'YEM', 'PYF', 'USA', 'BHS', 'PRI', 'CPV', 'LAO', 'BRA', 'ATG', 'SWZ', 'TKM', 'JAM', 'KHM', 'TCA', 'BMU', 'PAK', 'LBY', 'DZA', 'CUW', 'BLZ', 'AGO', 'HND', 'GRL', 'SDN', 'MAF', 'MNG', 'AZE', 'SGP', 'SLV', 'COG', 'HKG', 'PHL', 'PSE', 'LKA', 'KAZ', 'KNA', 'TTO', 'VIR', 'ZAF', 'HTI', 'ARG', 'CMR', 'GIB', 'TCD', 'RWA', 'SLB', 'COD', 'CAN', 'NRU', 'TUV', 'EGY', 'KIR', 'BRB', 'UGA', 'TUN', 'CHI', 'MLI', 'NPL', 'LBR', 'VCT', 'NAM', 'MDV', 'NIC', 'IND', 'TZA', 'BRN', 'BGD', 'ETH', 'CHL', 'DOM', 'MEX', 'JOR', 'MNP', 'ERI', 'PLW', 'LCA', 'SUR', 'QAT', 'NER', 'KEN', 'ECU', 'BOL', 'ARE', 'MMR', 'GNB', 'ASM', 'IDN', 'PER', 'MDG', 'VNM', 'PRY', 'ZMB', 'SSD', 'CRI', 'SXM', 'CAF', 'VUT', 'BFA', 'BDI', 'IRQ', 'MYS', 'AFG', 'MHL', 'KOR', 'VGB', 'SOM', 'DMA', 'GAB', 'GIN', 'TON', 'UZB', 'DJI', 'FRO', 'JPN'}\n"
     ]
    }
   ],
   "source": [
    "unemployement = get_countries(df=unemployement, countries_df=countries, iso_data_name=\"Country Code\")"
   ]
  },
  {
   "cell_type": "code",
   "execution_count": 170,
   "metadata": {},
   "outputs": [
    {
     "data": {
      "text/plain": [
       "46"
      ]
     },
     "execution_count": 170,
     "metadata": {},
     "output_type": "execute_result"
    }
   ],
   "source": [
    "unemployement[\"Country Code\"].nunique()"
   ]
  },
  {
   "cell_type": "code",
   "execution_count": 175,
   "metadata": {},
   "outputs": [],
   "source": [
    "unemployement = convert_worldbank_df(df=unemployement, value_name=\"Unemployement_rate\")"
   ]
  },
  {
   "cell_type": "code",
   "execution_count": 178,
   "metadata": {},
   "outputs": [
    {
     "data": {
      "text/html": [
       "<div>\n",
       "<style scoped>\n",
       "    .dataframe tbody tr th:only-of-type {\n",
       "        vertical-align: middle;\n",
       "    }\n",
       "\n",
       "    .dataframe tbody tr th {\n",
       "        vertical-align: top;\n",
       "    }\n",
       "\n",
       "    .dataframe thead th {\n",
       "        text-align: right;\n",
       "    }\n",
       "</style>\n",
       "<table border=\"1\" class=\"dataframe\">\n",
       "  <thead>\n",
       "    <tr style=\"text-align: right;\">\n",
       "      <th></th>\n",
       "      <th>Country Name</th>\n",
       "      <th>Country Code</th>\n",
       "      <th>Year</th>\n",
       "      <th>Unemployement_rate</th>\n",
       "    </tr>\n",
       "  </thead>\n",
       "  <tbody>\n",
       "    <tr>\n",
       "      <th>1</th>\n",
       "      <td>Albania</td>\n",
       "      <td>ALB</td>\n",
       "      <td>2012</td>\n",
       "      <td>13.376</td>\n",
       "    </tr>\n",
       "    <tr>\n",
       "      <th>4</th>\n",
       "      <td>Andorra</td>\n",
       "      <td>AND</td>\n",
       "      <td>2012</td>\n",
       "      <td>NaN</td>\n",
       "    </tr>\n",
       "    <tr>\n",
       "      <th>11</th>\n",
       "      <td>Austria</td>\n",
       "      <td>AUT</td>\n",
       "      <td>2012</td>\n",
       "      <td>4.909</td>\n",
       "    </tr>\n",
       "    <tr>\n",
       "      <th>17</th>\n",
       "      <td>Belarus</td>\n",
       "      <td>BLR</td>\n",
       "      <td>2012</td>\n",
       "      <td>0.500</td>\n",
       "    </tr>\n",
       "    <tr>\n",
       "      <th>18</th>\n",
       "      <td>Belgium</td>\n",
       "      <td>BEL</td>\n",
       "      <td>2012</td>\n",
       "      <td>7.542</td>\n",
       "    </tr>\n",
       "  </tbody>\n",
       "</table>\n",
       "</div>"
      ],
      "text/plain": [
       "   Country Name Country Code  Year  Unemployement_rate\n",
       "1       Albania          ALB  2012              13.376\n",
       "4       Andorra          AND  2012                 NaN\n",
       "11      Austria          AUT  2012               4.909\n",
       "17      Belarus          BLR  2012               0.500\n",
       "18      Belgium          BEL  2012               7.542"
      ]
     },
     "execution_count": 178,
     "metadata": {},
     "output_type": "execute_result"
    }
   ],
   "source": [
    "unemployement.head()"
   ]
  }
 ],
 "metadata": {
  "kernelspec": {
   "display_name": ".venv",
   "language": "python",
   "name": "python3"
  },
  "language_info": {
   "codemirror_mode": {
    "name": "ipython",
    "version": 3
   },
   "file_extension": ".py",
   "mimetype": "text/x-python",
   "name": "python",
   "nbconvert_exporter": "python",
   "pygments_lexer": "ipython3",
   "version": "3.10.12"
  }
 },
 "nbformat": 4,
 "nbformat_minor": 2
}
