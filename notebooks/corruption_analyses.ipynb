{
 "cells": [
  {
   "cell_type": "markdown",
   "metadata": {},
   "source": [
    "## Our 4 Starting Question we decided to change to a single one:\n",
    "\n",
    "\n",
    "1. How well can the level of corruption in a European country be quantified?\n",
    "\n",
    "This questions is too broad and may lack specificity. Also not a good question to answer within a notebook.\n",
    "The definition of \"quantified\" needs clarification—are we looking at an index, a model, or a metric?\n",
    "\n",
    "2. Are there different forms of corruption prevalent in different European countries?\n",
    "\n",
    "While interesting, it may be challenging to obtain granular, comparable data across countries.\n",
    "Requires deep qualitative insights, which may not be fully captured by available datasets.\n",
    "\n",
    "3. What characteristics of a country predict the level of corruption?\n",
    "\n",
    "Why it's promising:\n",
    "\n",
    "Allows for quantitative analysis using regression or classification models.\n",
    "Can leverage socio-economic, political, and governance indicators.\n",
    "Provides actionable insights for policymakers and organizations.\n",
    "Well-defined and measurable through publicly available datasets.\n",
    "Potential Challenges:\n",
    "\n",
    "Ensuring data quality and avoiding biases in reporting.\n",
    "Distinguishing correlation from causation.\n",
    "\n",
    "4. What characteristics of a country predict an increase or decrease in the level of corruption?\n",
    "\n",
    "Why it's promising:\n",
    "\n",
    "Focuses on change over time, enabling trend analysis.\n",
    "Useful for policy evaluation and forecasting.\n",
    "Encourages a deeper exploration of temporal datasets (e.g., economic reforms, governance improvements, etc.).\n",
    "Can help identify early warning signs for rising corruption.\n",
    "Potential Challenges:\n",
    "\n",
    "Requires time-series data and careful handling of lag effects.\n",
    "External factors (global economic crises, political events) may introduce noise.\n"
   ]
  },
  {
   "cell_type": "markdown",
   "metadata": {},
   "source": [
    "The following question seems the most promising and we decided to only choose this one:\n",
    "\n",
    "# What characteristics of a european country predict the level of corruption?\n",
    "\n",
    "Why it's promising:\n",
    "\n",
    "Allows for quantitative analysis using regression or classification models.\n",
    "Can leverage socio-economic, political, and governance indicators.\n",
    "Provides actionable insights for policymakers and organizations.\n",
    "Well-defined and measurable through publicly available datasets.\n",
    "Potential Challenges:\n",
    "\n",
    "Ensuring data quality and avoiding biases in reporting.\n",
    "Distinguishing correlation from causation."
   ]
  },
  {
   "cell_type": "markdown",
   "metadata": {},
   "source": [
    "maybe we could tackle this one but lets find out later: Which country characteristics (e.g., economic, political, social indicators) best predict the level of corruption in European countries, and how do these characteristics relate to any gap between actual and perceived corruption?\n",
    "\n"
   ]
  },
  {
   "cell_type": "markdown",
   "metadata": {},
   "source": [
    "# Start\n",
    "\n",
    "As we have decided to focus on the continent of europe the first challenge will be to create a dataset of all european countries. To make this notebook not substantially long we will provide the finished data **europe_countries** to you. It shows all european countries and their ISO3 Code and ISO2 Code which should allow better preprocessing later."
   ]
  },
  {
   "cell_type": "code",
   "execution_count": 1,
   "metadata": {},
   "outputs": [],
   "source": [
    "import numpy as np\n",
    "import pandas as pd"
   ]
  },
  {
   "cell_type": "code",
   "execution_count": 2,
   "metadata": {},
   "outputs": [],
   "source": [
    "countries = pd.read_csv(\"../data/processed/europe_countries.csv\")"
   ]
  },
  {
   "cell_type": "code",
   "execution_count": 24,
   "metadata": {},
   "outputs": [
    {
     "name": "stdout",
     "output_type": "stream",
     "text": [
      "<class 'pandas.core.frame.DataFrame'>\n",
      "RangeIndex: 48 entries, 0 to 47\n",
      "Data columns (total 3 columns):\n",
      " #   Column     Non-Null Count  Dtype \n",
      "---  ------     --------------  ----- \n",
      " 0   Country    48 non-null     object\n",
      " 1   ISO3 Code  48 non-null     object\n",
      " 2   ISO2 Code  48 non-null     object\n",
      "dtypes: object(3)\n",
      "memory usage: 1.2+ KB\n"
     ]
    }
   ],
   "source": [
    "countries.info()"
   ]
  },
  {
   "cell_type": "code",
   "execution_count": 25,
   "metadata": {},
   "outputs": [
    {
     "data": {
      "text/plain": [
       "array(['Albania', 'Andorra', 'Austria', 'Belarus', 'Belgium',\n",
       "       'Bosnia & Herzegovina', 'Bulgaria', 'Croatia', 'Cyprus',\n",
       "       'Czech Republic', 'Denmark', 'Estonia', 'Finland', 'France',\n",
       "       'Georgia', 'Germany', 'Greece', 'Hungary', 'Iceland', 'Ireland',\n",
       "       'Italy', 'Kosovo', 'Latvia', 'Liechtenstein', 'Lithuania',\n",
       "       'Luxembourg', 'Malta', 'Moldova', 'Monaco', 'Montenegro',\n",
       "       'Netherlands', 'North Macedonia', 'Norway', 'Poland', 'Portugal',\n",
       "       'Romania', 'Russia', 'San Marino', 'Serbia', 'Slovakia',\n",
       "       'Slovenia', 'Spain', 'Sweden', 'Switzerland', 'Turkey', 'Ukraine',\n",
       "       'United Kingdom', 'Vatican City'], dtype=object)"
      ]
     },
     "execution_count": 25,
     "metadata": {},
     "output_type": "execute_result"
    }
   ],
   "source": [
    "countries['Country'].unique()"
   ]
  },
  {
   "cell_type": "markdown",
   "metadata": {},
   "source": [
    "When looking at european countrie numbers, many figures fly arround, our data includes 48 countries, and of course the most promising ones. As we will see later most of the other datasets aint serve data for all countries anyway. Especially for small countries like Vatican or Monaco, etc."
   ]
  },
  {
   "cell_type": "markdown",
   "metadata": {},
   "source": [
    "### Corruption Perceptions Index (CPI) from Transparency International.\n",
    "Data Set that shows preceived corruption of countries and rank them.\n",
    "\n",
    "Link to data: https://images.transparencycdn.org/images/CPI2023_FullDataSet.zip\n",
    "https://www.transparency.org/en/news/how-cpi-scores-are-calculated\n",
    "\n",
    " 0   Economy ISO3                                \n",
    " 1   Economy Name                                 \n",
    " 2   Year                                           \n",
    " 3   Corruption Perceptions Index Rank            \n",
    " 4   Corruption Perceptions Index Score           \n",
    " 5   Corruption Perceptions Index Sources        \n",
    " 6   Corruption Perceptions Index Standard Error\n",
    "\n",
    "We took the xlsx and transformed it to this more comapct version with only features we need and only european countries. Data points get explained at the end of each processing."
   ]
  },
  {
   "cell_type": "code",
   "execution_count": 5,
   "metadata": {},
   "outputs": [],
   "source": [
    "cpi_data = pd.read_csv(\"../data/processed/CPI.csv\")"
   ]
  },
  {
   "cell_type": "code",
   "execution_count": 13,
   "metadata": {},
   "outputs": [
    {
     "name": "stdout",
     "output_type": "stream",
     "text": [
      "Lenght of all europe countries in our list:  48\n",
      "Lenght of cpi countriest: 42\n",
      "Countries mssing\n"
     ]
    },
    {
     "data": {
      "text/plain": [
       "{'AND', 'LIE', 'MCO', 'RKS', 'SMR', 'VAT'}"
      ]
     },
     "execution_count": 13,
     "metadata": {},
     "output_type": "execute_result"
    }
   ],
   "source": [
    "iso3_europe_full = set(countries[\"ISO3 Code\"])\n",
    "\n",
    "iso3_europe_cpi = set(cpi_data[\"Economy ISO3\"])\n",
    "\n",
    "print('Lenght of all europe countries in our list: ',len(iso3_europe_full))\n",
    "print('Lenght of cpi countriest:', len(iso3_europe_cpi))\n",
    "\n",
    "print('Countries mssing')\n",
    "\n",
    "iso3_europe_full-iso3_europe_cpi"
   ]
  },
  {
   "cell_type": "markdown",
   "metadata": {},
   "source": [
    "Countries missing: Andora, Liechtenstein, Kosovo, San Marino, Vatikan, Gibraltar, Azerbaijan. We could neclect this countries due to their small size and impact."
   ]
  },
  {
   "cell_type": "code",
   "execution_count": 21,
   "metadata": {},
   "outputs": [
    {
     "data": {
      "text/plain": [
       "array([2012, 2013, 2014, 2015, 2016, 2017, 2018, 2019, 2020, 2021, 2022,\n",
       "       2023])"
      ]
     },
     "execution_count": 21,
     "metadata": {},
     "output_type": "execute_result"
    }
   ],
   "source": [
    "cpi_data['Year'].unique()"
   ]
  },
  {
   "cell_type": "code",
   "execution_count": 23,
   "metadata": {},
   "outputs": [
    {
     "name": "stdout",
     "output_type": "stream",
     "text": [
      "<class 'pandas.core.frame.DataFrame'>\n",
      "RangeIndex: 504 entries, 0 to 503\n",
      "Data columns (total 7 columns):\n",
      " #   Column                                       Non-Null Count  Dtype  \n",
      "---  ------                                       --------------  -----  \n",
      " 0   Economy ISO3                                 504 non-null    object \n",
      " 1   Economy Name                                 504 non-null    object \n",
      " 2   Year                                         504 non-null    int64  \n",
      " 3   Corruption Perceptions Index Rank            491 non-null    float64\n",
      " 4   Corruption Perceptions Index Score           504 non-null    float64\n",
      " 5   Corruption Perceptions Index Sources         504 non-null    float64\n",
      " 6   Corruption Perceptions Index Standard Error  504 non-null    float64\n",
      "dtypes: float64(4), int64(1), object(2)\n",
      "memory usage: 27.7+ KB\n"
     ]
    }
   ],
   "source": [
    "cpi_data.info()"
   ]
  },
  {
   "cell_type": "markdown",
   "metadata": {},
   "source": [
    "#### CPI Dataset Summary\n",
    "* Corruption Perceptions Index Rank (float64):\n",
    "This represents the ranking of the country based on its Corruption Perceptions Index (CPI) score, with rank 1 being the least corrupt country.\n",
    "Lower ranks indicate better perceived transparency.\n",
    "\n",
    "* Corruption Perceptions Index Score (float64):\n",
    "This score quantifies perceived corruption levels on a scale of 0 to 100, where:\n",
    "0 = highly corrupt\n",
    "100 = very clean (low corruption perception)\n",
    "It is calculated using multiple data sources, standardized, and aggregated.\n",
    "\n",
    "* Corruption Perceptions Index Sources (float64):\n",
    "The number of sources used to calculate the CPI score for a given country.\n",
    "The CPI uses multiple expert assessments and business surveys; having more sources increases reliability.\n",
    "\n",
    "*  Corruption Perceptions Index Standard Error (float64):\n",
    "This represents the uncertainty or variability in the CPI score, showing how much variation exists among different data sources.\n",
    "A lower standard error indicates a more reliable score, while a higher one suggests more disagreement or variability in corruption perceptions across sources."
   ]
  },
  {
   "cell_type": "markdown",
   "metadata": {},
   "source": [
    "### GDP Data"
   ]
  },
  {
   "cell_type": "markdown",
   "metadata": {},
   "source": [
    "We decided to go for GDP per Capita (PPP - Purchasing Power Parity)\n",
    "\n",
    "Why?\n",
    "\n",
    "Adjusted for cost of living, making it a fairer comparison across countries.\n",
    "Helps analyze the standard of living and economic well-being in relation to corruption.\n",
    "Frequently used in corruption-related studies to measure economic development.\n",
    "\n",
    "Definition: A country's gross domestic product (GDP) at purchasing power parity (PPP) per capita is the PPP value of all final goods and services produced within an economy in a given year, divided by the average (or mid-year) population for the same year. This is similar to nominal GDP per capita but adjusted for the cost of living in each country.\n",
    "\n"
   ]
  },
  {
   "cell_type": "markdown",
   "metadata": {},
   "source": [
    "## Dataset Title\n",
    "\n",
    "### 1. Basic Information\n",
    "- **Data Source**: \n",
    "- **Description**: \n",
    "- **Year/Coverage**: \n",
    "\n",
    "### 2. Key Variables / Columns\n",
    "\n",
    "| **Column Name** | **Type** | **Description** |\n",
    "|-----------------|----------|-----------------|\n",
    "| ...             | ...      | ...             |\n",
    "| ...             | ...      | ...             |\n",
    "\n",
    "### 3. Data Cleaning / Transformation\n",
    "- **Original Format**: \n",
    "- **Filtering**: Note if you filtered the dataset (e.g., \"Retained only European countries\").\n",
    "- **Columns Kept/Removed**: \n",
    "- **Data Type Conversions**: Mention any conversions (e.g., object → float).\n",
    "- **Handling Missing Values**: \n",
    "\n",
    "### 4. Data Context & Usage\n",
    "- **Why This Dataset**: \n",
    "- **Potential Biases**: \n",
    "- **Reliability Considerations**: \n",
    "\n",
    "### 5. Additional Notes / References\n",
    "- **Official Documentation**: \n",
    "- **Version / Date of Retrieval**: "
   ]
  },
  {
   "cell_type": "code",
   "execution_count": 50,
   "metadata": {},
   "outputs": [],
   "source": [
    "gdp_ppp = pd.read_csv(\"../data/raw/gdp_per_capita.csv\")"
   ]
  },
  {
   "cell_type": "code",
   "execution_count": 51,
   "metadata": {},
   "outputs": [
    {
     "data": {
      "text/html": [
       "<div>\n",
       "<style scoped>\n",
       "    .dataframe tbody tr th:only-of-type {\n",
       "        vertical-align: middle;\n",
       "    }\n",
       "\n",
       "    .dataframe tbody tr th {\n",
       "        vertical-align: top;\n",
       "    }\n",
       "\n",
       "    .dataframe thead th {\n",
       "        text-align: right;\n",
       "    }\n",
       "</style>\n",
       "<table border=\"1\" class=\"dataframe\">\n",
       "  <thead>\n",
       "    <tr style=\"text-align: right;\">\n",
       "      <th></th>\n",
       "      <th>Series Name</th>\n",
       "      <th>Series Code</th>\n",
       "      <th>Country Name</th>\n",
       "      <th>Country Code</th>\n",
       "      <th>2012</th>\n",
       "      <th>2013</th>\n",
       "      <th>2014</th>\n",
       "      <th>2015</th>\n",
       "      <th>2016</th>\n",
       "      <th>2017</th>\n",
       "      <th>2018</th>\n",
       "      <th>2019</th>\n",
       "      <th>2020</th>\n",
       "      <th>2021</th>\n",
       "      <th>2022</th>\n",
       "      <th>2023</th>\n",
       "    </tr>\n",
       "  </thead>\n",
       "  <tbody>\n",
       "    <tr>\n",
       "      <th>0</th>\n",
       "      <td>GDP per capita (current US$)</td>\n",
       "      <td>NY.GDP.PCAP.CD</td>\n",
       "      <td>Albania</td>\n",
       "      <td>ALB</td>\n",
       "      <td>4247.631343</td>\n",
       "      <td>4413.063383</td>\n",
       "      <td>4578.633208</td>\n",
       "      <td>3952.803574</td>\n",
       "      <td>4124.055390</td>\n",
       "      <td>4531.032207</td>\n",
       "      <td>5365.489347</td>\n",
       "      <td>5460.428237</td>\n",
       "      <td>5370.778623</td>\n",
       "      <td>6413.283286</td>\n",
       "      <td>6846.426143</td>\n",
       "      <td>8575.171134</td>\n",
       "    </tr>\n",
       "    <tr>\n",
       "      <th>1</th>\n",
       "      <td>GDP per capita (current US$)</td>\n",
       "      <td>NY.GDP.PCAP.CD</td>\n",
       "      <td>Andorra</td>\n",
       "      <td>AND</td>\n",
       "      <td>41500.543579</td>\n",
       "      <td>42470.316116</td>\n",
       "      <td>44369.659691</td>\n",
       "      <td>38654.934720</td>\n",
       "      <td>40129.819201</td>\n",
       "      <td>40672.994335</td>\n",
       "      <td>42819.774580</td>\n",
       "      <td>41257.804585</td>\n",
       "      <td>37361.090067</td>\n",
       "      <td>42425.699676</td>\n",
       "      <td>42414.059009</td>\n",
       "      <td>46812.448449</td>\n",
       "    </tr>\n",
       "    <tr>\n",
       "      <th>2</th>\n",
       "      <td>GDP per capita (current US$)</td>\n",
       "      <td>NY.GDP.PCAP.CD</td>\n",
       "      <td>Austria</td>\n",
       "      <td>AUT</td>\n",
       "      <td>48250.405914</td>\n",
       "      <td>50305.354577</td>\n",
       "      <td>51314.972262</td>\n",
       "      <td>43915.228021</td>\n",
       "      <td>45061.499392</td>\n",
       "      <td>47163.742578</td>\n",
       "      <td>51194.074984</td>\n",
       "      <td>49885.994736</td>\n",
       "      <td>48716.409890</td>\n",
       "      <td>53648.719074</td>\n",
       "      <td>52176.664914</td>\n",
       "      <td>56033.573792</td>\n",
       "    </tr>\n",
       "    <tr>\n",
       "      <th>3</th>\n",
       "      <td>GDP per capita (current US$)</td>\n",
       "      <td>NY.GDP.PCAP.CD</td>\n",
       "      <td>Belarus</td>\n",
       "      <td>BLR</td>\n",
       "      <td>6953.215917</td>\n",
       "      <td>7998.080205</td>\n",
       "      <td>8341.290143</td>\n",
       "      <td>5967.068560</td>\n",
       "      <td>5039.775609</td>\n",
       "      <td>5785.533977</td>\n",
       "      <td>6360.053101</td>\n",
       "      <td>6837.768321</td>\n",
       "      <td>6542.864540</td>\n",
       "      <td>7489.718947</td>\n",
       "      <td>7994.648061</td>\n",
       "      <td>7829.053137</td>\n",
       "    </tr>\n",
       "    <tr>\n",
       "      <th>4</th>\n",
       "      <td>GDP per capita (current US$)</td>\n",
       "      <td>NY.GDP.PCAP.CD</td>\n",
       "      <td>Belgium</td>\n",
       "      <td>BEL</td>\n",
       "      <td>44874.170918</td>\n",
       "      <td>46964.594678</td>\n",
       "      <td>47995.778696</td>\n",
       "      <td>40893.804538</td>\n",
       "      <td>41854.549830</td>\n",
       "      <td>44035.323936</td>\n",
       "      <td>47487.210039</td>\n",
       "      <td>46716.622747</td>\n",
       "      <td>45906.287581</td>\n",
       "      <td>51655.788330</td>\n",
       "      <td>50807.204708</td>\n",
       "      <td>54700.909324</td>\n",
       "    </tr>\n",
       "    <tr>\n",
       "      <th>5</th>\n",
       "      <td>GDP per capita (current US$)</td>\n",
       "      <td>NY.GDP.PCAP.CD</td>\n",
       "      <td>Bosnia and Herzegovina</td>\n",
       "      <td>BIH</td>\n",
       "      <td>4693.788991</td>\n",
       "      <td>5034.566160</td>\n",
       "      <td>5206.065583</td>\n",
       "      <td>4662.258837</td>\n",
       "      <td>4928.566525</td>\n",
       "      <td>5345.019855</td>\n",
       "      <td>6047.845843</td>\n",
       "      <td>6122.375345</td>\n",
       "      <td>6130.311332</td>\n",
       "      <td>7295.343824</td>\n",
       "      <td>7655.594210</td>\n",
       "      <td>8638.666202</td>\n",
       "    </tr>\n",
       "    <tr>\n",
       "      <th>6</th>\n",
       "      <td>GDP per capita (current US$)</td>\n",
       "      <td>NY.GDP.PCAP.CD</td>\n",
       "      <td>Bulgaria</td>\n",
       "      <td>BGR</td>\n",
       "      <td>7430.737380</td>\n",
       "      <td>7687.713682</td>\n",
       "      <td>7912.274844</td>\n",
       "      <td>7078.860323</td>\n",
       "      <td>7570.931655</td>\n",
       "      <td>8381.881346</td>\n",
       "      <td>9436.144799</td>\n",
       "      <td>9838.600590</td>\n",
       "      <td>10198.538831</td>\n",
       "      <td>12274.077595</td>\n",
       "      <td>13644.201583</td>\n",
       "      <td>15885.539131</td>\n",
       "    </tr>\n",
       "    <tr>\n",
       "      <th>7</th>\n",
       "      <td>GDP per capita (current US$)</td>\n",
       "      <td>NY.GDP.PCAP.CD</td>\n",
       "      <td>Croatia</td>\n",
       "      <td>HRV</td>\n",
       "      <td>13508.683699</td>\n",
       "      <td>14136.396767</td>\n",
       "      <td>14187.969453</td>\n",
       "      <td>12285.303258</td>\n",
       "      <td>12821.173814</td>\n",
       "      <td>13902.631049</td>\n",
       "      <td>15460.418330</td>\n",
       "      <td>15563.816740</td>\n",
       "      <td>14808.462019</td>\n",
       "      <td>17789.930474</td>\n",
       "      <td>18466.095547</td>\n",
       "      <td>21865.456284</td>\n",
       "    </tr>\n",
       "    <tr>\n",
       "      <th>8</th>\n",
       "      <td>GDP per capita (current US$)</td>\n",
       "      <td>NY.GDP.PCAP.CD</td>\n",
       "      <td>Cyprus</td>\n",
       "      <td>CYP</td>\n",
       "      <td>28991.935547</td>\n",
       "      <td>27797.457031</td>\n",
       "      <td>27244.351562</td>\n",
       "      <td>23487.228516</td>\n",
       "      <td>24715.154297</td>\n",
       "      <td>26696.990234</td>\n",
       "      <td>29599.986328</td>\n",
       "      <td>29703.052734</td>\n",
       "      <td>28649.015625</td>\n",
       "      <td>33734.292969</td>\n",
       "      <td>33938.945312</td>\n",
       "      <td>36551.417969</td>\n",
       "    </tr>\n",
       "    <tr>\n",
       "      <th>9</th>\n",
       "      <td>GDP per capita (current US$)</td>\n",
       "      <td>NY.GDP.PCAP.CD</td>\n",
       "      <td>Czechia</td>\n",
       "      <td>CZE</td>\n",
       "      <td>20014.035402</td>\n",
       "      <td>20260.495500</td>\n",
       "      <td>20038.416318</td>\n",
       "      <td>17931.598767</td>\n",
       "      <td>18753.968672</td>\n",
       "      <td>20913.197632</td>\n",
       "      <td>23705.932981</td>\n",
       "      <td>24062.719001</td>\n",
       "      <td>23472.891545</td>\n",
       "      <td>27696.461953</td>\n",
       "      <td>28282.223672</td>\n",
       "      <td>31591.177073</td>\n",
       "    </tr>\n",
       "  </tbody>\n",
       "</table>\n",
       "</div>"
      ],
      "text/plain": [
       "                    Series Name     Series Code            Country Name  \\\n",
       "0  GDP per capita (current US$)  NY.GDP.PCAP.CD                 Albania   \n",
       "1  GDP per capita (current US$)  NY.GDP.PCAP.CD                 Andorra   \n",
       "2  GDP per capita (current US$)  NY.GDP.PCAP.CD                 Austria   \n",
       "3  GDP per capita (current US$)  NY.GDP.PCAP.CD                 Belarus   \n",
       "4  GDP per capita (current US$)  NY.GDP.PCAP.CD                 Belgium   \n",
       "5  GDP per capita (current US$)  NY.GDP.PCAP.CD  Bosnia and Herzegovina   \n",
       "6  GDP per capita (current US$)  NY.GDP.PCAP.CD                Bulgaria   \n",
       "7  GDP per capita (current US$)  NY.GDP.PCAP.CD                 Croatia   \n",
       "8  GDP per capita (current US$)  NY.GDP.PCAP.CD                  Cyprus   \n",
       "9  GDP per capita (current US$)  NY.GDP.PCAP.CD                 Czechia   \n",
       "\n",
       "  Country Code          2012          2013          2014          2015  \\\n",
       "0          ALB   4247.631343   4413.063383   4578.633208   3952.803574   \n",
       "1          AND  41500.543579  42470.316116  44369.659691  38654.934720   \n",
       "2          AUT  48250.405914  50305.354577  51314.972262  43915.228021   \n",
       "3          BLR   6953.215917   7998.080205   8341.290143   5967.068560   \n",
       "4          BEL  44874.170918  46964.594678  47995.778696  40893.804538   \n",
       "5          BIH   4693.788991   5034.566160   5206.065583   4662.258837   \n",
       "6          BGR   7430.737380   7687.713682   7912.274844   7078.860323   \n",
       "7          HRV  13508.683699  14136.396767  14187.969453  12285.303258   \n",
       "8          CYP  28991.935547  27797.457031  27244.351562  23487.228516   \n",
       "9          CZE  20014.035402  20260.495500  20038.416318  17931.598767   \n",
       "\n",
       "           2016          2017          2018          2019          2020  \\\n",
       "0   4124.055390   4531.032207   5365.489347   5460.428237   5370.778623   \n",
       "1  40129.819201  40672.994335  42819.774580  41257.804585  37361.090067   \n",
       "2  45061.499392  47163.742578  51194.074984  49885.994736  48716.409890   \n",
       "3   5039.775609   5785.533977   6360.053101   6837.768321   6542.864540   \n",
       "4  41854.549830  44035.323936  47487.210039  46716.622747  45906.287581   \n",
       "5   4928.566525   5345.019855   6047.845843   6122.375345   6130.311332   \n",
       "6   7570.931655   8381.881346   9436.144799   9838.600590  10198.538831   \n",
       "7  12821.173814  13902.631049  15460.418330  15563.816740  14808.462019   \n",
       "8  24715.154297  26696.990234  29599.986328  29703.052734  28649.015625   \n",
       "9  18753.968672  20913.197632  23705.932981  24062.719001  23472.891545   \n",
       "\n",
       "           2021          2022          2023  \n",
       "0   6413.283286   6846.426143   8575.171134  \n",
       "1  42425.699676  42414.059009  46812.448449  \n",
       "2  53648.719074  52176.664914  56033.573792  \n",
       "3   7489.718947   7994.648061   7829.053137  \n",
       "4  51655.788330  50807.204708  54700.909324  \n",
       "5   7295.343824   7655.594210   8638.666202  \n",
       "6  12274.077595  13644.201583  15885.539131  \n",
       "7  17789.930474  18466.095547  21865.456284  \n",
       "8  33734.292969  33938.945312  36551.417969  \n",
       "9  27696.461953  28282.223672  31591.177073  "
      ]
     },
     "execution_count": 51,
     "metadata": {},
     "output_type": "execute_result"
    }
   ],
   "source": [
    "\n",
    "# gdp_ppp.drop(labels=[\"Series Code\"], axis= 1)\n",
    "\n",
    "#gdp_ppp = gdp_ppp.drop(gdp_ppp.tail(8).index)\n",
    "\n",
    "gdp_ppp.columns = gdp_ppp.columns.str.replace(r\"\\[.*?\\]\", \"\", regex=True).str.strip()\n",
    "\n",
    "\n",
    "gdp_ppp.head(10)\n"
   ]
  },
  {
   "cell_type": "code",
   "execution_count": null,
   "metadata": {},
   "outputs": [],
   "source": []
  },
  {
   "cell_type": "markdown",
   "metadata": {},
   "source": []
  },
  {
   "cell_type": "markdown",
   "metadata": {},
   "source": []
  },
  {
   "cell_type": "markdown",
   "metadata": {},
   "source": []
  },
  {
   "cell_type": "code",
   "execution_count": null,
   "metadata": {},
   "outputs": [],
   "source": []
  },
  {
   "cell_type": "code",
   "execution_count": null,
   "metadata": {},
   "outputs": [],
   "source": []
  },
  {
   "cell_type": "code",
   "execution_count": null,
   "metadata": {},
   "outputs": [],
   "source": []
  },
  {
   "cell_type": "code",
   "execution_count": null,
   "metadata": {},
   "outputs": [],
   "source": []
  },
  {
   "cell_type": "code",
   "execution_count": null,
   "metadata": {},
   "outputs": [],
   "source": []
  },
  {
   "cell_type": "code",
   "execution_count": null,
   "metadata": {},
   "outputs": [],
   "source": []
  },
  {
   "cell_type": "code",
   "execution_count": null,
   "metadata": {},
   "outputs": [],
   "source": []
  },
  {
   "cell_type": "code",
   "execution_count": null,
   "metadata": {},
   "outputs": [],
   "source": []
  },
  {
   "cell_type": "markdown",
   "metadata": {},
   "source": []
  },
  {
   "cell_type": "markdown",
   "metadata": {},
   "source": []
  },
  {
   "cell_type": "code",
   "execution_count": null,
   "metadata": {},
   "outputs": [],
   "source": []
  },
  {
   "cell_type": "markdown",
   "metadata": {},
   "source": []
  },
  {
   "cell_type": "markdown",
   "metadata": {},
   "source": []
  },
  {
   "cell_type": "markdown",
   "metadata": {},
   "source": []
  }
 ],
 "metadata": {
  "kernelspec": {
   "display_name": ".venv",
   "language": "python",
   "name": "python3"
  },
  "language_info": {
   "codemirror_mode": {
    "name": "ipython",
    "version": 3
   },
   "file_extension": ".py",
   "mimetype": "text/x-python",
   "name": "python",
   "nbconvert_exporter": "python",
   "pygments_lexer": "ipython3",
   "version": "3.10.12"
  }
 },
 "nbformat": 4,
 "nbformat_minor": 2
}
