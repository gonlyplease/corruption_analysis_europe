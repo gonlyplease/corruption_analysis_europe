{
 "cells": [
  {
   "cell_type": "markdown",
   "metadata": {},
   "source": [
    "## Our 4 Starting Question we decided to change to a single one:\n",
    "\n",
    "\n",
    "1. How well can the level of corruption in a European country be quantified?\n",
    "\n",
    "This questions is too broad and may lack specificity. Also not a good question to answer within a notebook.\n",
    "The definition of \"quantified\" needs clarification—are we looking at an index, a model, or a metric?\n",
    "\n",
    "2. Are there different forms of corruption prevalent in different European countries?\n",
    "\n",
    "While interesting, it may be challenging to obtain granular, comparable data across countries.\n",
    "Requires deep qualitative insights, which may not be fully captured by available datasets.\n",
    "\n",
    "3. What characteristics of a country predict the level of corruption?\n",
    "\n",
    "Why it's promising:\n",
    "\n",
    "Allows for quantitative analysis using regression or classification models.\n",
    "Can leverage socio-economic, political, and governance indicators.\n",
    "Provides actionable insights for policymakers and organizations.\n",
    "Well-defined and measurable through publicly available datasets.\n",
    "Potential Challenges:\n",
    "\n",
    "Ensuring data quality and avoiding biases in reporting.\n",
    "Distinguishing correlation from causation.\n",
    "\n",
    "4. What characteristics of a country predict an increase or decrease in the level of corruption?\n",
    "\n",
    "Why it's promising:\n",
    "\n",
    "Focuses on change over time, enabling trend analysis.\n",
    "Useful for policy evaluation and forecasting.\n",
    "Encourages a deeper exploration of temporal datasets (e.g., economic reforms, governance improvements, etc.).\n",
    "Can help identify early warning signs for rising corruption.\n",
    "Potential Challenges:\n",
    "\n",
    "Requires time-series data and careful handling of lag effects.\n",
    "External factors (global economic crises, political events) may introduce noise.\n"
   ]
  },
  {
   "cell_type": "markdown",
   "metadata": {},
   "source": [
    "The following question seems the most promising and we decided to only choose this one:\n",
    "\n",
    "# What characteristics of a european country predict the level of corruption?\n",
    "\n",
    "Why it's promising:\n",
    "\n",
    "Allows for quantitative analysis using regression or classification models.\n",
    "Can leverage socio-economic, political, and governance indicators.\n",
    "Provides actionable insights for policymakers and organizations.\n",
    "Well-defined and measurable through publicly available datasets.\n",
    "Potential Challenges:\n",
    "\n",
    "Ensuring data quality and avoiding biases in reporting.\n",
    "Distinguishing correlation from causation."
   ]
  },
  {
   "cell_type": "markdown",
   "metadata": {},
   "source": [
    "maybe we could tackle this one but lets find out later: Which country characteristics (e.g., economic, political, social indicators) best predict the level of corruption in European countries, and how do these characteristics relate to any gap between actual and perceived corruption?\n",
    "\n"
   ]
  },
  {
   "cell_type": "markdown",
   "metadata": {},
   "source": [
    "# Start\n",
    "\n",
    "As we have decided to focus on the continent of europe the first challenge will be to create a dataset of all european countries. To make this notebook not substantially long we will provide the finished data **europe_countries** to you. It shows all european countries and their ISO3 Code and ISO2 Code which should allow better preprocessing later."
   ]
  },
  {
   "cell_type": "code",
   "execution_count": 465,
   "metadata": {},
   "outputs": [],
   "source": [
    "import numpy as np\n",
    "import pandas as pd\n",
    "import os"
   ]
  },
  {
   "cell_type": "code",
   "execution_count": 447,
   "metadata": {},
   "outputs": [],
   "source": [
    "countries = pd.read_csv(\"../data/processed/europe_countries.csv\")"
   ]
  },
  {
   "cell_type": "code",
   "execution_count": 448,
   "metadata": {},
   "outputs": [
    {
     "name": "stdout",
     "output_type": "stream",
     "text": [
      "<class 'pandas.core.frame.DataFrame'>\n",
      "RangeIndex: 49 entries, 0 to 48\n",
      "Data columns (total 3 columns):\n",
      " #   Column     Non-Null Count  Dtype \n",
      "---  ------     --------------  ----- \n",
      " 0   Country    49 non-null     object\n",
      " 1   ISO3 Code  49 non-null     object\n",
      " 2   ISO2 Code  49 non-null     object\n",
      "dtypes: object(3)\n",
      "memory usage: 1.3+ KB\n"
     ]
    }
   ],
   "source": [
    "countries.info()"
   ]
  },
  {
   "cell_type": "code",
   "execution_count": 449,
   "metadata": {},
   "outputs": [
    {
     "data": {
      "text/plain": [
       "array(['Albania', 'Andorra', 'Austria', 'Belarus', 'Belgium',\n",
       "       'Bosnia & Herzegovina', 'Bulgaria', 'Croatia', 'Cyprus',\n",
       "       'Czech Republic', 'Denmark', 'Estonia', 'Finland', 'France',\n",
       "       'Georgia', 'Germany', 'Greece', 'Hungary', 'Iceland', 'Ireland',\n",
       "       'Italy', 'Kosovo2', 'Kosovo', 'Latvia', 'Liechtenstein',\n",
       "       'Lithuania', 'Luxembourg', 'Malta', 'Moldova', 'Monaco',\n",
       "       'Montenegro', 'Netherlands', 'North Macedonia', 'Norway', 'Poland',\n",
       "       'Portugal', 'Romania', 'Russia', 'San Marino', 'Serbia',\n",
       "       'Slovakia', 'Slovenia', 'Spain', 'Sweden', 'Switzerland', 'Turkey',\n",
       "       'Ukraine', 'United Kingdom', 'Vatican City'], dtype=object)"
      ]
     },
     "execution_count": 449,
     "metadata": {},
     "output_type": "execute_result"
    }
   ],
   "source": [
    "countries['Country'].unique()"
   ]
  },
  {
   "cell_type": "markdown",
   "metadata": {},
   "source": [
    "When looking at european countrie numbers, many figures fly arround, our data includes 48 countries, and of course the most promising ones. As we will see later most of the other datasets aint serve data for all countries anyway. Especially for small countries like Vatican or Monaco, etc."
   ]
  },
  {
   "cell_type": "markdown",
   "metadata": {},
   "source": [
    "### Corruption Perceptions Index (CPI) from Transparency International.\n",
    "Data Set that shows preceived corruption of countries and rank them.\n",
    "\n",
    "Link to data: https://images.transparencycdn.org/images/CPI2023_FullDataSet.zip\n",
    "https://www.transparency.org/en/news/how-cpi-scores-are-calculated\n",
    "\n",
    " 0   Economy ISO3                                \n",
    " 1   Economy Name                                 \n",
    " 2   Year                                           \n",
    " 3   Corruption Perceptions Index Rank            \n",
    " 4   Corruption Perceptions Index Score           \n",
    " 5   Corruption Perceptions Index Sources        \n",
    " 6   Corruption Perceptions Index Standard Error\n",
    "\n",
    "We took the xlsx and transformed it to this more comapct version with only features we need and only european countries. Data points get explained at the end of each processing."
   ]
  },
  {
   "cell_type": "code",
   "execution_count": 450,
   "metadata": {},
   "outputs": [],
   "source": [
    "cpi_data = pd.read_csv(\"../data/processed/CPI.csv\")"
   ]
  },
  {
   "cell_type": "code",
   "execution_count": 451,
   "metadata": {},
   "outputs": [
    {
     "name": "stdout",
     "output_type": "stream",
     "text": [
      "Lenght of all europe countries in our list:  49\n",
      "Lenght of cpi countriest: 42\n",
      "Countries mssing\n"
     ]
    },
    {
     "data": {
      "text/plain": [
       "{'AND', 'LIE', 'MCO', 'RKS', 'SMR', 'VAT', 'XKX'}"
      ]
     },
     "execution_count": 451,
     "metadata": {},
     "output_type": "execute_result"
    }
   ],
   "source": [
    "iso3_europe_full = set(countries[\"ISO3 Code\"])\n",
    "\n",
    "iso3_europe_cpi = set(cpi_data[\"Economy ISO3\"])\n",
    "\n",
    "print('Lenght of all europe countries in our list: ',len(iso3_europe_full))\n",
    "print('Lenght of cpi countriest:', len(iso3_europe_cpi))\n",
    "\n",
    "print('Countries mssing')\n",
    "\n",
    "iso3_europe_full-iso3_europe_cpi"
   ]
  },
  {
   "cell_type": "markdown",
   "metadata": {},
   "source": [
    "Countries missing: Andora, Liechtenstein, Kosovo, San Marino, Vatikan, Gibraltar, Azerbaijan. We could neclect this countries due to their small size and impact."
   ]
  },
  {
   "cell_type": "code",
   "execution_count": 452,
   "metadata": {},
   "outputs": [
    {
     "data": {
      "text/plain": [
       "array([2012, 2013, 2014, 2015, 2016, 2017, 2018, 2019, 2020, 2021, 2022,\n",
       "       2023])"
      ]
     },
     "execution_count": 452,
     "metadata": {},
     "output_type": "execute_result"
    }
   ],
   "source": [
    "cpi_data['Year'].unique()"
   ]
  },
  {
   "cell_type": "code",
   "execution_count": 453,
   "metadata": {},
   "outputs": [],
   "source": [
    "cpi_data.rename(columns={'Economy ISO3': 'ISO3 Code'}, inplace=True)"
   ]
  },
  {
   "cell_type": "code",
   "execution_count": 454,
   "metadata": {},
   "outputs": [
    {
     "name": "stdout",
     "output_type": "stream",
     "text": [
      "<class 'pandas.core.frame.DataFrame'>\n",
      "RangeIndex: 504 entries, 0 to 503\n",
      "Data columns (total 7 columns):\n",
      " #   Column                                       Non-Null Count  Dtype  \n",
      "---  ------                                       --------------  -----  \n",
      " 0   ISO3 Code                                    504 non-null    object \n",
      " 1   Economy Name                                 504 non-null    object \n",
      " 2   Year                                         504 non-null    int64  \n",
      " 3   Corruption Perceptions Index Rank            491 non-null    float64\n",
      " 4   Corruption Perceptions Index Score           504 non-null    float64\n",
      " 5   Corruption Perceptions Index Sources         504 non-null    float64\n",
      " 6   Corruption Perceptions Index Standard Error  504 non-null    float64\n",
      "dtypes: float64(4), int64(1), object(2)\n",
      "memory usage: 27.7+ KB\n"
     ]
    }
   ],
   "source": [
    "cpi_data.info()"
   ]
  },
  {
   "cell_type": "markdown",
   "metadata": {},
   "source": [
    "#### CPI Dataset Summary\n",
    "* Corruption Perceptions Index Rank (float64):\n",
    "This represents the ranking of the country based on its Corruption Perceptions Index (CPI) score, with rank 1 being the least corrupt country.\n",
    "Lower ranks indicate better perceived transparency.\n",
    "\n",
    "* Corruption Perceptions Index Score (float64):\n",
    "This score quantifies perceived corruption levels on a scale of 0 to 100, where:\n",
    "0 = highly corrupt\n",
    "100 = very clean (low corruption perception)\n",
    "It is calculated using multiple data sources, standardized, and aggregated.\n",
    "\n",
    "* Corruption Perceptions Index Sources (float64):\n",
    "The number of sources used to calculate the CPI score for a given country.\n",
    "The CPI uses multiple expert assessments and business surveys; having more sources increases reliability.\n",
    "\n",
    "*  Corruption Perceptions Index Standard Error (float64):\n",
    "This represents the uncertainty or variability in the CPI score, showing how much variation exists among different data sources.\n",
    "A lower standard error indicates a more reliable score, while a higher one suggests more disagreement or variability in corruption perceptions across sources."
   ]
  },
  {
   "cell_type": "markdown",
   "metadata": {},
   "source": [
    "### GDP Data"
   ]
  },
  {
   "cell_type": "markdown",
   "metadata": {},
   "source": [
    "We decided to go for GDP per Capita (PPP - Purchasing Power Parity)\n",
    "\n",
    "Why?\n",
    "\n",
    "Adjusted for cost of living, making it a fairer comparison across countries.\n",
    "Helps analyze the standard of living and economic well-being in relation to corruption.\n",
    "Frequently used in corruption-related studies to measure economic development.\n",
    "\n",
    "Definition: A country's gross domestic product (GDP) at purchasing power parity (PPP) per capita is the PPP value of all final goods and services produced within an economy in a given year, divided by the average (or mid-year) population for the same year. This is similar to nominal GDP per capita but adjusted for the cost of living in each country.\n",
    "\n"
   ]
  },
  {
   "cell_type": "markdown",
   "metadata": {},
   "source": [
    "### Processignt the World Bank Indicators and form one single wpi dataset"
   ]
  },
  {
   "cell_type": "markdown",
   "metadata": {},
   "source": [
    "### Function to filter the datasets on our european country list."
   ]
  },
  {
   "cell_type": "code",
   "execution_count": 480,
   "metadata": {},
   "outputs": [],
   "source": [
    "def get_countries(df, countries_df, iso=\"ISO3 Code\"):\n",
    "    try:\n",
    "        \n",
    "        df.rename(columns={'Country Code': 'ISO3 Code'}, inplace=True)\n",
    "\n",
    "        \n",
    "        if iso not in countries_df.columns:\n",
    "            raise KeyError(f\"Column '{iso}' not found in countries DataFrame\")\n",
    "        \n",
    "        # Process the ISO codes and clean whitespace\n",
    "        iso_europe = set(countries_df[iso].dropna().astype(str).str.strip())\n",
    "        iso_data = set(df[iso].dropna().astype(str).str.strip())\n",
    "        \n",
    "        # Print missing countries for debugging\n",
    "        missing_countries = iso_data - iso_europe\n",
    "        if missing_countries:\n",
    "            print(\"Missing countries:\", missing_countries)\n",
    "        \n",
    "        # Filter the DataFrame based on valid ISO codes\n",
    "        filtered_df = df[df[iso].isin(iso_europe)]\n",
    "        \n",
    "        return filtered_df\n",
    "    \n",
    "    except KeyError as err:\n",
    "        print(f\"KeyError: {err}\")\n",
    "        return None\n",
    "    except Exception as e:\n",
    "        print(f\"An error occurred: {e}\")\n",
    "        return None\n"
   ]
  },
  {
   "cell_type": "markdown",
   "metadata": {},
   "source": [
    "### Conversion of the raw csv to a comprimised Data Frame"
   ]
  },
  {
   "cell_type": "code",
   "execution_count": 467,
   "metadata": {},
   "outputs": [],
   "source": [
    "def convert_worldbank_df(df, value_name):\n",
    "    \n",
    "    df =df.drop(labels=[\"Series Code\", \"Series Name\"], axis= 1)\n",
    "\n",
    "    #df = df.drop(df.tail(8).index)\n",
    "\n",
    "    df.columns = df.columns.str.replace(r\"\\[.*?\\]\", \"\", regex=True).str.strip()\n",
    "    \n",
    "    df = df.melt(\n",
    "    id_vars=['Country Name', 'ISO3 Code'],\n",
    "    var_name='Year',\n",
    "    value_name=value_name\n",
    ")\n",
    "    \n",
    "    df.reset_index(drop=True, inplace=True)\n",
    "\n",
    "    \n",
    "    return df"
   ]
  },
  {
   "cell_type": "code",
   "execution_count": 457,
   "metadata": {},
   "outputs": [],
   "source": [
    "iso_europe = set(countries[\"ISO3 Code\"].dropna().astype(str).str.strip())\n",
    "#iso_data = set(rule_of_law[\"Country Code\"].dropna().astype(str).str.strip())"
   ]
  },
  {
   "cell_type": "markdown",
   "metadata": {},
   "source": [
    "### Loop to create a unified dataset"
   ]
  },
  {
   "cell_type": "markdown",
   "metadata": {},
   "source": [
    "So as the process would be the same for every dataset of the worldbank we created a loop and combined the end results to have a better overview in the code. You will find a overall description of every data point after the code."
   ]
  },
  {
   "cell_type": "code",
   "execution_count": 474,
   "metadata": {},
   "outputs": [],
   "source": [
    "# Define your datasets info\n",
    "datasets_info = {\n",
    "    \"rule_of_law\": {\n",
    "        \"file_path\": \"rule_of_law\",\n",
    "        \"value_name\": \"Rule_of_law\"\n",
    "    },\n",
    "    \"government_effectiveness\": {\n",
    "        \"file_path\": \"government_effectiveness\",\n",
    "        \"value_name\": \"Gov_effectiveness\"\n",
    "    },\n",
    "    \"control_of_corruption\": {\n",
    "        \"file_path\": \"control_of_corruption\",\n",
    "        \"value_name\": \"Control_of_corruption\"\n",
    "    },\n",
    "    \"fdi\": {\n",
    "        \"file_path\": \"fdi\",\n",
    "        \"value_name\": \"Fdi\"\n",
    "    },\n",
    "    \"gdp_per_capita\": {\n",
    "        \"file_path\": \"gdp_per_capita\",\n",
    "        \"value_name\": \"Gdp_per_capita\"\n",
    "    },\n",
    "    \"gini\": {\n",
    "        \"file_path\": \"gini\",\n",
    "        \"value_name\": \"Gini\"\n",
    "    },\n",
    "    \"unemployement\": {\n",
    "        \"file_path\": \"unemployement\",\n",
    "        \"value_name\": \"Unemployement\"\n",
    "    },\n",
    "      \"political_stability\": {\n",
    "        \"file_path\": \"political_stability\",\n",
    "        \"value_name\": \"Political_stability\"\n",
    "    },\n",
    "}\n"
   ]
  },
  {
   "cell_type": "code",
   "execution_count": 475,
   "metadata": {},
   "outputs": [],
   "source": [
    "def process_dataset(file_path, value_name, countries_df=countries):\n",
    "    \"\"\"\n",
    "    Reads a CSV file and processes it into a standardized format:\n",
    "      - Reads the CSV\n",
    "      - Converts it using 'convert_worldbank_df' (user-defined)\n",
    "      - Matches and filters countries using 'get_countries' (user-defined)\n",
    "      - Keeps only [Country Name, Country Code, Year, <value_name>]\n",
    "\n",
    "    Parameters:\n",
    "        file_path (str): Path to the CSV file (without the .csv extension).\n",
    "        value_name (str): Name to be assigned to the indicator value column.\n",
    "        countries_df (pd.DataFrame): A DataFrame containing valid country information\n",
    "                                     for filtering/mapping.\n",
    "\n",
    "    Returns:\n",
    "        pd.DataFrame: Processed DataFrame with columns:\n",
    "                      ['Country Name', 'Country Code', 'Year', <value_name>]\n",
    "    \"\"\"\n",
    "    full_path = f'../data/raw/{file_path}.csv'\n",
    "    \n",
    "    # Check if file exists\n",
    "    if not os.path.exists(full_path):\n",
    "        raise FileNotFoundError(f\"File not found: {full_path}\")\n",
    "    \n",
    "    # Read CSV\n",
    "    df = pd.read_csv(full_path)\n",
    "    \n",
    "    df.rename(columns={'Country Code': 'ISO3 Code'}, inplace=True)\n",
    "\n",
    "        \n",
    "    # Convert the World Bank style data to a long format with 'Year' and 'value_name'\n",
    "    df = convert_worldbank_df(df=df, value_name=value_name)\n",
    "    \n",
    "    # Filter/match country codes and names with european country list\n",
    "    df = get_countries(df=df, countries_df=countries_df)\n",
    "\n",
    "\n",
    "    df = df[['ISO3 Code', 'Year', value_name]]\n",
    "    \n",
    "    print(df.shape)\n",
    "    \n",
    "    return df\n"
   ]
  },
  {
   "cell_type": "code",
   "execution_count": 476,
   "metadata": {},
   "outputs": [],
   "source": [
    "def combine_datasets(datasets_info, countries_df):\n",
    "    \"\"\"\n",
    "    Iterates over all datasets in datasets_info, processes each one,\n",
    "    and merges them into a single DataFrame on ['Country Code', 'Year'].\n",
    "\n",
    "    Parameters:\n",
    "        datasets_info (dict): Dictionary containing dataset info with keys like:\n",
    "                              {\n",
    "                                  \"rule_of_law\": {\n",
    "                                      \"file_path\": \"rule_of_law\",\n",
    "                                      \"value_name\": \"Rule_of_law\"\n",
    "                                  },\n",
    "                                  ... \n",
    "                              }\n",
    "        countries_df (pd.DataFrame): A DataFrame containing valid country information.\n",
    "\n",
    "    Returns:\n",
    "        pd.DataFrame: Final merged DataFrame with columns:\n",
    "                      ['Country Code', 'Year', <all value_names>]\n",
    "    \"\"\"\n",
    "    merged_df = None\n",
    "\n",
    "    for ds_name, info in datasets_info.items():\n",
    "        file_path = info[\"file_path\"]\n",
    "        value_name = info[\"value_name\"]\n",
    "        \n",
    "        try:\n",
    "            # Process each dataset\n",
    "            temp_df = process_dataset(\n",
    "                file_path=file_path,\n",
    "                value_name=value_name,\n",
    "            )\n",
    "            print(f\"Successfully processed: {ds_name}\")\n",
    "\n",
    "            # Ensure only necessary columns are present\n",
    "            temp_df = temp_df[['ISO3 Code', 'Year', value_name]]\n",
    "            \n",
    "            # Merge into our final DF\n",
    "            if merged_df is None:\n",
    "                merged_df = temp_df\n",
    "            else:\n",
    "                merged_df = pd.merge(\n",
    "                    merged_df,\n",
    "                    temp_df,\n",
    "                    on=['ISO3 Code', 'Year'],\n",
    "                    how='outer'\n",
    "                )\n",
    "\n",
    "        except Exception as e:\n",
    "            print(f\"Error processing {ds_name}: {e}\")\n",
    "            continue\n",
    "\n",
    "    if merged_df is not None:\n",
    "        # Merge with the reference countries DataFrame to ensure all countries are included\n",
    "        merged_df = pd.merge(countries_df[['ISO3 Code']], merged_df, on='ISO3 Code', how='left')\n",
    "        merged_df.sort_values(by=['ISO3 Code', 'Year'], inplace=True)\n",
    "        merged_df.reset_index(drop=True, inplace=True)\n",
    "\n",
    "    return merged_df\n"
   ]
  },
  {
   "cell_type": "code",
   "execution_count": 477,
   "metadata": {},
   "outputs": [
    {
     "name": "stdout",
     "output_type": "stream",
     "text": [
      "Missing countries: {'JEY', 'TJK', 'UZB', 'KGZ', 'AZE', 'KAZ', 'ARM', 'TKM', 'GRL'}\n",
      "(564, 3)\n",
      "Successfully processed: rule_of_law\n",
      "Missing countries: {'JEY', 'TJK', 'UZB', 'KGZ', 'AZE', 'KAZ', 'ARM', 'TKM', 'GRL'}\n",
      "(564, 3)\n",
      "Successfully processed: government_effectiveness\n",
      "Missing countries: {'JEY', 'TJK', 'UZB', 'KGZ', 'AZE', 'KAZ', 'ARM', 'TKM', 'GRL'}\n",
      "(564, 3)\n",
      "Successfully processed: control_of_corruption\n",
      "Missing countries: {'FRO', 'TJK', 'UZB', 'KGZ', 'AZE', 'KAZ', 'GIB', 'ARM', 'CHI', 'TKM', 'IMN', 'GRL'}\n",
      "(564, 3)\n",
      "Successfully processed: fdi\n",
      "Missing countries: {'AZE', 'GIB', '(Europe)'}\n",
      "(564, 3)\n",
      "Successfully processed: gdp_per_capita\n",
      "Missing countries: {'GHA', 'GNQ', 'THA', 'GTM', 'ABW', 'CYM', 'BEN', 'FJI', 'FSM', 'VEN', 'WSM', 'MUS', 'LSO', 'BWA', 'COM', 'BTN', 'BHR', 'GRD', 'ARM', 'SAU', 'SYR', 'TGO', 'PAN', 'GUM', 'NZL', 'STP', 'MWI', 'ZWE', 'GUY', 'IMN', 'MOZ', 'IRN', 'PNG', 'MAC', 'AUS', 'LBN', 'SEN', 'MRT', 'TLS', 'KWT', 'GMB', 'SLE', 'CHN', 'COL', 'OMN', 'SYC', 'KGZ', 'NCL', 'PRK', 'NGA', 'CUB', 'TJK', 'URY', 'CIV', 'MAR', 'ISR', 'YEM', 'PYF', 'USA', 'BHS', 'PRI', 'CPV', 'LAO', 'BRA', 'ATG', 'SWZ', 'TKM', 'JAM', 'KHM', 'TCA', 'BMU', 'PAK', 'LBY', 'DZA', 'CUW', 'BLZ', 'AGO', 'HND', 'GRL', 'SDN', 'MAF', 'MNG', 'AZE', 'SGP', 'SLV', 'COG', 'HKG', 'PHL', 'PSE', 'LKA', 'KAZ', 'KNA', 'TTO', 'VIR', 'ZAF', 'HTI', 'ARG', 'CMR', 'GIB', 'TCD', 'RWA', 'SLB', 'COD', 'CAN', 'NRU', 'TUV', 'EGY', 'KIR', 'BRB', 'UGA', 'TUN', 'CHI', 'MLI', 'NPL', 'LBR', 'VCT', 'NAM', 'MDV', 'NIC', 'IND', 'TZA', 'BRN', 'BGD', 'ETH', 'CHL', 'DOM', 'MEX', 'JOR', 'MNP', 'ERI', 'PLW', 'LCA', 'SUR', 'QAT', 'NER', 'KEN', 'ECU', 'BOL', 'ARE', 'MMR', 'GNB', 'ASM', 'IDN', 'PER', 'MDG', 'VNM', 'PRY', 'ZMB', 'SSD', 'CRI', 'SXM', 'CAF', 'VUT', 'BFA', 'BDI', 'IRQ', 'MYS', 'AFG', 'MHL', 'KOR', 'VGB', 'SOM', 'DMA', 'GAB', 'GIN', 'TON', 'UZB', 'DJI', 'FRO', 'JPN'}\n",
      "(564, 3)\n",
      "Successfully processed: gini\n",
      "Missing countries: {'GHA', 'GNQ', 'THA', 'GTM', 'ABW', 'CYM', 'BEN', 'FJI', 'FSM', 'VEN', 'WSM', 'MUS', 'LSO', 'BWA', 'COM', 'BTN', 'BHR', 'GRD', 'ARM', 'SAU', 'SYR', 'TGO', 'PAN', 'GUM', 'NZL', 'STP', 'MWI', 'ZWE', 'GUY', 'IMN', 'MOZ', 'IRN', 'PNG', 'MAC', 'AUS', 'LBN', 'SEN', 'MRT', 'TLS', 'KWT', 'GMB', 'SLE', 'CHN', 'COL', 'OMN', 'SYC', 'KGZ', 'NCL', 'PRK', 'NGA', 'CUB', 'TJK', 'URY', 'CIV', 'MAR', 'ISR', 'YEM', 'PYF', 'USA', 'BHS', 'PRI', 'CPV', 'LAO', 'BRA', 'ATG', 'SWZ', 'TKM', 'JAM', 'KHM', 'TCA', 'BMU', 'PAK', 'LBY', 'DZA', 'CUW', 'BLZ', 'AGO', 'HND', 'GRL', 'SDN', 'MAF', 'MNG', 'AZE', 'SGP', 'SLV', 'COG', 'HKG', 'PHL', 'PSE', 'LKA', 'KAZ', 'KNA', 'TTO', 'VIR', 'ZAF', 'HTI', 'ARG', 'CMR', 'GIB', 'TCD', 'RWA', 'SLB', 'COD', 'CAN', 'NRU', 'TUV', 'EGY', 'KIR', 'BRB', 'UGA', 'TUN', 'CHI', 'MLI', 'NPL', 'LBR', 'VCT', 'NAM', 'MDV', 'NIC', 'IND', 'TZA', 'BRN', 'BGD', 'ETH', 'CHL', 'DOM', 'MEX', 'JOR', 'MNP', 'ERI', 'PLW', 'LCA', 'SUR', 'QAT', 'NER', 'KEN', 'ECU', 'BOL', 'ARE', 'MMR', 'GNB', 'ASM', 'IDN', 'PER', 'MDG', 'VNM', 'PRY', 'ZMB', 'SSD', 'CRI', 'SXM', 'CAF', 'VUT', 'BFA', 'BDI', 'IRQ', 'MYS', 'AFG', 'MHL', 'KOR', 'VGB', 'SOM', 'DMA', 'GAB', 'GIN', 'TON', 'UZB', 'DJI', 'FRO', 'JPN'}\n",
      "(564, 3)\n",
      "Successfully processed: unemployement\n",
      "Missing countries: {'JEY', 'TJK', 'UZB', 'KGZ', 'AZE', 'KAZ', 'ARM', 'TKM', 'GRL'}\n",
      "(564, 3)\n",
      "Successfully processed: political_stability\n",
      "  ISO3 Code  Year  Rule_of_law  Gov_effectiveness  Control_of_corruption  \\\n",
      "0       ALB  2012    -0.519840          -0.268925              -0.778729   \n",
      "1       ALB  2013    -0.518829          -0.324457              -0.751373   \n",
      "2       ALB  2014    -0.311199          -0.049771              -0.586572   \n",
      "3       ALB  2015    -0.319687           0.027575              -0.545141   \n",
      "4       ALB  2016    -0.322632           0.029082              -0.472374   \n",
      "\n",
      "        Fdi  Gdp_per_capita  Gini  Unemployement  Political_stability  \n",
      "0  7.451355     4247.631343  29.0         13.376            -0.143632  \n",
      "1  9.816285     4413.063383   NaN         15.866             0.091930  \n",
      "2  8.693039     4578.633208  34.6         18.055             0.485986  \n",
      "3  8.690534     3952.803574  32.8         17.193             0.341639  \n",
      "4  8.805092     4124.055390  33.7         15.418             0.337448  \n",
      "Index(['ISO3 Code', 'Year', 'Rule_of_law', 'Gov_effectiveness',\n",
      "       'Control_of_corruption', 'Fdi', 'Gdp_per_capita', 'Gini',\n",
      "       'Unemployement', 'Political_stability'],\n",
      "      dtype='object')\n"
     ]
    }
   ],
   "source": [
    "# Combine them all\n",
    "final_df = combine_datasets(datasets_info, countries_df=countries)\n",
    "\n",
    "# Inspect the merged DataFrame\n",
    "print(final_df.head())\n",
    "print(final_df.columns)"
   ]
  },
  {
   "cell_type": "code",
   "execution_count": 481,
   "metadata": {},
   "outputs": [
    {
     "data": {
      "text/html": [
       "<div>\n",
       "<style scoped>\n",
       "    .dataframe tbody tr th:only-of-type {\n",
       "        vertical-align: middle;\n",
       "    }\n",
       "\n",
       "    .dataframe tbody tr th {\n",
       "        vertical-align: top;\n",
       "    }\n",
       "\n",
       "    .dataframe thead th {\n",
       "        text-align: right;\n",
       "    }\n",
       "</style>\n",
       "<table border=\"1\" class=\"dataframe\">\n",
       "  <thead>\n",
       "    <tr style=\"text-align: right;\">\n",
       "      <th></th>\n",
       "      <th>ISO3 Code</th>\n",
       "      <th>Year</th>\n",
       "      <th>Rule_of_law</th>\n",
       "      <th>Gov_effectiveness</th>\n",
       "      <th>Control_of_corruption</th>\n",
       "      <th>Fdi</th>\n",
       "      <th>Gdp_per_capita</th>\n",
       "      <th>Gini</th>\n",
       "      <th>Unemployement</th>\n",
       "      <th>Political_stability</th>\n",
       "    </tr>\n",
       "  </thead>\n",
       "  <tbody>\n",
       "    <tr>\n",
       "      <th>444</th>\n",
       "      <td>RKS</td>\n",
       "      <td>NaN</td>\n",
       "      <td>NaN</td>\n",
       "      <td>NaN</td>\n",
       "      <td>NaN</td>\n",
       "      <td>NaN</td>\n",
       "      <td>NaN</td>\n",
       "      <td>NaN</td>\n",
       "      <td>NaN</td>\n",
       "      <td>NaN</td>\n",
       "    </tr>\n",
       "  </tbody>\n",
       "</table>\n",
       "</div>"
      ],
      "text/plain": [
       "    ISO3 Code Year  Rule_of_law  Gov_effectiveness  Control_of_corruption  \\\n",
       "444       RKS  NaN          NaN                NaN                    NaN   \n",
       "\n",
       "     Fdi  Gdp_per_capita  Gini  Unemployement  Political_stability  \n",
       "444  NaN             NaN   NaN            NaN                  NaN  "
      ]
     },
     "execution_count": 481,
     "metadata": {},
     "output_type": "execute_result"
    }
   ],
   "source": [
    "final_df[final_df[\"ISO3 Code\"]==\"RKS\"]"
   ]
  },
  {
   "cell_type": "markdown",
   "metadata": {},
   "source": [
    "### missing values still needs to be done"
   ]
  },
  {
   "cell_type": "markdown",
   "metadata": {},
   "source": [
    "## Worldbank Data Indicators\n",
    "\n",
    "### 1. Basic Information\n",
    "\n",
    "- **Data Source**: [https://databank.worldbank.org/indicator/NY.GDP.PCAP.CD/1ff4a498/Popular-Indicators?l=en#advancedDownloadOptions](https://databank.worldbank.org/indicator/NY.GDP.PCAP.CD/1ff4a498/Popular-Indicators?l=en#advancedDownloadOptions)\n",
    "- **Description**: The dataset contains various economic indicators such as GDP per capita, foreign direct investment (FDI), unemployment rates, and governance indicators for European countries from 2012 to 2023.\n",
    "- **Year/Coverage**: 2012-2023\n",
    "\n",
    "### 2. Key Variables / Columns\n",
    "\n",
    "| **Column Name**         | **Type** | **Description**                                                                          |\n",
    "| ----------------------- | -------- | ---------------------------------------------------------------------------------------- |\n",
    "| ISO3 Code               | object   | ISO 3 code of the country                                                                |\n",
    "| Year                    | object   | Year of the recorded value                                                               |\n",
    "| Rule\\_of\\_law           | float64  | Measures confidence in legal systems and contract enforcement (range: -2.5 to 2.5).      |\n",
    "| Gov\\_effectiveness      | float64  | Measures the quality of public services and policy implementation (range: -2.5 to 2.5).  |\n",
    "| Control\\_of\\_corruption | float64  | Measures perceptions of corruption in public power (range: -2.5 to 2.5).                 |\n",
    "| Fdi                     | float64  | Foreign direct investment, net inflows as a percentage of GDP.                           |\n",
    "| Gdp\\_per\\_capita        | float64  | GDP per capita adjusted for purchasing power parity (PPP).                               |\n",
    "| Gini                    | float64  | Gini index measuring income inequality (0 = perfect equality, 100 = perfect inequality). |\n",
    "| Unemployement           | float64  | Total unemployment as a percentage of the total labor force.                             |\n",
    "\n",
    "### 3. Data Cleaning / Transformation\n",
    "\n",
    "- **Original Format**: Wide format with years as columns.\n",
    "- **Filtering**: Retained only European countries.\n",
    "- **Columns Kept/Removed**: Dropped unnecessary columns like `Series Code` and `Series Name`.\n",
    "- **Data Type Conversions**: Converted `Year` to string and numeric columns to `float64`.\n",
    "- **Handling Missing Values**: Missing values are left as NaN to indicate data gaps.\n",
    "\n",
    "### 4. Data Context & Usage\n",
    "\n",
    "#### GDP per Capita (PPP - Purchasing Power Parity)\n",
    "\n",
    "- **Definition**: GDP at purchasing power parity (PPP) per capita is the PPP value of all final goods and services produced within an economy in a given year, divided by the mid-year population.\n",
    "- **Range**: Measured in international dollars, adjusted for cost of living.\n",
    "- **Note**: Helps compare living standards across countries.\n",
    "\n",
    "#### Foreign Direct Investment (FDI), net inflows (% of GDP)\n",
    "\n",
    "- **Definition**: Measures net inflows of investment to acquire a lasting management interest in an enterprise operating in another economy.\n",
    "- **Range**: Expressed as a percentage of GDP.\n",
    "- **Note**: Includes equity capital, reinvestment of earnings, and short/long-term capital.\n",
    "- **Long definition**: Foreign direct investment are the net inflows of investment to acquire a lasting management interest (10 percent or more of voting stock) in an enterprise operating in an economy other than that of the investor. It is the sum of equity capital, reinvestment of earnings, other long-term capital, and short-term capital as shown in the balance of payments. This series shows net inflows (new investment inflows less disinvestment) in the reporting economy from foreign investors, and is divided by GDP.\n",
    "Source: International Monetary Fund, International Financial Statistics and Balance of Payments databases, World Bank, International Debt Statistics, and World Bank and OECD GDP estimates.\n",
    "\n",
    "#### Unemployment Rate (% of total labor force)\n",
    "\n",
    "- **Definition**: Refers to the share of the labor force that is without work but available for and seeking employment.\n",
    "- **Range**: Expressed as a percentage.\n",
    "- **Note**: Definitions of labor force and unemployment differ by country.\n",
    "\n",
    "#### Gini Index\n",
    "\n",
    "- **Definition**: Measures the extent to which the distribution of income among individuals deviates from a perfectly equal distribution.\n",
    "- **Range**: 0 represents perfect equality; 100 implies perfect inequality.\n",
    "- **Note**: A higher Gini index indicates greater inequality.\n",
    "- **Long definition**: Gini index measures the extent to which the distribution of income (or, in some cases, consumption expenditure) among individuals or households within an economy deviates from a perfectly equal distribution. A Lorenz curve plots the cumulative percentages of total income received against the cumulative number of recipients, starting with the poorest individual or household. The Gini index measures the area between the Lorenz curve and a hypothetical line of absolute equality, expressed as a percentage of the maximum area under the line.\n",
    "\n",
    "#### Rule of Law\n",
    "\n",
    "- **Definition**: Captures perceptions of confidence in the legal system, contract enforcement, and likelihood of crime and violence.\n",
    "- **Range**: -2.5 to 2.5.\n",
    "- **Note**: Higher values indicate stronger rule of law perceptions.\n",
    "- **Long definition**: Rule of Law captures perceptions of the extent to which agents have confidence in and abide by the rules of society, and in particular the quality of contract enforcement, property rights, the police, and the courts, as well as the likelihood of crime and violence. Estimate gives the country's score on the aggregate indicator, in units of a standard normal distribution\n",
    "\n",
    "#### Control of Corruption\n",
    "\n",
    "- **Definition**: Measures perceptions of how public power is exercised for private gain.\n",
    "- **Range**: -2.5 to 2.5.\n",
    "- **Note**: Higher values indicate better control of corruption.\n",
    "- **Long definition**: Control of Corruption captures perceptions of the extent to which public power is exercised for private gain, including both petty and grand forms of corruption, as well as \"capture\" of the state by elites and private interests. Estimate gives the country's score on the aggregate indicator, in units of a standard normal distribution.\n",
    "\n",
    "#### Government Effectiveness\n",
    "\n",
    "- **Definition**: Measures perceptions of the quality of public services and policy implementation.\n",
    "- **Range**: -2.5 to 2.5.\n",
    "- **Note**: Higher values indicate more effective governance.\n",
    "- **Long definition**: Government Effectiveness captures perceptions of the quality of public services, the quality of the civil service and the degree of its independence from political pressures, the quality of policy formulation and implementation, and the credibility of the government's commitment to such policies.\n",
    "Estimate gives the country's score on the aggregate indicator, in units of a standard normal distribution, i.e.\n",
    "\n",
    "#### Political Stability and Absence of Violence/Terrorism: Estimate\n",
    "- **Definition**: Violence/Terrorism measures perceptions of the likelihood of political instability and/or politically-motivated violence, including terrorism.\n",
    "- **Range**: -2.5 to 2.5. in units of a standard normal distribution,\n",
    "- **Note**: Higher values indicate more effective governance."
   ]
  }
 ],
 "metadata": {
  "kernelspec": {
   "display_name": ".venv",
   "language": "python",
   "name": "python3"
  },
  "language_info": {
   "codemirror_mode": {
    "name": "ipython",
    "version": 3
   },
   "file_extension": ".py",
   "mimetype": "text/x-python",
   "name": "python",
   "nbconvert_exporter": "python",
   "pygments_lexer": "ipython3",
   "version": "3.10.12"
  }
 },
 "nbformat": 4,
 "nbformat_minor": 2
}
