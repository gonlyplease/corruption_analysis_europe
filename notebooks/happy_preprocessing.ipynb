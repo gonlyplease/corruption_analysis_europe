{
 "cells": [
  {
   "cell_type": "markdown",
   "id": "0bb3fbe6-85e9-4559-9971-78bb7b6bd9a4",
   "metadata": {},
   "source": [
    "## How well can the level of corruption of a country in Europe be quantified? \n",
    "\n",
    "* What differences are there in actual corruption and perceived corruption? \n",
    "\n",
    "* Are there different forms of corruption prevalent in different countries in Europe? \n",
    "\n",
    "* What characteristics of a country predict the level of corruption? \n",
    "\n",
    "* What characteristics of a country predict an increase or decrease in the level of corruption?"
   ]
  },
  {
   "cell_type": "markdown",
   "id": "74dc34e0-10eb-4f15-ac20-8c3f36cb815c",
   "metadata": {},
   "source": [
    "• Happiness Report 2005-2022\n"
   ]
  },
  {
   "cell_type": "markdown",
   "id": "7657eea8",
   "metadata": {},
   "source": [
    "1. **Log GDP per capita**: Adjusted for PPP in 2017 international dollars, using WDI data; extended for 2022 with real GDP growth forecasts, adjusted for population growth.\n",
    "\n",
    "2. **Healthy life expectancy**: WHO data for 2005-2019 interpolated/extrapolated to match 2005-2022.\n",
    "\n",
    "3. **Social support (0-1)**: National average of binary responses to having friends or relatives to rely on.\n",
    "\n",
    "4. **Freedom to make life choices (0-1)**: National average of satisfaction with freedom to choose life activities.\n",
    "\n",
    "5. **Generosity**: Residual from regressing charity donation responses on log GDP per capita.\n",
    "\n",
    "6. **Perceptions of corruption (0-1)**: Average of responses on government and business corruption.\n",
    "\n",
    "7. **Positive affect**: Average of previous-day feelings of laughter, enjoyment, and interest.\n",
    "\n",
    "8. **Negative affect**: Average of previous-day feelings of worry, sadness, and anger.\n",
    "\n"
   ]
  },
  {
   "cell_type": "code",
   "execution_count": 18,
   "id": "998d97a9-6ca6-46ec-bfba-a1629738d41a",
   "metadata": {},
   "outputs": [],
   "source": [
    "import pandas as pd\n",
    "import os"
   ]
  },
  {
   "cell_type": "code",
   "execution_count": 19,
   "id": "739e3ed3-e380-4705-8487-17b1730091cc",
   "metadata": {},
   "outputs": [],
   "source": [
    "happiness_raw_data = pd.read_csv(\"../data/raw/happiness_report.csv\")"
   ]
  },
  {
   "cell_type": "code",
   "execution_count": 20,
   "id": "5347339d-d39e-491e-b566-448e74899375",
   "metadata": {},
   "outputs": [
    {
     "data": {
      "text/html": [
       "<div>\n",
       "<style scoped>\n",
       "    .dataframe tbody tr th:only-of-type {\n",
       "        vertical-align: middle;\n",
       "    }\n",
       "\n",
       "    .dataframe tbody tr th {\n",
       "        vertical-align: top;\n",
       "    }\n",
       "\n",
       "    .dataframe thead th {\n",
       "        text-align: right;\n",
       "    }\n",
       "</style>\n",
       "<table border=\"1\" class=\"dataframe\">\n",
       "  <thead>\n",
       "    <tr style=\"text-align: right;\">\n",
       "      <th></th>\n",
       "      <th>Country Name</th>\n",
       "      <th>Regional Indicator</th>\n",
       "      <th>Year</th>\n",
       "      <th>Life Ladder</th>\n",
       "      <th>Log GDP Per Capita</th>\n",
       "      <th>Social Support</th>\n",
       "      <th>Healthy Life Expectancy At Birth</th>\n",
       "      <th>Freedom To Make Life Choices</th>\n",
       "      <th>Generosity</th>\n",
       "      <th>Perceptions Of Corruption</th>\n",
       "      <th>Positive Affect</th>\n",
       "      <th>Negative Affect</th>\n",
       "      <th>Confidence In National Government</th>\n",
       "    </tr>\n",
       "  </thead>\n",
       "  <tbody>\n",
       "    <tr>\n",
       "      <th>0</th>\n",
       "      <td>Afghanistan</td>\n",
       "      <td>South Asia</td>\n",
       "      <td>2008</td>\n",
       "      <td>3.723590</td>\n",
       "      <td>7.350416</td>\n",
       "      <td>0.450662</td>\n",
       "      <td>50.500000</td>\n",
       "      <td>0.718114</td>\n",
       "      <td>0.167652</td>\n",
       "      <td>0.881686</td>\n",
       "      <td>0.414297</td>\n",
       "      <td>0.258195</td>\n",
       "      <td>0.612072</td>\n",
       "    </tr>\n",
       "    <tr>\n",
       "      <th>1</th>\n",
       "      <td>Afghanistan</td>\n",
       "      <td>South Asia</td>\n",
       "      <td>2009</td>\n",
       "      <td>4.401778</td>\n",
       "      <td>7.508646</td>\n",
       "      <td>0.552308</td>\n",
       "      <td>50.799999</td>\n",
       "      <td>0.678896</td>\n",
       "      <td>0.190809</td>\n",
       "      <td>0.850035</td>\n",
       "      <td>0.481421</td>\n",
       "      <td>0.237092</td>\n",
       "      <td>0.611545</td>\n",
       "    </tr>\n",
       "    <tr>\n",
       "      <th>2</th>\n",
       "      <td>Afghanistan</td>\n",
       "      <td>South Asia</td>\n",
       "      <td>2010</td>\n",
       "      <td>4.758381</td>\n",
       "      <td>7.613900</td>\n",
       "      <td>0.539075</td>\n",
       "      <td>51.099998</td>\n",
       "      <td>0.600127</td>\n",
       "      <td>0.121316</td>\n",
       "      <td>0.706766</td>\n",
       "      <td>0.516907</td>\n",
       "      <td>0.275324</td>\n",
       "      <td>0.299357</td>\n",
       "    </tr>\n",
       "    <tr>\n",
       "      <th>3</th>\n",
       "      <td>Afghanistan</td>\n",
       "      <td>South Asia</td>\n",
       "      <td>2011</td>\n",
       "      <td>3.831719</td>\n",
       "      <td>7.581259</td>\n",
       "      <td>0.521104</td>\n",
       "      <td>51.400002</td>\n",
       "      <td>0.495901</td>\n",
       "      <td>0.163571</td>\n",
       "      <td>0.731109</td>\n",
       "      <td>0.479835</td>\n",
       "      <td>0.267175</td>\n",
       "      <td>0.307386</td>\n",
       "    </tr>\n",
       "    <tr>\n",
       "      <th>4</th>\n",
       "      <td>Afghanistan</td>\n",
       "      <td>South Asia</td>\n",
       "      <td>2012</td>\n",
       "      <td>3.782938</td>\n",
       "      <td>7.660506</td>\n",
       "      <td>0.520637</td>\n",
       "      <td>51.700001</td>\n",
       "      <td>0.530935</td>\n",
       "      <td>0.237588</td>\n",
       "      <td>0.775620</td>\n",
       "      <td>0.613513</td>\n",
       "      <td>0.267919</td>\n",
       "      <td>0.435440</td>\n",
       "    </tr>\n",
       "  </tbody>\n",
       "</table>\n",
       "</div>"
      ],
      "text/plain": [
       "  Country Name Regional Indicator  Year  Life Ladder  Log GDP Per Capita  \\\n",
       "0  Afghanistan         South Asia  2008     3.723590            7.350416   \n",
       "1  Afghanistan         South Asia  2009     4.401778            7.508646   \n",
       "2  Afghanistan         South Asia  2010     4.758381            7.613900   \n",
       "3  Afghanistan         South Asia  2011     3.831719            7.581259   \n",
       "4  Afghanistan         South Asia  2012     3.782938            7.660506   \n",
       "\n",
       "   Social Support  Healthy Life Expectancy At Birth  \\\n",
       "0        0.450662                         50.500000   \n",
       "1        0.552308                         50.799999   \n",
       "2        0.539075                         51.099998   \n",
       "3        0.521104                         51.400002   \n",
       "4        0.520637                         51.700001   \n",
       "\n",
       "   Freedom To Make Life Choices  Generosity  Perceptions Of Corruption  \\\n",
       "0                      0.718114    0.167652                   0.881686   \n",
       "1                      0.678896    0.190809                   0.850035   \n",
       "2                      0.600127    0.121316                   0.706766   \n",
       "3                      0.495901    0.163571                   0.731109   \n",
       "4                      0.530935    0.237588                   0.775620   \n",
       "\n",
       "   Positive Affect  Negative Affect  Confidence In National Government  \n",
       "0         0.414297         0.258195                           0.612072  \n",
       "1         0.481421         0.237092                           0.611545  \n",
       "2         0.516907         0.275324                           0.299357  \n",
       "3         0.479835         0.267175                           0.307386  \n",
       "4         0.613513         0.267919                           0.435440  "
      ]
     },
     "execution_count": 20,
     "metadata": {},
     "output_type": "execute_result"
    }
   ],
   "source": [
    "happiness_raw_data.head()"
   ]
  },
  {
   "cell_type": "code",
   "execution_count": 21,
   "id": "93e664d9-30e0-4457-957d-3533ac71f913",
   "metadata": {},
   "outputs": [],
   "source": [
    "countries = pd.read_csv(\"../data/processed/europe_countries.csv\")"
   ]
  },
  {
   "cell_type": "code",
   "execution_count": 22,
   "id": "d1dc943f-fb3b-4a88-a59a-e2c38bd70cc7",
   "metadata": {},
   "outputs": [
    {
     "name": "stdout",
     "output_type": "stream",
     "text": [
      "<class 'pandas.core.frame.DataFrame'>\n",
      "RangeIndex: 49 entries, 0 to 48\n",
      "Data columns (total 3 columns):\n",
      " #   Column     Non-Null Count  Dtype \n",
      "---  ------     --------------  ----- \n",
      " 0   Country    49 non-null     object\n",
      " 1   ISO3 Code  49 non-null     object\n",
      " 2   ISO2 Code  49 non-null     object\n",
      "dtypes: object(3)\n",
      "memory usage: 1.3+ KB\n"
     ]
    }
   ],
   "source": [
    "countries.info()"
   ]
  },
  {
   "cell_type": "code",
   "execution_count": 23,
   "id": "f5af4415-72b2-4104-a066-34346aa8447b",
   "metadata": {},
   "outputs": [
    {
     "data": {
      "text/plain": [
       "49"
      ]
     },
     "execution_count": 23,
     "metadata": {},
     "output_type": "execute_result"
    }
   ],
   "source": [
    "iso3_europe_all = set(countries[\"Country\"])\n",
    "len(iso3_europe_all)"
   ]
  },
  {
   "cell_type": "code",
   "execution_count": 24,
   "id": "353cb3a8-f813-4ffe-9b80-87a10655c5a6",
   "metadata": {},
   "outputs": [
    {
     "data": {
      "text/plain": [
       "165"
      ]
     },
     "execution_count": 24,
     "metadata": {},
     "output_type": "execute_result"
    }
   ],
   "source": [
    "iso3_europe_hap = set(happiness_raw_data[\"Country Name\"])\n",
    "len(iso3_europe_hap)"
   ]
  },
  {
   "cell_type": "code",
   "execution_count": 25,
   "id": "1ac55568-96b9-4d6a-a09d-938f02d126e0",
   "metadata": {},
   "outputs": [
    {
     "data": {
      "text/plain": [
       "{'Andorra',\n",
       " 'Bosnia & Herzegovina',\n",
       " 'Czech Republic',\n",
       " 'Kosovo2',\n",
       " 'Liechtenstein',\n",
       " 'Monaco',\n",
       " 'San Marino',\n",
       " 'Turkey',\n",
       " 'Vatican City'}"
      ]
     },
     "execution_count": 25,
     "metadata": {},
     "output_type": "execute_result"
    }
   ],
   "source": [
    "iso3_europe_all-iso3_europe_hap"
   ]
  },
  {
   "cell_type": "code",
   "execution_count": 26,
   "id": "136b21a3-5c31-4a84-923a-4d66d5cf5ed3",
   "metadata": {},
   "outputs": [],
   "source": [
    "happiness_raw_data = happiness_raw_data[happiness_raw_data[\"Country Name\"].isin(iso3_europe_all)]"
   ]
  },
  {
   "cell_type": "code",
   "execution_count": 27,
   "id": "23f118d5-d3de-40f7-894e-602c5653f6db",
   "metadata": {},
   "outputs": [
    {
     "data": {
      "text/html": [
       "<div>\n",
       "<style scoped>\n",
       "    .dataframe tbody tr th:only-of-type {\n",
       "        vertical-align: middle;\n",
       "    }\n",
       "\n",
       "    .dataframe tbody tr th {\n",
       "        vertical-align: top;\n",
       "    }\n",
       "\n",
       "    .dataframe thead th {\n",
       "        text-align: right;\n",
       "    }\n",
       "</style>\n",
       "<table border=\"1\" class=\"dataframe\">\n",
       "  <thead>\n",
       "    <tr style=\"text-align: right;\">\n",
       "      <th></th>\n",
       "      <th>Country Name</th>\n",
       "      <th>Regional Indicator</th>\n",
       "      <th>Year</th>\n",
       "      <th>Life Ladder</th>\n",
       "      <th>Log GDP Per Capita</th>\n",
       "      <th>Social Support</th>\n",
       "      <th>Healthy Life Expectancy At Birth</th>\n",
       "      <th>Freedom To Make Life Choices</th>\n",
       "      <th>Generosity</th>\n",
       "      <th>Perceptions Of Corruption</th>\n",
       "      <th>Positive Affect</th>\n",
       "      <th>Negative Affect</th>\n",
       "      <th>Confidence In National Government</th>\n",
       "    </tr>\n",
       "  </thead>\n",
       "  <tbody>\n",
       "    <tr>\n",
       "      <th>14</th>\n",
       "      <td>Albania</td>\n",
       "      <td>Central and Eastern Europe</td>\n",
       "      <td>2007</td>\n",
       "      <td>4.634252</td>\n",
       "      <td>9.121704</td>\n",
       "      <td>0.821372</td>\n",
       "      <td>66.760002</td>\n",
       "      <td>0.528605</td>\n",
       "      <td>-0.010429</td>\n",
       "      <td>0.874700</td>\n",
       "      <td>0.488819</td>\n",
       "      <td>0.246335</td>\n",
       "      <td>0.300681</td>\n",
       "    </tr>\n",
       "    <tr>\n",
       "      <th>15</th>\n",
       "      <td>Albania</td>\n",
       "      <td>Central and Eastern Europe</td>\n",
       "      <td>2009</td>\n",
       "      <td>5.485470</td>\n",
       "      <td>9.241429</td>\n",
       "      <td>0.833047</td>\n",
       "      <td>67.320000</td>\n",
       "      <td>0.525223</td>\n",
       "      <td>-0.159259</td>\n",
       "      <td>0.863665</td>\n",
       "      <td>0.564474</td>\n",
       "      <td>0.279257</td>\n",
       "      <td>NaN</td>\n",
       "    </tr>\n",
       "    <tr>\n",
       "      <th>16</th>\n",
       "      <td>Albania</td>\n",
       "      <td>Central and Eastern Europe</td>\n",
       "      <td>2010</td>\n",
       "      <td>5.268937</td>\n",
       "      <td>9.282793</td>\n",
       "      <td>0.733152</td>\n",
       "      <td>67.599998</td>\n",
       "      <td>0.568958</td>\n",
       "      <td>-0.173675</td>\n",
       "      <td>0.726262</td>\n",
       "      <td>0.576077</td>\n",
       "      <td>0.300060</td>\n",
       "      <td>NaN</td>\n",
       "    </tr>\n",
       "    <tr>\n",
       "      <th>17</th>\n",
       "      <td>Albania</td>\n",
       "      <td>Central and Eastern Europe</td>\n",
       "      <td>2011</td>\n",
       "      <td>5.867422</td>\n",
       "      <td>9.310619</td>\n",
       "      <td>0.759434</td>\n",
       "      <td>67.879997</td>\n",
       "      <td>0.487496</td>\n",
       "      <td>-0.206186</td>\n",
       "      <td>0.877003</td>\n",
       "      <td>0.565759</td>\n",
       "      <td>0.256577</td>\n",
       "      <td>NaN</td>\n",
       "    </tr>\n",
       "    <tr>\n",
       "      <th>18</th>\n",
       "      <td>Albania</td>\n",
       "      <td>Central and Eastern Europe</td>\n",
       "      <td>2012</td>\n",
       "      <td>5.510124</td>\n",
       "      <td>9.326344</td>\n",
       "      <td>0.784502</td>\n",
       "      <td>68.160004</td>\n",
       "      <td>0.601512</td>\n",
       "      <td>-0.170467</td>\n",
       "      <td>0.847675</td>\n",
       "      <td>0.553473</td>\n",
       "      <td>0.271393</td>\n",
       "      <td>0.364894</td>\n",
       "    </tr>\n",
       "  </tbody>\n",
       "</table>\n",
       "</div>"
      ],
      "text/plain": [
       "   Country Name          Regional Indicator  Year  Life Ladder  \\\n",
       "14      Albania  Central and Eastern Europe  2007     4.634252   \n",
       "15      Albania  Central and Eastern Europe  2009     5.485470   \n",
       "16      Albania  Central and Eastern Europe  2010     5.268937   \n",
       "17      Albania  Central and Eastern Europe  2011     5.867422   \n",
       "18      Albania  Central and Eastern Europe  2012     5.510124   \n",
       "\n",
       "    Log GDP Per Capita  Social Support  Healthy Life Expectancy At Birth  \\\n",
       "14            9.121704        0.821372                         66.760002   \n",
       "15            9.241429        0.833047                         67.320000   \n",
       "16            9.282793        0.733152                         67.599998   \n",
       "17            9.310619        0.759434                         67.879997   \n",
       "18            9.326344        0.784502                         68.160004   \n",
       "\n",
       "    Freedom To Make Life Choices  Generosity  Perceptions Of Corruption  \\\n",
       "14                      0.528605   -0.010429                   0.874700   \n",
       "15                      0.525223   -0.159259                   0.863665   \n",
       "16                      0.568958   -0.173675                   0.726262   \n",
       "17                      0.487496   -0.206186                   0.877003   \n",
       "18                      0.601512   -0.170467                   0.847675   \n",
       "\n",
       "    Positive Affect  Negative Affect  Confidence In National Government  \n",
       "14         0.488819         0.246335                           0.300681  \n",
       "15         0.564474         0.279257                                NaN  \n",
       "16         0.576077         0.300060                                NaN  \n",
       "17         0.565759         0.256577                                NaN  \n",
       "18         0.553473         0.271393                           0.364894  "
      ]
     },
     "execution_count": 27,
     "metadata": {},
     "output_type": "execute_result"
    }
   ],
   "source": [
    "happiness_raw_data.head()"
   ]
  },
  {
   "cell_type": "code",
   "execution_count": 35,
   "id": "76974388",
   "metadata": {},
   "outputs": [
    {
     "name": "stdout",
     "output_type": "stream",
     "text": [
      "<class 'pandas.core.frame.DataFrame'>\n",
      "Index: 427 entries, 18 to 2070\n",
      "Data columns (total 12 columns):\n",
      " #   Column                             Non-Null Count  Dtype  \n",
      "---  ------                             --------------  -----  \n",
      " 0   Country Name                       427 non-null    object \n",
      " 1   Year                               427 non-null    int64  \n",
      " 2   Life Ladder                        427 non-null    float64\n",
      " 3   Log GDP Per Capita                 425 non-null    float64\n",
      " 4   Social Support                     427 non-null    float64\n",
      " 5   Healthy Life Expectancy At Birth   416 non-null    float64\n",
      " 6   Freedom To Make Life Choices       427 non-null    float64\n",
      " 7   Generosity                         424 non-null    float64\n",
      " 8   Perceptions Of Corruption          425 non-null    float64\n",
      " 9   Positive Affect                    427 non-null    float64\n",
      " 10  Negative Affect                    427 non-null    float64\n",
      " 11  Confidence In National Government  389 non-null    float64\n",
      "dtypes: float64(10), int64(1), object(1)\n",
      "memory usage: 43.4+ KB\n"
     ]
    }
   ],
   "source": [
    "happiness_raw_data.info()"
   ]
  },
  {
   "cell_type": "code",
   "execution_count": 38,
   "id": "1935e921",
   "metadata": {},
   "outputs": [],
   "source": [
    "def apply_iso3_code(df, countries_df):\n",
    "    \"\"\"\n",
    "    Merges 'df' (with 'cname') against 'countries_df' (with 'Country Name' and 'Country Code')\n",
    "    to add the 'ISO3 Code' column to 'df'.\n",
    "\n",
    "    Parameters:\n",
    "        df (pd.DataFrame): Your original DataFrame with a 'cname' column.\n",
    "        countries_df (pd.DataFrame): DataFrame with at least two columns:\n",
    "                                     - 'Country Name': textual name of the country\n",
    "                                     - 'Country Code': ISO3 code (e.g. FRA, DEU, etc.)\n",
    "\n",
    "    Returns:\n",
    "        pd.DataFrame: Updated DataFrame that includes the 'ISO3 Code'.\n",
    "    \"\"\"\n",
    "\n",
    "    # Merge on the country name\n",
    "    merged = df.merge(\n",
    "        countries_df[['Country', 'ISO3 Code']],\n",
    "        how='left',\n",
    "        left_on='Country Name',\n",
    "        right_on='Country'\n",
    "    )\n",
    "\n",
    "\n",
    "    # (Optional) Filter out rows with missing ISO3 codes, \n",
    "    # if you only want to keep countries that have a valid code:\n",
    "    merged = merged[~merged['ISO3 Code'].isna()]\n",
    "\n",
    "    return merged\n",
    "\n",
    "# --- Example usage ---\n",
    "# Suppose `df` is your 8-column DataFrame shown above, and\n",
    "# `countries_df` is a DataFrame that contains a mapping\n",
    "# of valid European countries to their ISO3 codes.\n",
    "\n",
    "# df_with_iso3 = apply_iso3_code(df, countries_df)\n",
    "# print(df_with_iso3.head())\n"
   ]
  },
  {
   "cell_type": "code",
   "execution_count": 42,
   "id": "0ed66bb8",
   "metadata": {},
   "outputs": [],
   "source": [
    "happiness_raw_data= apply_iso3_code(df=happiness_raw_data, countries_df=countries)"
   ]
  },
  {
   "cell_type": "code",
   "execution_count": 33,
   "id": "76f63947",
   "metadata": {},
   "outputs": [],
   "source": [
    "happiness_raw_data = happiness_raw_data[happiness_raw_data['Year'] >= 2012]\n"
   ]
  },
  {
   "cell_type": "code",
   "execution_count": 44,
   "id": "4d743310",
   "metadata": {},
   "outputs": [
    {
     "ename": "KeyError",
     "evalue": "\"['Country Name', 'Country'] not found in axis\"",
     "output_type": "error",
     "traceback": [
      "\u001b[0;31m---------------------------------------------------------------------------\u001b[0m",
      "\u001b[0;31mKeyError\u001b[0m                                  Traceback (most recent call last)",
      "Cell \u001b[0;32mIn[44], line 1\u001b[0m\n\u001b[0;32m----> 1\u001b[0m happiness_raw_data \u001b[38;5;241m=\u001b[39m \u001b[43mhappiness_raw_data\u001b[49m\u001b[38;5;241;43m.\u001b[39;49m\u001b[43mdrop\u001b[49m\u001b[43m(\u001b[49m\u001b[43maxis\u001b[49m\u001b[38;5;241;43m=\u001b[39;49m\u001b[38;5;241;43m1\u001b[39;49m\u001b[43m,\u001b[49m\u001b[43m \u001b[49m\u001b[43mlabels\u001b[49m\u001b[38;5;241;43m=\u001b[39;49m\u001b[43m[\u001b[49m\u001b[38;5;124;43m'\u001b[39;49m\u001b[38;5;124;43mCountry Name\u001b[39;49m\u001b[38;5;124;43m'\u001b[39;49m\u001b[43m,\u001b[49m\u001b[43m \u001b[49m\u001b[38;5;124;43m'\u001b[39;49m\u001b[38;5;124;43mCountry\u001b[39;49m\u001b[38;5;124;43m'\u001b[39;49m\u001b[43m]\u001b[49m\u001b[43m)\u001b[49m\n",
      "File \u001b[0;32m~/DataScienceProjects/DOPP_Exercise2/.venv/lib/python3.10/site-packages/pandas/core/frame.py:5581\u001b[0m, in \u001b[0;36mDataFrame.drop\u001b[0;34m(self, labels, axis, index, columns, level, inplace, errors)\u001b[0m\n\u001b[1;32m   5433\u001b[0m \u001b[38;5;28;01mdef\u001b[39;00m \u001b[38;5;21mdrop\u001b[39m(\n\u001b[1;32m   5434\u001b[0m     \u001b[38;5;28mself\u001b[39m,\n\u001b[1;32m   5435\u001b[0m     labels: IndexLabel \u001b[38;5;241m|\u001b[39m \u001b[38;5;28;01mNone\u001b[39;00m \u001b[38;5;241m=\u001b[39m \u001b[38;5;28;01mNone\u001b[39;00m,\n\u001b[0;32m   (...)\u001b[0m\n\u001b[1;32m   5442\u001b[0m     errors: IgnoreRaise \u001b[38;5;241m=\u001b[39m \u001b[38;5;124m\"\u001b[39m\u001b[38;5;124mraise\u001b[39m\u001b[38;5;124m\"\u001b[39m,\n\u001b[1;32m   5443\u001b[0m ) \u001b[38;5;241m-\u001b[39m\u001b[38;5;241m>\u001b[39m DataFrame \u001b[38;5;241m|\u001b[39m \u001b[38;5;28;01mNone\u001b[39;00m:\n\u001b[1;32m   5444\u001b[0m \u001b[38;5;250m    \u001b[39m\u001b[38;5;124;03m\"\"\"\u001b[39;00m\n\u001b[1;32m   5445\u001b[0m \u001b[38;5;124;03m    Drop specified labels from rows or columns.\u001b[39;00m\n\u001b[1;32m   5446\u001b[0m \n\u001b[0;32m   (...)\u001b[0m\n\u001b[1;32m   5579\u001b[0m \u001b[38;5;124;03m            weight  1.0     0.8\u001b[39;00m\n\u001b[1;32m   5580\u001b[0m \u001b[38;5;124;03m    \"\"\"\u001b[39;00m\n\u001b[0;32m-> 5581\u001b[0m     \u001b[38;5;28;01mreturn\u001b[39;00m \u001b[38;5;28;43msuper\u001b[39;49m\u001b[43m(\u001b[49m\u001b[43m)\u001b[49m\u001b[38;5;241;43m.\u001b[39;49m\u001b[43mdrop\u001b[49m\u001b[43m(\u001b[49m\n\u001b[1;32m   5582\u001b[0m \u001b[43m        \u001b[49m\u001b[43mlabels\u001b[49m\u001b[38;5;241;43m=\u001b[39;49m\u001b[43mlabels\u001b[49m\u001b[43m,\u001b[49m\n\u001b[1;32m   5583\u001b[0m \u001b[43m        \u001b[49m\u001b[43maxis\u001b[49m\u001b[38;5;241;43m=\u001b[39;49m\u001b[43maxis\u001b[49m\u001b[43m,\u001b[49m\n\u001b[1;32m   5584\u001b[0m \u001b[43m        \u001b[49m\u001b[43mindex\u001b[49m\u001b[38;5;241;43m=\u001b[39;49m\u001b[43mindex\u001b[49m\u001b[43m,\u001b[49m\n\u001b[1;32m   5585\u001b[0m \u001b[43m        \u001b[49m\u001b[43mcolumns\u001b[49m\u001b[38;5;241;43m=\u001b[39;49m\u001b[43mcolumns\u001b[49m\u001b[43m,\u001b[49m\n\u001b[1;32m   5586\u001b[0m \u001b[43m        \u001b[49m\u001b[43mlevel\u001b[49m\u001b[38;5;241;43m=\u001b[39;49m\u001b[43mlevel\u001b[49m\u001b[43m,\u001b[49m\n\u001b[1;32m   5587\u001b[0m \u001b[43m        \u001b[49m\u001b[43minplace\u001b[49m\u001b[38;5;241;43m=\u001b[39;49m\u001b[43minplace\u001b[49m\u001b[43m,\u001b[49m\n\u001b[1;32m   5588\u001b[0m \u001b[43m        \u001b[49m\u001b[43merrors\u001b[49m\u001b[38;5;241;43m=\u001b[39;49m\u001b[43merrors\u001b[49m\u001b[43m,\u001b[49m\n\u001b[1;32m   5589\u001b[0m \u001b[43m    \u001b[49m\u001b[43m)\u001b[49m\n",
      "File \u001b[0;32m~/DataScienceProjects/DOPP_Exercise2/.venv/lib/python3.10/site-packages/pandas/core/generic.py:4788\u001b[0m, in \u001b[0;36mNDFrame.drop\u001b[0;34m(self, labels, axis, index, columns, level, inplace, errors)\u001b[0m\n\u001b[1;32m   4786\u001b[0m \u001b[38;5;28;01mfor\u001b[39;00m axis, labels \u001b[38;5;129;01min\u001b[39;00m axes\u001b[38;5;241m.\u001b[39mitems():\n\u001b[1;32m   4787\u001b[0m     \u001b[38;5;28;01mif\u001b[39;00m labels \u001b[38;5;129;01mis\u001b[39;00m \u001b[38;5;129;01mnot\u001b[39;00m \u001b[38;5;28;01mNone\u001b[39;00m:\n\u001b[0;32m-> 4788\u001b[0m         obj \u001b[38;5;241m=\u001b[39m \u001b[43mobj\u001b[49m\u001b[38;5;241;43m.\u001b[39;49m\u001b[43m_drop_axis\u001b[49m\u001b[43m(\u001b[49m\u001b[43mlabels\u001b[49m\u001b[43m,\u001b[49m\u001b[43m \u001b[49m\u001b[43maxis\u001b[49m\u001b[43m,\u001b[49m\u001b[43m \u001b[49m\u001b[43mlevel\u001b[49m\u001b[38;5;241;43m=\u001b[39;49m\u001b[43mlevel\u001b[49m\u001b[43m,\u001b[49m\u001b[43m \u001b[49m\u001b[43merrors\u001b[49m\u001b[38;5;241;43m=\u001b[39;49m\u001b[43merrors\u001b[49m\u001b[43m)\u001b[49m\n\u001b[1;32m   4790\u001b[0m \u001b[38;5;28;01mif\u001b[39;00m inplace:\n\u001b[1;32m   4791\u001b[0m     \u001b[38;5;28mself\u001b[39m\u001b[38;5;241m.\u001b[39m_update_inplace(obj)\n",
      "File \u001b[0;32m~/DataScienceProjects/DOPP_Exercise2/.venv/lib/python3.10/site-packages/pandas/core/generic.py:4830\u001b[0m, in \u001b[0;36mNDFrame._drop_axis\u001b[0;34m(self, labels, axis, level, errors, only_slice)\u001b[0m\n\u001b[1;32m   4828\u001b[0m         new_axis \u001b[38;5;241m=\u001b[39m axis\u001b[38;5;241m.\u001b[39mdrop(labels, level\u001b[38;5;241m=\u001b[39mlevel, errors\u001b[38;5;241m=\u001b[39merrors)\n\u001b[1;32m   4829\u001b[0m     \u001b[38;5;28;01melse\u001b[39;00m:\n\u001b[0;32m-> 4830\u001b[0m         new_axis \u001b[38;5;241m=\u001b[39m \u001b[43maxis\u001b[49m\u001b[38;5;241;43m.\u001b[39;49m\u001b[43mdrop\u001b[49m\u001b[43m(\u001b[49m\u001b[43mlabels\u001b[49m\u001b[43m,\u001b[49m\u001b[43m \u001b[49m\u001b[43merrors\u001b[49m\u001b[38;5;241;43m=\u001b[39;49m\u001b[43merrors\u001b[49m\u001b[43m)\u001b[49m\n\u001b[1;32m   4831\u001b[0m     indexer \u001b[38;5;241m=\u001b[39m axis\u001b[38;5;241m.\u001b[39mget_indexer(new_axis)\n\u001b[1;32m   4833\u001b[0m \u001b[38;5;66;03m# Case for non-unique axis\u001b[39;00m\n\u001b[1;32m   4834\u001b[0m \u001b[38;5;28;01melse\u001b[39;00m:\n",
      "File \u001b[0;32m~/DataScienceProjects/DOPP_Exercise2/.venv/lib/python3.10/site-packages/pandas/core/indexes/base.py:7070\u001b[0m, in \u001b[0;36mIndex.drop\u001b[0;34m(self, labels, errors)\u001b[0m\n\u001b[1;32m   7068\u001b[0m \u001b[38;5;28;01mif\u001b[39;00m mask\u001b[38;5;241m.\u001b[39many():\n\u001b[1;32m   7069\u001b[0m     \u001b[38;5;28;01mif\u001b[39;00m errors \u001b[38;5;241m!=\u001b[39m \u001b[38;5;124m\"\u001b[39m\u001b[38;5;124mignore\u001b[39m\u001b[38;5;124m\"\u001b[39m:\n\u001b[0;32m-> 7070\u001b[0m         \u001b[38;5;28;01mraise\u001b[39;00m \u001b[38;5;167;01mKeyError\u001b[39;00m(\u001b[38;5;124mf\u001b[39m\u001b[38;5;124m\"\u001b[39m\u001b[38;5;132;01m{\u001b[39;00mlabels[mask]\u001b[38;5;241m.\u001b[39mtolist()\u001b[38;5;132;01m}\u001b[39;00m\u001b[38;5;124m not found in axis\u001b[39m\u001b[38;5;124m\"\u001b[39m)\n\u001b[1;32m   7071\u001b[0m     indexer \u001b[38;5;241m=\u001b[39m indexer[\u001b[38;5;241m~\u001b[39mmask]\n\u001b[1;32m   7072\u001b[0m \u001b[38;5;28;01mreturn\u001b[39;00m \u001b[38;5;28mself\u001b[39m\u001b[38;5;241m.\u001b[39mdelete(indexer)\n",
      "\u001b[0;31mKeyError\u001b[0m: \"['Country Name', 'Country'] not found in axis\""
     ]
    }
   ],
   "source": [
    "happiness_raw_data = happiness_raw_data.drop(axis=1, labels=['Country Name', 'Country'])"
   ]
  },
  {
   "cell_type": "code",
   "execution_count": 45,
   "id": "c60142d3",
   "metadata": {},
   "outputs": [
    {
     "data": {
      "text/html": [
       "<div>\n",
       "<style scoped>\n",
       "    .dataframe tbody tr th:only-of-type {\n",
       "        vertical-align: middle;\n",
       "    }\n",
       "\n",
       "    .dataframe tbody tr th {\n",
       "        vertical-align: top;\n",
       "    }\n",
       "\n",
       "    .dataframe thead th {\n",
       "        text-align: right;\n",
       "    }\n",
       "</style>\n",
       "<table border=\"1\" class=\"dataframe\">\n",
       "  <thead>\n",
       "    <tr style=\"text-align: right;\">\n",
       "      <th></th>\n",
       "      <th>Year</th>\n",
       "      <th>Life Ladder</th>\n",
       "      <th>Log GDP Per Capita</th>\n",
       "      <th>Social Support</th>\n",
       "      <th>Healthy Life Expectancy At Birth</th>\n",
       "      <th>Freedom To Make Life Choices</th>\n",
       "      <th>Generosity</th>\n",
       "      <th>Perceptions Of Corruption</th>\n",
       "      <th>Positive Affect</th>\n",
       "      <th>Negative Affect</th>\n",
       "      <th>Confidence In National Government</th>\n",
       "      <th>ISO3 Code</th>\n",
       "    </tr>\n",
       "  </thead>\n",
       "  <tbody>\n",
       "    <tr>\n",
       "      <th>0</th>\n",
       "      <td>2012</td>\n",
       "      <td>5.510124</td>\n",
       "      <td>9.326344</td>\n",
       "      <td>0.784502</td>\n",
       "      <td>68.160004</td>\n",
       "      <td>0.601512</td>\n",
       "      <td>-0.170467</td>\n",
       "      <td>0.847675</td>\n",
       "      <td>0.553473</td>\n",
       "      <td>0.271393</td>\n",
       "      <td>0.364894</td>\n",
       "      <td>ALB</td>\n",
       "    </tr>\n",
       "    <tr>\n",
       "      <th>1</th>\n",
       "      <td>2013</td>\n",
       "      <td>4.550648</td>\n",
       "      <td>9.338146</td>\n",
       "      <td>0.759477</td>\n",
       "      <td>68.440002</td>\n",
       "      <td>0.631830</td>\n",
       "      <td>-0.128825</td>\n",
       "      <td>0.862905</td>\n",
       "      <td>0.540751</td>\n",
       "      <td>0.338379</td>\n",
       "      <td>0.338095</td>\n",
       "      <td>ALB</td>\n",
       "    </tr>\n",
       "    <tr>\n",
       "      <th>2</th>\n",
       "      <td>2014</td>\n",
       "      <td>4.813763</td>\n",
       "      <td>9.357805</td>\n",
       "      <td>0.625587</td>\n",
       "      <td>68.720001</td>\n",
       "      <td>0.734648</td>\n",
       "      <td>-0.026298</td>\n",
       "      <td>0.882704</td>\n",
       "      <td>0.572945</td>\n",
       "      <td>0.334543</td>\n",
       "      <td>0.498786</td>\n",
       "      <td>ALB</td>\n",
       "    </tr>\n",
       "    <tr>\n",
       "      <th>3</th>\n",
       "      <td>2015</td>\n",
       "      <td>4.606651</td>\n",
       "      <td>9.382662</td>\n",
       "      <td>0.639356</td>\n",
       "      <td>69.000000</td>\n",
       "      <td>0.703851</td>\n",
       "      <td>-0.082492</td>\n",
       "      <td>0.884793</td>\n",
       "      <td>0.579072</td>\n",
       "      <td>0.350427</td>\n",
       "      <td>0.506978</td>\n",
       "      <td>ALB</td>\n",
       "    </tr>\n",
       "    <tr>\n",
       "      <th>4</th>\n",
       "      <td>2016</td>\n",
       "      <td>4.511101</td>\n",
       "      <td>9.416873</td>\n",
       "      <td>0.638411</td>\n",
       "      <td>69.025002</td>\n",
       "      <td>0.729819</td>\n",
       "      <td>-0.018664</td>\n",
       "      <td>0.901071</td>\n",
       "      <td>0.567080</td>\n",
       "      <td>0.321706</td>\n",
       "      <td>0.400910</td>\n",
       "      <td>ALB</td>\n",
       "    </tr>\n",
       "  </tbody>\n",
       "</table>\n",
       "</div>"
      ],
      "text/plain": [
       "   Year  Life Ladder  Log GDP Per Capita  Social Support  \\\n",
       "0  2012     5.510124            9.326344        0.784502   \n",
       "1  2013     4.550648            9.338146        0.759477   \n",
       "2  2014     4.813763            9.357805        0.625587   \n",
       "3  2015     4.606651            9.382662        0.639356   \n",
       "4  2016     4.511101            9.416873        0.638411   \n",
       "\n",
       "   Healthy Life Expectancy At Birth  Freedom To Make Life Choices  Generosity  \\\n",
       "0                         68.160004                      0.601512   -0.170467   \n",
       "1                         68.440002                      0.631830   -0.128825   \n",
       "2                         68.720001                      0.734648   -0.026298   \n",
       "3                         69.000000                      0.703851   -0.082492   \n",
       "4                         69.025002                      0.729819   -0.018664   \n",
       "\n",
       "   Perceptions Of Corruption  Positive Affect  Negative Affect  \\\n",
       "0                   0.847675         0.553473         0.271393   \n",
       "1                   0.862905         0.540751         0.338379   \n",
       "2                   0.882704         0.572945         0.334543   \n",
       "3                   0.884793         0.579072         0.350427   \n",
       "4                   0.901071         0.567080         0.321706   \n",
       "\n",
       "   Confidence In National Government ISO3 Code  \n",
       "0                           0.364894       ALB  \n",
       "1                           0.338095       ALB  \n",
       "2                           0.498786       ALB  \n",
       "3                           0.506978       ALB  \n",
       "4                           0.400910       ALB  "
      ]
     },
     "execution_count": 45,
     "metadata": {},
     "output_type": "execute_result"
    }
   ],
   "source": [
    "happiness_raw_data.head()"
   ]
  },
  {
   "cell_type": "code",
   "execution_count": 30,
   "id": "dff5403b-0326-4502-bb1d-572297aa9dff",
   "metadata": {},
   "outputs": [
    {
     "data": {
      "text/plain": [
       "40"
      ]
     },
     "execution_count": 30,
     "metadata": {},
     "output_type": "execute_result"
    }
   ],
   "source": [
    "happiness_raw_data[\"Country Name\"].nunique()"
   ]
  },
  {
   "cell_type": "code",
   "execution_count": 31,
   "id": "be04e43f-d85a-46e4-89d8-c84c24ad40d8",
   "metadata": {},
   "outputs": [],
   "source": [
    "happiness_raw_data.to_csv(\"../data/processed/happiness.csv\", index=False, index_label=False)"
   ]
  }
 ],
 "metadata": {
  "kernelspec": {
   "display_name": ".venv",
   "language": "python",
   "name": "python3"
  },
  "language_info": {
   "codemirror_mode": {
    "name": "ipython",
    "version": 3
   },
   "file_extension": ".py",
   "mimetype": "text/x-python",
   "name": "python",
   "nbconvert_exporter": "python",
   "pygments_lexer": "ipython3",
   "version": "3.10.12"
  }
 },
 "nbformat": 4,
 "nbformat_minor": 5
}
