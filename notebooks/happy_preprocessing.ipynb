{
 "cells": [
  {
   "cell_type": "markdown",
   "id": "0bb3fbe6-85e9-4559-9971-78bb7b6bd9a4",
   "metadata": {},
   "source": [
    "## How well can the level of corruption of a country in Europe be quantified? \n",
    "\n",
    "* What differences are there in actual corruption and perceived corruption? \n",
    "\n",
    "* Are there different forms of corruption prevalent in different countries in Europe? \n",
    "\n",
    "* What characteristics of a country predict the level of corruption? \n",
    "\n",
    "* What characteristics of a country predict an increase or decrease in the level of corruption?"
   ]
  },
  {
   "cell_type": "markdown",
   "id": "74dc34e0-10eb-4f15-ac20-8c3f36cb815c",
   "metadata": {},
   "source": [
    "• Happiness Report 2005-2022\n"
   ]
  },
  {
   "cell_type": "code",
   "execution_count": 45,
   "id": "998d97a9-6ca6-46ec-bfba-a1629738d41a",
   "metadata": {},
   "outputs": [],
   "source": [
    "import pandas as pd\n",
    "import os"
   ]
  },
  {
   "cell_type": "code",
   "execution_count": 47,
   "id": "739e3ed3-e380-4705-8487-17b1730091cc",
   "metadata": {},
   "outputs": [],
   "source": [
    "happiness_raw_data = pd.read_csv(\"../data/raw/happiness_report.csv\")"
   ]
  },
  {
   "cell_type": "code",
   "execution_count": 49,
   "id": "5347339d-d39e-491e-b566-448e74899375",
   "metadata": {},
   "outputs": [
    {
     "data": {
      "text/html": [
       "<div>\n",
       "<style scoped>\n",
       "    .dataframe tbody tr th:only-of-type {\n",
       "        vertical-align: middle;\n",
       "    }\n",
       "\n",
       "    .dataframe tbody tr th {\n",
       "        vertical-align: top;\n",
       "    }\n",
       "\n",
       "    .dataframe thead th {\n",
       "        text-align: right;\n",
       "    }\n",
       "</style>\n",
       "<table border=\"1\" class=\"dataframe\">\n",
       "  <thead>\n",
       "    <tr style=\"text-align: right;\">\n",
       "      <th></th>\n",
       "      <th>Country Name</th>\n",
       "      <th>Regional Indicator</th>\n",
       "      <th>Year</th>\n",
       "      <th>Life Ladder</th>\n",
       "      <th>Log GDP Per Capita</th>\n",
       "      <th>Social Support</th>\n",
       "      <th>Healthy Life Expectancy At Birth</th>\n",
       "      <th>Freedom To Make Life Choices</th>\n",
       "      <th>Generosity</th>\n",
       "      <th>Perceptions Of Corruption</th>\n",
       "      <th>Positive Affect</th>\n",
       "      <th>Negative Affect</th>\n",
       "      <th>Confidence In National Government</th>\n",
       "    </tr>\n",
       "  </thead>\n",
       "  <tbody>\n",
       "    <tr>\n",
       "      <th>0</th>\n",
       "      <td>Afghanistan</td>\n",
       "      <td>South Asia</td>\n",
       "      <td>2008</td>\n",
       "      <td>3.723590</td>\n",
       "      <td>7.350416</td>\n",
       "      <td>0.450662</td>\n",
       "      <td>50.500000</td>\n",
       "      <td>0.718114</td>\n",
       "      <td>0.167652</td>\n",
       "      <td>0.881686</td>\n",
       "      <td>0.414297</td>\n",
       "      <td>0.258195</td>\n",
       "      <td>0.612072</td>\n",
       "    </tr>\n",
       "    <tr>\n",
       "      <th>1</th>\n",
       "      <td>Afghanistan</td>\n",
       "      <td>South Asia</td>\n",
       "      <td>2009</td>\n",
       "      <td>4.401778</td>\n",
       "      <td>7.508646</td>\n",
       "      <td>0.552308</td>\n",
       "      <td>50.799999</td>\n",
       "      <td>0.678896</td>\n",
       "      <td>0.190809</td>\n",
       "      <td>0.850035</td>\n",
       "      <td>0.481421</td>\n",
       "      <td>0.237092</td>\n",
       "      <td>0.611545</td>\n",
       "    </tr>\n",
       "    <tr>\n",
       "      <th>2</th>\n",
       "      <td>Afghanistan</td>\n",
       "      <td>South Asia</td>\n",
       "      <td>2010</td>\n",
       "      <td>4.758381</td>\n",
       "      <td>7.613900</td>\n",
       "      <td>0.539075</td>\n",
       "      <td>51.099998</td>\n",
       "      <td>0.600127</td>\n",
       "      <td>0.121316</td>\n",
       "      <td>0.706766</td>\n",
       "      <td>0.516907</td>\n",
       "      <td>0.275324</td>\n",
       "      <td>0.299357</td>\n",
       "    </tr>\n",
       "    <tr>\n",
       "      <th>3</th>\n",
       "      <td>Afghanistan</td>\n",
       "      <td>South Asia</td>\n",
       "      <td>2011</td>\n",
       "      <td>3.831719</td>\n",
       "      <td>7.581259</td>\n",
       "      <td>0.521104</td>\n",
       "      <td>51.400002</td>\n",
       "      <td>0.495901</td>\n",
       "      <td>0.163571</td>\n",
       "      <td>0.731109</td>\n",
       "      <td>0.479835</td>\n",
       "      <td>0.267175</td>\n",
       "      <td>0.307386</td>\n",
       "    </tr>\n",
       "    <tr>\n",
       "      <th>4</th>\n",
       "      <td>Afghanistan</td>\n",
       "      <td>South Asia</td>\n",
       "      <td>2012</td>\n",
       "      <td>3.782938</td>\n",
       "      <td>7.660506</td>\n",
       "      <td>0.520637</td>\n",
       "      <td>51.700001</td>\n",
       "      <td>0.530935</td>\n",
       "      <td>0.237588</td>\n",
       "      <td>0.775620</td>\n",
       "      <td>0.613513</td>\n",
       "      <td>0.267919</td>\n",
       "      <td>0.435440</td>\n",
       "    </tr>\n",
       "  </tbody>\n",
       "</table>\n",
       "</div>"
      ],
      "text/plain": [
       "  Country Name Regional Indicator  Year  Life Ladder  Log GDP Per Capita  \\\n",
       "0  Afghanistan         South Asia  2008     3.723590            7.350416   \n",
       "1  Afghanistan         South Asia  2009     4.401778            7.508646   \n",
       "2  Afghanistan         South Asia  2010     4.758381            7.613900   \n",
       "3  Afghanistan         South Asia  2011     3.831719            7.581259   \n",
       "4  Afghanistan         South Asia  2012     3.782938            7.660506   \n",
       "\n",
       "   Social Support  Healthy Life Expectancy At Birth  \\\n",
       "0        0.450662                         50.500000   \n",
       "1        0.552308                         50.799999   \n",
       "2        0.539075                         51.099998   \n",
       "3        0.521104                         51.400002   \n",
       "4        0.520637                         51.700001   \n",
       "\n",
       "   Freedom To Make Life Choices  Generosity  Perceptions Of Corruption  \\\n",
       "0                      0.718114    0.167652                   0.881686   \n",
       "1                      0.678896    0.190809                   0.850035   \n",
       "2                      0.600127    0.121316                   0.706766   \n",
       "3                      0.495901    0.163571                   0.731109   \n",
       "4                      0.530935    0.237588                   0.775620   \n",
       "\n",
       "   Positive Affect  Negative Affect  Confidence In National Government  \n",
       "0         0.414297         0.258195                           0.612072  \n",
       "1         0.481421         0.237092                           0.611545  \n",
       "2         0.516907         0.275324                           0.299357  \n",
       "3         0.479835         0.267175                           0.307386  \n",
       "4         0.613513         0.267919                           0.435440  "
      ]
     },
     "execution_count": 49,
     "metadata": {},
     "output_type": "execute_result"
    }
   ],
   "source": [
    "happiness_raw_data.head()"
   ]
  },
  {
   "cell_type": "code",
   "execution_count": 51,
   "id": "93e664d9-30e0-4457-957d-3533ac71f913",
   "metadata": {},
   "outputs": [],
   "source": [
    "countries = pd.read_csv(\"../data/processed/europe_countries.csv\")"
   ]
  },
  {
   "cell_type": "code",
   "execution_count": 53,
   "id": "d1dc943f-fb3b-4a88-a59a-e2c38bd70cc7",
   "metadata": {},
   "outputs": [
    {
     "name": "stdout",
     "output_type": "stream",
     "text": [
      "<class 'pandas.core.frame.DataFrame'>\n",
      "RangeIndex: 48 entries, 0 to 47\n",
      "Data columns (total 3 columns):\n",
      " #   Column     Non-Null Count  Dtype \n",
      "---  ------     --------------  ----- \n",
      " 0   Country    48 non-null     object\n",
      " 1   ISO3 Code  48 non-null     object\n",
      " 2   ISO2 Code  48 non-null     object\n",
      "dtypes: object(3)\n",
      "memory usage: 1.3+ KB\n"
     ]
    }
   ],
   "source": [
    "countries.info()"
   ]
  },
  {
   "cell_type": "code",
   "execution_count": 55,
   "id": "f5af4415-72b2-4104-a066-34346aa8447b",
   "metadata": {},
   "outputs": [
    {
     "data": {
      "text/plain": [
       "48"
      ]
     },
     "execution_count": 55,
     "metadata": {},
     "output_type": "execute_result"
    }
   ],
   "source": [
    "iso3_europe_all = set(countries[\"Country\"])\n",
    "len(iso3_europe_all)"
   ]
  },
  {
   "cell_type": "code",
   "execution_count": 57,
   "id": "353cb3a8-f813-4ffe-9b80-87a10655c5a6",
   "metadata": {},
   "outputs": [
    {
     "data": {
      "text/plain": [
       "165"
      ]
     },
     "execution_count": 57,
     "metadata": {},
     "output_type": "execute_result"
    }
   ],
   "source": [
    "iso3_europe_hap = set(happiness_raw_data[\"Country Name\"])\n",
    "len(iso3_europe_hap)"
   ]
  },
  {
   "cell_type": "code",
   "execution_count": 59,
   "id": "1ac55568-96b9-4d6a-a09d-938f02d126e0",
   "metadata": {},
   "outputs": [
    {
     "data": {
      "text/plain": [
       "{'Andorra',\n",
       " 'Bosnia & Herzegovina',\n",
       " 'Czech Republic',\n",
       " 'Liechtenstein',\n",
       " 'Monaco',\n",
       " 'San Marino',\n",
       " 'Turkey',\n",
       " 'Vatican City'}"
      ]
     },
     "execution_count": 59,
     "metadata": {},
     "output_type": "execute_result"
    }
   ],
   "source": [
    "iso3_europe_all-iso3_europe_hap"
   ]
  },
  {
   "cell_type": "code",
   "execution_count": 61,
   "id": "136b21a3-5c31-4a84-923a-4d66d5cf5ed3",
   "metadata": {},
   "outputs": [],
   "source": [
    "happiness_raw_data = happiness_raw_data[happiness_raw_data[\"Country Name\"].isin(iso3_europe_all)]"
   ]
  },
  {
   "cell_type": "code",
   "execution_count": 63,
   "id": "23f118d5-d3de-40f7-894e-602c5653f6db",
   "metadata": {},
   "outputs": [
    {
     "data": {
      "text/html": [
       "<div>\n",
       "<style scoped>\n",
       "    .dataframe tbody tr th:only-of-type {\n",
       "        vertical-align: middle;\n",
       "    }\n",
       "\n",
       "    .dataframe tbody tr th {\n",
       "        vertical-align: top;\n",
       "    }\n",
       "\n",
       "    .dataframe thead th {\n",
       "        text-align: right;\n",
       "    }\n",
       "</style>\n",
       "<table border=\"1\" class=\"dataframe\">\n",
       "  <thead>\n",
       "    <tr style=\"text-align: right;\">\n",
       "      <th></th>\n",
       "      <th>Country Name</th>\n",
       "      <th>Regional Indicator</th>\n",
       "      <th>Year</th>\n",
       "      <th>Life Ladder</th>\n",
       "      <th>Log GDP Per Capita</th>\n",
       "      <th>Social Support</th>\n",
       "      <th>Healthy Life Expectancy At Birth</th>\n",
       "      <th>Freedom To Make Life Choices</th>\n",
       "      <th>Generosity</th>\n",
       "      <th>Perceptions Of Corruption</th>\n",
       "      <th>Positive Affect</th>\n",
       "      <th>Negative Affect</th>\n",
       "      <th>Confidence In National Government</th>\n",
       "    </tr>\n",
       "  </thead>\n",
       "  <tbody>\n",
       "    <tr>\n",
       "      <th>14</th>\n",
       "      <td>Albania</td>\n",
       "      <td>Central and Eastern Europe</td>\n",
       "      <td>2007</td>\n",
       "      <td>4.634252</td>\n",
       "      <td>9.121704</td>\n",
       "      <td>0.821372</td>\n",
       "      <td>66.760002</td>\n",
       "      <td>0.528605</td>\n",
       "      <td>-0.010429</td>\n",
       "      <td>0.874700</td>\n",
       "      <td>0.488819</td>\n",
       "      <td>0.246335</td>\n",
       "      <td>0.300681</td>\n",
       "    </tr>\n",
       "    <tr>\n",
       "      <th>15</th>\n",
       "      <td>Albania</td>\n",
       "      <td>Central and Eastern Europe</td>\n",
       "      <td>2009</td>\n",
       "      <td>5.485470</td>\n",
       "      <td>9.241429</td>\n",
       "      <td>0.833047</td>\n",
       "      <td>67.320000</td>\n",
       "      <td>0.525223</td>\n",
       "      <td>-0.159259</td>\n",
       "      <td>0.863665</td>\n",
       "      <td>0.564474</td>\n",
       "      <td>0.279257</td>\n",
       "      <td>NaN</td>\n",
       "    </tr>\n",
       "    <tr>\n",
       "      <th>16</th>\n",
       "      <td>Albania</td>\n",
       "      <td>Central and Eastern Europe</td>\n",
       "      <td>2010</td>\n",
       "      <td>5.268937</td>\n",
       "      <td>9.282793</td>\n",
       "      <td>0.733152</td>\n",
       "      <td>67.599998</td>\n",
       "      <td>0.568958</td>\n",
       "      <td>-0.173675</td>\n",
       "      <td>0.726262</td>\n",
       "      <td>0.576077</td>\n",
       "      <td>0.300060</td>\n",
       "      <td>NaN</td>\n",
       "    </tr>\n",
       "    <tr>\n",
       "      <th>17</th>\n",
       "      <td>Albania</td>\n",
       "      <td>Central and Eastern Europe</td>\n",
       "      <td>2011</td>\n",
       "      <td>5.867422</td>\n",
       "      <td>9.310619</td>\n",
       "      <td>0.759434</td>\n",
       "      <td>67.879997</td>\n",
       "      <td>0.487496</td>\n",
       "      <td>-0.206186</td>\n",
       "      <td>0.877003</td>\n",
       "      <td>0.565759</td>\n",
       "      <td>0.256577</td>\n",
       "      <td>NaN</td>\n",
       "    </tr>\n",
       "    <tr>\n",
       "      <th>18</th>\n",
       "      <td>Albania</td>\n",
       "      <td>Central and Eastern Europe</td>\n",
       "      <td>2012</td>\n",
       "      <td>5.510124</td>\n",
       "      <td>9.326344</td>\n",
       "      <td>0.784502</td>\n",
       "      <td>68.160004</td>\n",
       "      <td>0.601512</td>\n",
       "      <td>-0.170467</td>\n",
       "      <td>0.847675</td>\n",
       "      <td>0.553473</td>\n",
       "      <td>0.271393</td>\n",
       "      <td>0.364894</td>\n",
       "    </tr>\n",
       "  </tbody>\n",
       "</table>\n",
       "</div>"
      ],
      "text/plain": [
       "   Country Name          Regional Indicator  Year  Life Ladder  \\\n",
       "14      Albania  Central and Eastern Europe  2007     4.634252   \n",
       "15      Albania  Central and Eastern Europe  2009     5.485470   \n",
       "16      Albania  Central and Eastern Europe  2010     5.268937   \n",
       "17      Albania  Central and Eastern Europe  2011     5.867422   \n",
       "18      Albania  Central and Eastern Europe  2012     5.510124   \n",
       "\n",
       "    Log GDP Per Capita  Social Support  Healthy Life Expectancy At Birth  \\\n",
       "14            9.121704        0.821372                         66.760002   \n",
       "15            9.241429        0.833047                         67.320000   \n",
       "16            9.282793        0.733152                         67.599998   \n",
       "17            9.310619        0.759434                         67.879997   \n",
       "18            9.326344        0.784502                         68.160004   \n",
       "\n",
       "    Freedom To Make Life Choices  Generosity  Perceptions Of Corruption  \\\n",
       "14                      0.528605   -0.010429                   0.874700   \n",
       "15                      0.525223   -0.159259                   0.863665   \n",
       "16                      0.568958   -0.173675                   0.726262   \n",
       "17                      0.487496   -0.206186                   0.877003   \n",
       "18                      0.601512   -0.170467                   0.847675   \n",
       "\n",
       "    Positive Affect  Negative Affect  Confidence In National Government  \n",
       "14         0.488819         0.246335                           0.300681  \n",
       "15         0.564474         0.279257                                NaN  \n",
       "16         0.576077         0.300060                                NaN  \n",
       "17         0.565759         0.256577                                NaN  \n",
       "18         0.553473         0.271393                           0.364894  "
      ]
     },
     "execution_count": 63,
     "metadata": {},
     "output_type": "execute_result"
    }
   ],
   "source": [
    "happiness_raw_data.head()"
   ]
  },
  {
   "cell_type": "code",
   "execution_count": 65,
   "id": "dff5403b-0326-4502-bb1d-572297aa9dff",
   "metadata": {},
   "outputs": [
    {
     "data": {
      "text/plain": [
       "40"
      ]
     },
     "execution_count": 65,
     "metadata": {},
     "output_type": "execute_result"
    }
   ],
   "source": [
    "happiness_raw_data[\"Country Name\"].nunique()"
   ]
  },
  {
   "cell_type": "code",
   "execution_count": 67,
   "id": "be04e43f-d85a-46e4-89d8-c84c24ad40d8",
   "metadata": {},
   "outputs": [],
   "source": [
    "happiness_raw_data.to_csv(\"../data/processed/happiness.csv\", index=False, index_label=False)"
   ]
  },
  {
   "cell_type": "code",
   "execution_count": 69,
   "id": "a9be6128-610c-4ca9-9a57-6e452eb30dc2",
   "metadata": {},
   "outputs": [],
   "source": [
    "happiness = pd.read_csv(\"../data/processed/happiness.csv\")"
   ]
  },
  {
   "cell_type": "code",
   "execution_count": 71,
   "id": "a5b975bd-5fc9-480b-9d6e-5d74369ae48d",
   "metadata": {},
   "outputs": [
    {
     "name": "stdout",
     "output_type": "stream",
     "text": [
      "<class 'pandas.core.frame.DataFrame'>\n",
      "RangeIndex: 612 entries, 0 to 611\n",
      "Data columns (total 13 columns):\n",
      " #   Column                             Non-Null Count  Dtype  \n",
      "---  ------                             --------------  -----  \n",
      " 0   Country Name                       612 non-null    object \n",
      " 1   Regional Indicator                 612 non-null    object \n",
      " 2   Year                               612 non-null    int64  \n",
      " 3   Life Ladder                        612 non-null    float64\n",
      " 4   Log GDP Per Capita                 609 non-null    float64\n",
      " 5   Social Support                     612 non-null    float64\n",
      " 6   Healthy Life Expectancy At Birth   596 non-null    float64\n",
      " 7   Freedom To Make Life Choices       611 non-null    float64\n",
      " 8   Generosity                         594 non-null    float64\n",
      " 9   Perceptions Of Corruption          606 non-null    float64\n",
      " 10  Positive Affect                    611 non-null    float64\n",
      " 11  Negative Affect                    612 non-null    float64\n",
      " 12  Confidence In National Government  555 non-null    float64\n",
      "dtypes: float64(10), int64(1), object(2)\n",
      "memory usage: 62.3+ KB\n"
     ]
    }
   ],
   "source": [
    "happiness.info()"
   ]
  },
  {
   "cell_type": "code",
   "execution_count": null,
   "id": "16a2b18b-12a3-4fb2-bb4a-3790c5e7da7d",
   "metadata": {},
   "outputs": [],
   "source": []
  }
 ],
 "metadata": {
  "kernelspec": {
   "display_name": "Python 3 (ipykernel)",
   "language": "python",
   "name": "python3"
  },
  "language_info": {
   "codemirror_mode": {
    "name": "ipython",
    "version": 3
   },
   "file_extension": ".py",
   "mimetype": "text/x-python",
   "name": "python",
   "nbconvert_exporter": "python",
   "pygments_lexer": "ipython3",
   "version": "3.12.3"
  }
 },
 "nbformat": 4,
 "nbformat_minor": 5
}
