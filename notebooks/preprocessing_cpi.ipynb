{
 "cells": [
  {
   "cell_type": "markdown",
   "metadata": {},
   "source": [
    "## How well can the level of corruption of a country in Europe be quantified? \n",
    "\n",
    "* What differences are there in actual corruption and perceived corruption? \n",
    "\n",
    "* Are there different forms of corruption prevalent in different countries in Europe? \n",
    "\n",
    "* What characteristics of a country predict the level of corruption? \n",
    "\n",
    "* What characteristics of a country predict an increase or decrease in the level of corruption?"
   ]
  },
  {
   "cell_type": "markdown",
   "metadata": {
    "vscode": {
     "languageId": "plaintext"
    }
   },
   "source": [
    "• Corruption Perceptions Index (CPI) from Transparency International.\n",
    "Data Set that shows preceived corruption of countries and rank them.\n",
    "\n",
    "• World Bank Development Indicators (economic, social, and governance data).\n",
    "Indicators could be used to look for correlation between them and the corruption score of countries\n",
    "\n",
    "• European Social Survey (perception-related data).\n",
    "• OECD Data on governance and public sector integrity."
   ]
  },
  {
   "cell_type": "code",
   "metadata": {
    "ExecuteTime": {
     "end_time": "2025-01-05T15:39:28.176226Z",
     "start_time": "2025-01-05T15:39:28.172717Z"
    }
   },
   "source": [
    "import pandas as pd\n",
    "import os"
   ],
   "outputs": [],
   "execution_count": 125
  },
  {
   "cell_type": "code",
   "metadata": {
    "ExecuteTime": {
     "end_time": "2025-01-05T15:39:28.218889Z",
     "start_time": "2025-01-05T15:39:28.213875Z"
    }
   },
   "source": [
    "corruption_raw_data = pd.read_csv(\"../data/processed/CPI.csv\")"
   ],
   "outputs": [],
   "execution_count": 126
  },
  {
   "cell_type": "code",
   "metadata": {
    "ExecuteTime": {
     "end_time": "2025-01-05T15:39:28.307992Z",
     "start_time": "2025-01-05T15:39:28.293883Z"
    }
   },
   "source": [
    "\n",
    "corruption_raw_data.head()"
   ],
   "outputs": [
    {
     "data": {
      "text/plain": [
       "  Economy ISO3 Economy Name  Year  Corruption Perceptions Index Rank  \\\n",
       "0          ALB      Albania  2012                              113.0   \n",
       "1          ALB      Albania  2013                              116.0   \n",
       "2          ALB      Albania  2014                              110.0   \n",
       "3          ALB      Albania  2015                               88.0   \n",
       "4          ALB      Albania  2016                               83.0   \n",
       "\n",
       "   Corruption Perceptions Index Score  Corruption Perceptions Index Sources  \\\n",
       "0                                33.0                                   7.0   \n",
       "1                                31.0                                   7.0   \n",
       "2                                33.0                                   7.0   \n",
       "3                                36.0                                   7.0   \n",
       "4                                39.0                                   7.0   \n",
       "\n",
       "   Corruption Perceptions Index Standard Error  \n",
       "0                                         2.00  \n",
       "1                                         2.10  \n",
       "2                                         1.51  \n",
       "3                                         3.58  \n",
       "4                                         1.99  "
      ],
      "text/html": [
       "<div>\n",
       "<style scoped>\n",
       "    .dataframe tbody tr th:only-of-type {\n",
       "        vertical-align: middle;\n",
       "    }\n",
       "\n",
       "    .dataframe tbody tr th {\n",
       "        vertical-align: top;\n",
       "    }\n",
       "\n",
       "    .dataframe thead th {\n",
       "        text-align: right;\n",
       "    }\n",
       "</style>\n",
       "<table border=\"1\" class=\"dataframe\">\n",
       "  <thead>\n",
       "    <tr style=\"text-align: right;\">\n",
       "      <th></th>\n",
       "      <th>Economy ISO3</th>\n",
       "      <th>Economy Name</th>\n",
       "      <th>Year</th>\n",
       "      <th>Corruption Perceptions Index Rank</th>\n",
       "      <th>Corruption Perceptions Index Score</th>\n",
       "      <th>Corruption Perceptions Index Sources</th>\n",
       "      <th>Corruption Perceptions Index Standard Error</th>\n",
       "    </tr>\n",
       "  </thead>\n",
       "  <tbody>\n",
       "    <tr>\n",
       "      <th>0</th>\n",
       "      <td>ALB</td>\n",
       "      <td>Albania</td>\n",
       "      <td>2012</td>\n",
       "      <td>113.0</td>\n",
       "      <td>33.0</td>\n",
       "      <td>7.0</td>\n",
       "      <td>2.00</td>\n",
       "    </tr>\n",
       "    <tr>\n",
       "      <th>1</th>\n",
       "      <td>ALB</td>\n",
       "      <td>Albania</td>\n",
       "      <td>2013</td>\n",
       "      <td>116.0</td>\n",
       "      <td>31.0</td>\n",
       "      <td>7.0</td>\n",
       "      <td>2.10</td>\n",
       "    </tr>\n",
       "    <tr>\n",
       "      <th>2</th>\n",
       "      <td>ALB</td>\n",
       "      <td>Albania</td>\n",
       "      <td>2014</td>\n",
       "      <td>110.0</td>\n",
       "      <td>33.0</td>\n",
       "      <td>7.0</td>\n",
       "      <td>1.51</td>\n",
       "    </tr>\n",
       "    <tr>\n",
       "      <th>3</th>\n",
       "      <td>ALB</td>\n",
       "      <td>Albania</td>\n",
       "      <td>2015</td>\n",
       "      <td>88.0</td>\n",
       "      <td>36.0</td>\n",
       "      <td>7.0</td>\n",
       "      <td>3.58</td>\n",
       "    </tr>\n",
       "    <tr>\n",
       "      <th>4</th>\n",
       "      <td>ALB</td>\n",
       "      <td>Albania</td>\n",
       "      <td>2016</td>\n",
       "      <td>83.0</td>\n",
       "      <td>39.0</td>\n",
       "      <td>7.0</td>\n",
       "      <td>1.99</td>\n",
       "    </tr>\n",
       "  </tbody>\n",
       "</table>\n",
       "</div>"
      ]
     },
     "execution_count": 127,
     "metadata": {},
     "output_type": "execute_result"
    }
   ],
   "execution_count": 127
  },
  {
   "cell_type": "code",
   "metadata": {
    "ExecuteTime": {
     "end_time": "2025-01-05T15:39:28.354872Z",
     "start_time": "2025-01-05T15:39:28.349761Z"
    }
   },
   "source": [
    "countries = pd.read_csv(\"../data/processed/europe_countries.csv\")"
   ],
   "outputs": [],
   "execution_count": 128
  },
  {
   "cell_type": "code",
   "metadata": {
    "ExecuteTime": {
     "end_time": "2025-01-05T15:39:28.407793Z",
     "start_time": "2025-01-05T15:39:28.400785Z"
    }
   },
   "source": [
    "countries.info()"
   ],
   "outputs": [
    {
     "name": "stdout",
     "output_type": "stream",
     "text": [
      "<class 'pandas.core.frame.DataFrame'>\n",
      "RangeIndex: 48 entries, 0 to 47\n",
      "Data columns (total 3 columns):\n",
      " #   Column     Non-Null Count  Dtype \n",
      "---  ------     --------------  ----- \n",
      " 0   Country    48 non-null     object\n",
      " 1   ISO3 Code  48 non-null     object\n",
      " 2   ISO2 Code  48 non-null     object\n",
      "dtypes: object(3)\n",
      "memory usage: 1.3+ KB\n"
     ]
    }
   ],
   "execution_count": 129
  },
  {
   "cell_type": "code",
   "metadata": {
    "ExecuteTime": {
     "end_time": "2025-01-05T15:39:28.506153Z",
     "start_time": "2025-01-05T15:39:28.501793Z"
    }
   },
   "source": [
    "iso3_europe_all = set(countries[\"ISO3 Code\"])"
   ],
   "outputs": [],
   "execution_count": 130
  },
  {
   "cell_type": "code",
   "metadata": {
    "ExecuteTime": {
     "end_time": "2025-01-05T15:39:28.593850Z",
     "start_time": "2025-01-05T15:39:28.588932Z"
    }
   },
   "source": [
    "len(iso3_europe_all)"
   ],
   "outputs": [
    {
     "data": {
      "text/plain": [
       "48"
      ]
     },
     "execution_count": 131,
     "metadata": {},
     "output_type": "execute_result"
    }
   ],
   "execution_count": 131
  },
  {
   "cell_type": "code",
   "metadata": {
    "ExecuteTime": {
     "end_time": "2025-01-05T15:39:28.644Z",
     "start_time": "2025-01-05T15:39:28.638953Z"
    }
   },
   "source": [
    "iso3_europe_cpi = set(corruption_raw_data[\"Economy ISO3\"])"
   ],
   "outputs": [],
   "execution_count": 132
  },
  {
   "cell_type": "code",
   "metadata": {
    "ExecuteTime": {
     "end_time": "2025-01-05T15:39:28.703642Z",
     "start_time": "2025-01-05T15:39:28.698963Z"
    }
   },
   "source": [
    "len(iso3_europe_cpi)"
   ],
   "outputs": [
    {
     "data": {
      "text/plain": [
       "42"
      ]
     },
     "execution_count": 133,
     "metadata": {},
     "output_type": "execute_result"
    }
   ],
   "execution_count": 133
  },
  {
   "cell_type": "code",
   "metadata": {
    "ExecuteTime": {
     "end_time": "2025-01-05T15:39:28.836466Z",
     "start_time": "2025-01-05T15:39:28.828994Z"
    }
   },
   "source": [
    "iso3_europe_all-iso3_europe_cpi"
   ],
   "outputs": [
    {
     "data": {
      "text/plain": [
       "{'AND', 'LIE', 'MCO', 'RKS', 'SMR', 'VAT'}"
      ]
     },
     "execution_count": 134,
     "metadata": {},
     "output_type": "execute_result"
    }
   ],
   "execution_count": 134
  },
  {
   "cell_type": "markdown",
   "metadata": {},
   "source": [
    "Countries missing: Andora, Liechtenstein, Kosovo, San Marino, Vatikan. I think we dont need this countries due to their size and small impact."
   ]
  },
  {
   "cell_type": "code",
   "metadata": {
    "ExecuteTime": {
     "end_time": "2025-01-05T15:39:28.964902Z",
     "start_time": "2025-01-05T15:39:28.957025Z"
    }
   },
   "source": "corruption_raw_data = corruption_raw_data[corruption_raw_data[\"Economy ISO3\"].isin(iso3_europe_all)]\n",
   "outputs": [],
   "execution_count": 135
  },
  {
   "cell_type": "code",
   "metadata": {
    "ExecuteTime": {
     "end_time": "2025-01-05T15:39:29.105014Z",
     "start_time": "2025-01-05T15:39:29.076170Z"
    }
   },
   "source": "corruption_raw_data.head()",
   "outputs": [
    {
     "data": {
      "text/plain": [
       "  Economy ISO3 Economy Name  Year  Corruption Perceptions Index Rank  \\\n",
       "0          ALB      Albania  2012                              113.0   \n",
       "1          ALB      Albania  2013                              116.0   \n",
       "2          ALB      Albania  2014                              110.0   \n",
       "3          ALB      Albania  2015                               88.0   \n",
       "4          ALB      Albania  2016                               83.0   \n",
       "\n",
       "   Corruption Perceptions Index Score  Corruption Perceptions Index Sources  \\\n",
       "0                                33.0                                   7.0   \n",
       "1                                31.0                                   7.0   \n",
       "2                                33.0                                   7.0   \n",
       "3                                36.0                                   7.0   \n",
       "4                                39.0                                   7.0   \n",
       "\n",
       "   Corruption Perceptions Index Standard Error  \n",
       "0                                         2.00  \n",
       "1                                         2.10  \n",
       "2                                         1.51  \n",
       "3                                         3.58  \n",
       "4                                         1.99  "
      ],
      "text/html": [
       "<div>\n",
       "<style scoped>\n",
       "    .dataframe tbody tr th:only-of-type {\n",
       "        vertical-align: middle;\n",
       "    }\n",
       "\n",
       "    .dataframe tbody tr th {\n",
       "        vertical-align: top;\n",
       "    }\n",
       "\n",
       "    .dataframe thead th {\n",
       "        text-align: right;\n",
       "    }\n",
       "</style>\n",
       "<table border=\"1\" class=\"dataframe\">\n",
       "  <thead>\n",
       "    <tr style=\"text-align: right;\">\n",
       "      <th></th>\n",
       "      <th>Economy ISO3</th>\n",
       "      <th>Economy Name</th>\n",
       "      <th>Year</th>\n",
       "      <th>Corruption Perceptions Index Rank</th>\n",
       "      <th>Corruption Perceptions Index Score</th>\n",
       "      <th>Corruption Perceptions Index Sources</th>\n",
       "      <th>Corruption Perceptions Index Standard Error</th>\n",
       "    </tr>\n",
       "  </thead>\n",
       "  <tbody>\n",
       "    <tr>\n",
       "      <th>0</th>\n",
       "      <td>ALB</td>\n",
       "      <td>Albania</td>\n",
       "      <td>2012</td>\n",
       "      <td>113.0</td>\n",
       "      <td>33.0</td>\n",
       "      <td>7.0</td>\n",
       "      <td>2.00</td>\n",
       "    </tr>\n",
       "    <tr>\n",
       "      <th>1</th>\n",
       "      <td>ALB</td>\n",
       "      <td>Albania</td>\n",
       "      <td>2013</td>\n",
       "      <td>116.0</td>\n",
       "      <td>31.0</td>\n",
       "      <td>7.0</td>\n",
       "      <td>2.10</td>\n",
       "    </tr>\n",
       "    <tr>\n",
       "      <th>2</th>\n",
       "      <td>ALB</td>\n",
       "      <td>Albania</td>\n",
       "      <td>2014</td>\n",
       "      <td>110.0</td>\n",
       "      <td>33.0</td>\n",
       "      <td>7.0</td>\n",
       "      <td>1.51</td>\n",
       "    </tr>\n",
       "    <tr>\n",
       "      <th>3</th>\n",
       "      <td>ALB</td>\n",
       "      <td>Albania</td>\n",
       "      <td>2015</td>\n",
       "      <td>88.0</td>\n",
       "      <td>36.0</td>\n",
       "      <td>7.0</td>\n",
       "      <td>3.58</td>\n",
       "    </tr>\n",
       "    <tr>\n",
       "      <th>4</th>\n",
       "      <td>ALB</td>\n",
       "      <td>Albania</td>\n",
       "      <td>2016</td>\n",
       "      <td>83.0</td>\n",
       "      <td>39.0</td>\n",
       "      <td>7.0</td>\n",
       "      <td>1.99</td>\n",
       "    </tr>\n",
       "  </tbody>\n",
       "</table>\n",
       "</div>"
      ]
     },
     "execution_count": 136,
     "metadata": {},
     "output_type": "execute_result"
    }
   ],
   "execution_count": 136
  },
  {
   "cell_type": "code",
   "metadata": {
    "ExecuteTime": {
     "end_time": "2025-01-05T15:39:29.205178Z",
     "start_time": "2025-01-05T15:39:29.199114Z"
    }
   },
   "source": "corruption_raw_data[\"Economy ISO3\"].nunique()",
   "outputs": [
    {
     "data": {
      "text/plain": [
       "42"
      ]
     },
     "execution_count": 137,
     "metadata": {},
     "output_type": "execute_result"
    }
   ],
   "execution_count": 137
  },
  {
   "cell_type": "code",
   "metadata": {
    "ExecuteTime": {
     "end_time": "2025-01-05T15:39:29.466858Z",
     "start_time": "2025-01-05T15:39:29.452057Z"
    }
   },
   "source": "corruption_raw_data.to_csv(\"../data/processed/CPI.csv\", index=False, index_label=False)",
   "outputs": [],
   "execution_count": 138
  },
  {
   "cell_type": "code",
   "metadata": {
    "ExecuteTime": {
     "end_time": "2025-01-05T15:39:29.565047Z",
     "start_time": "2025-01-05T15:39:29.557332Z"
    }
   },
   "source": [
    "cpi = pd.read_csv(\"../data/processed/CPI.csv\")"
   ],
   "outputs": [],
   "execution_count": 139
  },
  {
   "cell_type": "code",
   "metadata": {
    "ExecuteTime": {
     "end_time": "2025-01-05T15:39:29.656375Z",
     "start_time": "2025-01-05T15:39:29.647003Z"
    }
   },
   "source": [
    "cpi.info()"
   ],
   "outputs": [
    {
     "name": "stdout",
     "output_type": "stream",
     "text": [
      "<class 'pandas.core.frame.DataFrame'>\n",
      "RangeIndex: 504 entries, 0 to 503\n",
      "Data columns (total 7 columns):\n",
      " #   Column                                       Non-Null Count  Dtype  \n",
      "---  ------                                       --------------  -----  \n",
      " 0   Economy ISO3                                 504 non-null    object \n",
      " 1   Economy Name                                 504 non-null    object \n",
      " 2   Year                                         504 non-null    int64  \n",
      " 3   Corruption Perceptions Index Rank            491 non-null    float64\n",
      " 4   Corruption Perceptions Index Score           504 non-null    float64\n",
      " 5   Corruption Perceptions Index Sources         504 non-null    float64\n",
      " 6   Corruption Perceptions Index Standard Error  504 non-null    float64\n",
      "dtypes: float64(4), int64(1), object(2)\n",
      "memory usage: 27.7+ KB\n"
     ]
    }
   ],
   "execution_count": 140
  }
 ],
 "metadata": {
  "kernelspec": {
   "display_name": ".venv",
   "language": "python",
   "name": "python3"
  },
  "language_info": {
   "codemirror_mode": {
    "name": "ipython",
    "version": 3
   },
   "file_extension": ".py",
   "mimetype": "text/x-python",
   "name": "python",
   "nbconvert_exporter": "python",
   "pygments_lexer": "ipython3",
   "version": "3.10.12"
  }
 },
 "nbformat": 4,
 "nbformat_minor": 2
}
