{
 "cells": [
  {
   "cell_type": "markdown",
   "metadata": {},
   "source": [
    "## How well can the level of corruption of a country in Europe be quantified? \n",
    "\n",
    "* What differences are there in actual corruption and perceived corruption? \n",
    "\n",
    "* Are there different forms of corruption prevalent in different countries in Europe? \n",
    "\n",
    "* What characteristics of a country predict the level of corruption? \n",
    "\n",
    "* What characteristics of a country predict an increase or decrease in the level of corruption?"
   ]
  },
  {
   "cell_type": "markdown",
   "metadata": {
    "vscode": {
     "languageId": "plaintext"
    }
   },
   "source": [
    "• Corruption Perceptions Index (CPI) from Transparency International.\n",
    "Data Set that shows preceived corruption of countries and rank them.\n",
    "\n",
    "• World Bank Development Indicators (economic, social, and governance data).\n",
    "Indicators could be used to look for correlation between them and the corruption score of countries\n",
    "\n",
    "• European Social Survey (perception-related data).\n",
    "• OECD Data on governance and public sector integrity."
   ]
  },
  {
   "cell_type": "code",
   "metadata": {
    "ExecuteTime": {
     "end_time": "2025-01-05T15:31:54.415539Z",
     "start_time": "2025-01-05T15:31:54.412102Z"
    }
   },
   "source": [
    "import pandas as pd\n",
    "import os"
   ],
   "outputs": [],
   "execution_count": 71
  },
  {
   "cell_type": "code",
   "metadata": {
    "ExecuteTime": {
     "end_time": "2025-01-05T15:31:54.448807Z",
     "start_time": "2025-01-05T15:31:54.442137Z"
    }
   },
   "source": [
    "corruption_raw_data = pd.read_csv(\"../data/processed/CPI.csv\")"
   ],
   "outputs": [],
   "execution_count": 72
  },
  {
   "cell_type": "code",
   "metadata": {
    "ExecuteTime": {
     "end_time": "2025-01-05T15:31:54.468280Z",
     "start_time": "2025-01-05T15:31:54.457037Z"
    }
   },
   "source": [
    "\n",
    "corruption_raw_data.head()\n"
   ],
   "outputs": [
    {
     "data": {
      "text/plain": [
       "  Economy ISO3 Economy Name    Indicator ID  \\\n",
       "0          ALB      Albania     TI.CPI.Rank   \n",
       "1          ALB      Albania   TI.CPI.STDERR   \n",
       "2          ALB      Albania    TI.CPI.Score   \n",
       "3          ALB      Albania  TI.CPI.Sources   \n",
       "4          AUT      Austria     TI.CPI.Rank   \n",
       "\n",
       "                                     Indicator   2012   2013    2014   2015  \\\n",
       "0            Corruption Perceptions Index Rank  113.0  116.0  110.00  88.00   \n",
       "1  Corruption Perceptions Index Standard Error    2.0    2.1    1.51   3.58   \n",
       "2           Corruption Perceptions Index Score   33.0   31.0   33.00  36.00   \n",
       "3         Corruption Perceptions Index Sources    7.0    7.0    7.00   7.00   \n",
       "4            Corruption Perceptions Index Rank   25.0   26.0   23.00  16.00   \n",
       "\n",
       "    2016   2017   2018    2019    2020    2021    2022   2023  \n",
       "0  83.00  91.00  99.00  106.00  104.00  110.00  101.00  98.00  \n",
       "1   1.99   1.81   1.65    2.51    0.92    1.33    1.32   1.56  \n",
       "2  39.00  38.00  36.00   35.00   36.00   35.00   36.00  37.00  \n",
       "3   7.00   8.00   8.00    8.00    8.00    8.00    8.00   7.00  \n",
       "4  17.00  16.00  14.00   12.00   15.00   13.00   22.00  20.00  "
      ],
      "text/html": [
       "<div>\n",
       "<style scoped>\n",
       "    .dataframe tbody tr th:only-of-type {\n",
       "        vertical-align: middle;\n",
       "    }\n",
       "\n",
       "    .dataframe tbody tr th {\n",
       "        vertical-align: top;\n",
       "    }\n",
       "\n",
       "    .dataframe thead th {\n",
       "        text-align: right;\n",
       "    }\n",
       "</style>\n",
       "<table border=\"1\" class=\"dataframe\">\n",
       "  <thead>\n",
       "    <tr style=\"text-align: right;\">\n",
       "      <th></th>\n",
       "      <th>Economy ISO3</th>\n",
       "      <th>Economy Name</th>\n",
       "      <th>Indicator ID</th>\n",
       "      <th>Indicator</th>\n",
       "      <th>2012</th>\n",
       "      <th>2013</th>\n",
       "      <th>2014</th>\n",
       "      <th>2015</th>\n",
       "      <th>2016</th>\n",
       "      <th>2017</th>\n",
       "      <th>2018</th>\n",
       "      <th>2019</th>\n",
       "      <th>2020</th>\n",
       "      <th>2021</th>\n",
       "      <th>2022</th>\n",
       "      <th>2023</th>\n",
       "    </tr>\n",
       "  </thead>\n",
       "  <tbody>\n",
       "    <tr>\n",
       "      <th>0</th>\n",
       "      <td>ALB</td>\n",
       "      <td>Albania</td>\n",
       "      <td>TI.CPI.Rank</td>\n",
       "      <td>Corruption Perceptions Index Rank</td>\n",
       "      <td>113.0</td>\n",
       "      <td>116.0</td>\n",
       "      <td>110.00</td>\n",
       "      <td>88.00</td>\n",
       "      <td>83.00</td>\n",
       "      <td>91.00</td>\n",
       "      <td>99.00</td>\n",
       "      <td>106.00</td>\n",
       "      <td>104.00</td>\n",
       "      <td>110.00</td>\n",
       "      <td>101.00</td>\n",
       "      <td>98.00</td>\n",
       "    </tr>\n",
       "    <tr>\n",
       "      <th>1</th>\n",
       "      <td>ALB</td>\n",
       "      <td>Albania</td>\n",
       "      <td>TI.CPI.STDERR</td>\n",
       "      <td>Corruption Perceptions Index Standard Error</td>\n",
       "      <td>2.0</td>\n",
       "      <td>2.1</td>\n",
       "      <td>1.51</td>\n",
       "      <td>3.58</td>\n",
       "      <td>1.99</td>\n",
       "      <td>1.81</td>\n",
       "      <td>1.65</td>\n",
       "      <td>2.51</td>\n",
       "      <td>0.92</td>\n",
       "      <td>1.33</td>\n",
       "      <td>1.32</td>\n",
       "      <td>1.56</td>\n",
       "    </tr>\n",
       "    <tr>\n",
       "      <th>2</th>\n",
       "      <td>ALB</td>\n",
       "      <td>Albania</td>\n",
       "      <td>TI.CPI.Score</td>\n",
       "      <td>Corruption Perceptions Index Score</td>\n",
       "      <td>33.0</td>\n",
       "      <td>31.0</td>\n",
       "      <td>33.00</td>\n",
       "      <td>36.00</td>\n",
       "      <td>39.00</td>\n",
       "      <td>38.00</td>\n",
       "      <td>36.00</td>\n",
       "      <td>35.00</td>\n",
       "      <td>36.00</td>\n",
       "      <td>35.00</td>\n",
       "      <td>36.00</td>\n",
       "      <td>37.00</td>\n",
       "    </tr>\n",
       "    <tr>\n",
       "      <th>3</th>\n",
       "      <td>ALB</td>\n",
       "      <td>Albania</td>\n",
       "      <td>TI.CPI.Sources</td>\n",
       "      <td>Corruption Perceptions Index Sources</td>\n",
       "      <td>7.0</td>\n",
       "      <td>7.0</td>\n",
       "      <td>7.00</td>\n",
       "      <td>7.00</td>\n",
       "      <td>7.00</td>\n",
       "      <td>8.00</td>\n",
       "      <td>8.00</td>\n",
       "      <td>8.00</td>\n",
       "      <td>8.00</td>\n",
       "      <td>8.00</td>\n",
       "      <td>8.00</td>\n",
       "      <td>7.00</td>\n",
       "    </tr>\n",
       "    <tr>\n",
       "      <th>4</th>\n",
       "      <td>AUT</td>\n",
       "      <td>Austria</td>\n",
       "      <td>TI.CPI.Rank</td>\n",
       "      <td>Corruption Perceptions Index Rank</td>\n",
       "      <td>25.0</td>\n",
       "      <td>26.0</td>\n",
       "      <td>23.00</td>\n",
       "      <td>16.00</td>\n",
       "      <td>17.00</td>\n",
       "      <td>16.00</td>\n",
       "      <td>14.00</td>\n",
       "      <td>12.00</td>\n",
       "      <td>15.00</td>\n",
       "      <td>13.00</td>\n",
       "      <td>22.00</td>\n",
       "      <td>20.00</td>\n",
       "    </tr>\n",
       "  </tbody>\n",
       "</table>\n",
       "</div>"
      ]
     },
     "execution_count": 73,
     "metadata": {},
     "output_type": "execute_result"
    }
   ],
   "execution_count": 73
  },
  {
   "cell_type": "code",
   "metadata": {
    "ExecuteTime": {
     "end_time": "2025-01-05T15:31:54.517823Z",
     "start_time": "2025-01-05T15:31:54.512305Z"
    }
   },
   "source": [
    "countries = pd.read_csv(\"../data/processed/europe_countries.csv\")"
   ],
   "outputs": [],
   "execution_count": 74
  },
  {
   "cell_type": "code",
   "metadata": {
    "ExecuteTime": {
     "end_time": "2025-01-05T15:31:54.570023Z",
     "start_time": "2025-01-05T15:31:54.562968Z"
    }
   },
   "source": [
    "countries.info()"
   ],
   "outputs": [
    {
     "name": "stdout",
     "output_type": "stream",
     "text": [
      "<class 'pandas.core.frame.DataFrame'>\n",
      "RangeIndex: 48 entries, 0 to 47\n",
      "Data columns (total 3 columns):\n",
      " #   Column     Non-Null Count  Dtype \n",
      "---  ------     --------------  ----- \n",
      " 0   Country    48 non-null     object\n",
      " 1   ISO3 Code  48 non-null     object\n",
      " 2   ISO2 Code  48 non-null     object\n",
      "dtypes: object(3)\n",
      "memory usage: 1.3+ KB\n"
     ]
    }
   ],
   "execution_count": 75
  },
  {
   "cell_type": "code",
   "metadata": {
    "ExecuteTime": {
     "end_time": "2025-01-05T15:31:54.648679Z",
     "start_time": "2025-01-05T15:31:54.645628Z"
    }
   },
   "source": [
    "iso3_europe_all = set(countries[\"ISO3 Code\"])"
   ],
   "outputs": [],
   "execution_count": 76
  },
  {
   "cell_type": "code",
   "metadata": {
    "ExecuteTime": {
     "end_time": "2025-01-05T15:31:54.711791Z",
     "start_time": "2025-01-05T15:31:54.707175Z"
    }
   },
   "source": [
    "len(iso3_europe_all)"
   ],
   "outputs": [
    {
     "data": {
      "text/plain": [
       "48"
      ]
     },
     "execution_count": 77,
     "metadata": {},
     "output_type": "execute_result"
    }
   ],
   "execution_count": 77
  },
  {
   "cell_type": "code",
   "metadata": {
    "ExecuteTime": {
     "end_time": "2025-01-05T15:31:54.743403Z",
     "start_time": "2025-01-05T15:31:54.738806Z"
    }
   },
   "source": [
    "iso3_europe_cpi = set(corruption_raw_data[\"Economy ISO3\"])"
   ],
   "outputs": [],
   "execution_count": 78
  },
  {
   "cell_type": "code",
   "metadata": {
    "ExecuteTime": {
     "end_time": "2025-01-05T15:31:54.768843Z",
     "start_time": "2025-01-05T15:31:54.762293Z"
    }
   },
   "source": [
    "len(iso3_europe_cpi)"
   ],
   "outputs": [
    {
     "data": {
      "text/plain": [
       "42"
      ]
     },
     "execution_count": 79,
     "metadata": {},
     "output_type": "execute_result"
    }
   ],
   "execution_count": 79
  },
  {
   "cell_type": "code",
   "metadata": {
    "ExecuteTime": {
     "end_time": "2025-01-05T15:31:54.807290Z",
     "start_time": "2025-01-05T15:31:54.802453Z"
    }
   },
   "source": [
    "iso3_europe_all-iso3_europe_cpi"
   ],
   "outputs": [
    {
     "data": {
      "text/plain": [
       "{'AND', 'LIE', 'MCO', 'RKS', 'SMR', 'VAT'}"
      ]
     },
     "execution_count": 80,
     "metadata": {},
     "output_type": "execute_result"
    }
   ],
   "execution_count": 80
  },
  {
   "cell_type": "markdown",
   "metadata": {},
   "source": [
    "Countries missing: Andora, Liechtenstein, Kosovo, San Marino, Vatikan. I think we dont need this countries due to their size and small impact."
   ]
  },
  {
   "cell_type": "code",
   "metadata": {
    "ExecuteTime": {
     "end_time": "2025-01-05T15:31:54.872606Z",
     "start_time": "2025-01-05T15:31:54.858811Z"
    }
   },
   "source": [
    "corruption_raw_data = corruption_raw_data[corruption_raw_data[\"Economy ISO3\"].isin(iso3_europe_all)]\n",
    "\n",
    "corruption_raw_data_melted = corruption_raw_data.melt(\n",
    "    id_vars=[\"Economy ISO3\", \"Economy Name\", \"Indicator\"],  # Columns to keep as identifiers\n",
    "    value_vars=[str(year) for year in range(2012, 2024)],  # Columns representing years\n",
    "    var_name=\"Year\",  # New column for years\n",
    "    value_name=\"Value\"  # New column for values\n",
    ")\n",
    "\n",
    "# Pivot the melted DataFrame to make each indicator a column\n",
    "corruption_transposed = corruption_raw_data_melted.pivot(\n",
    "    index=[\"Economy ISO3\", \"Economy Name\", \"Year\"],  # Columns to keep as index\n",
    "    columns=\"Indicator\",  # Values to pivot into columns\n",
    "    values=\"Value\"  # Values to use in the new columns\n",
    ").reset_index()\n",
    "\n",
    "# Rename columns for clarity (optional)\n",
    "corruption_transposed.columns.name = None"
   ],
   "outputs": [],
   "execution_count": 81
  },
  {
   "cell_type": "code",
   "metadata": {
    "ExecuteTime": {
     "end_time": "2025-01-05T15:31:54.906012Z",
     "start_time": "2025-01-05T15:31:54.893979Z"
    }
   },
   "source": "corruption_transposed.head()",
   "outputs": [
    {
     "data": {
      "text/plain": [
       "  Economy ISO3 Economy Name  Year  Corruption Perceptions Index Rank  \\\n",
       "0          ALB      Albania  2012                              113.0   \n",
       "1          ALB      Albania  2013                              116.0   \n",
       "2          ALB      Albania  2014                              110.0   \n",
       "3          ALB      Albania  2015                               88.0   \n",
       "4          ALB      Albania  2016                               83.0   \n",
       "\n",
       "   Corruption Perceptions Index Score  Corruption Perceptions Index Sources  \\\n",
       "0                                33.0                                   7.0   \n",
       "1                                31.0                                   7.0   \n",
       "2                                33.0                                   7.0   \n",
       "3                                36.0                                   7.0   \n",
       "4                                39.0                                   7.0   \n",
       "\n",
       "   Corruption Perceptions Index Standard Error  \n",
       "0                                         2.00  \n",
       "1                                         2.10  \n",
       "2                                         1.51  \n",
       "3                                         3.58  \n",
       "4                                         1.99  "
      ],
      "text/html": [
       "<div>\n",
       "<style scoped>\n",
       "    .dataframe tbody tr th:only-of-type {\n",
       "        vertical-align: middle;\n",
       "    }\n",
       "\n",
       "    .dataframe tbody tr th {\n",
       "        vertical-align: top;\n",
       "    }\n",
       "\n",
       "    .dataframe thead th {\n",
       "        text-align: right;\n",
       "    }\n",
       "</style>\n",
       "<table border=\"1\" class=\"dataframe\">\n",
       "  <thead>\n",
       "    <tr style=\"text-align: right;\">\n",
       "      <th></th>\n",
       "      <th>Economy ISO3</th>\n",
       "      <th>Economy Name</th>\n",
       "      <th>Year</th>\n",
       "      <th>Corruption Perceptions Index Rank</th>\n",
       "      <th>Corruption Perceptions Index Score</th>\n",
       "      <th>Corruption Perceptions Index Sources</th>\n",
       "      <th>Corruption Perceptions Index Standard Error</th>\n",
       "    </tr>\n",
       "  </thead>\n",
       "  <tbody>\n",
       "    <tr>\n",
       "      <th>0</th>\n",
       "      <td>ALB</td>\n",
       "      <td>Albania</td>\n",
       "      <td>2012</td>\n",
       "      <td>113.0</td>\n",
       "      <td>33.0</td>\n",
       "      <td>7.0</td>\n",
       "      <td>2.00</td>\n",
       "    </tr>\n",
       "    <tr>\n",
       "      <th>1</th>\n",
       "      <td>ALB</td>\n",
       "      <td>Albania</td>\n",
       "      <td>2013</td>\n",
       "      <td>116.0</td>\n",
       "      <td>31.0</td>\n",
       "      <td>7.0</td>\n",
       "      <td>2.10</td>\n",
       "    </tr>\n",
       "    <tr>\n",
       "      <th>2</th>\n",
       "      <td>ALB</td>\n",
       "      <td>Albania</td>\n",
       "      <td>2014</td>\n",
       "      <td>110.0</td>\n",
       "      <td>33.0</td>\n",
       "      <td>7.0</td>\n",
       "      <td>1.51</td>\n",
       "    </tr>\n",
       "    <tr>\n",
       "      <th>3</th>\n",
       "      <td>ALB</td>\n",
       "      <td>Albania</td>\n",
       "      <td>2015</td>\n",
       "      <td>88.0</td>\n",
       "      <td>36.0</td>\n",
       "      <td>7.0</td>\n",
       "      <td>3.58</td>\n",
       "    </tr>\n",
       "    <tr>\n",
       "      <th>4</th>\n",
       "      <td>ALB</td>\n",
       "      <td>Albania</td>\n",
       "      <td>2016</td>\n",
       "      <td>83.0</td>\n",
       "      <td>39.0</td>\n",
       "      <td>7.0</td>\n",
       "      <td>1.99</td>\n",
       "    </tr>\n",
       "  </tbody>\n",
       "</table>\n",
       "</div>"
      ]
     },
     "execution_count": 82,
     "metadata": {},
     "output_type": "execute_result"
    }
   ],
   "execution_count": 82
  },
  {
   "cell_type": "code",
   "metadata": {
    "ExecuteTime": {
     "end_time": "2025-01-05T15:31:55.011021Z",
     "start_time": "2025-01-05T15:31:55.000470Z"
    }
   },
   "source": "corruption_transposed[\"Economy ISO3\"].nunique()",
   "outputs": [
    {
     "data": {
      "text/plain": [
       "42"
      ]
     },
     "execution_count": 83,
     "metadata": {},
     "output_type": "execute_result"
    }
   ],
   "execution_count": 83
  },
  {
   "cell_type": "code",
   "metadata": {
    "ExecuteTime": {
     "end_time": "2025-01-05T15:31:55.163044Z",
     "start_time": "2025-01-05T15:31:55.156032Z"
    }
   },
   "source": "corruption_transposed.to_csv(\"../data/processed/CPI.csv\", index=False, index_label=False)",
   "outputs": [],
   "execution_count": 84
  },
  {
   "cell_type": "code",
   "metadata": {
    "ExecuteTime": {
     "end_time": "2025-01-05T15:31:55.242417Z",
     "start_time": "2025-01-05T15:31:55.236632Z"
    }
   },
   "source": [
    "cpi = pd.read_csv(\"../data/processed/CPI.csv\")"
   ],
   "outputs": [],
   "execution_count": 85
  },
  {
   "cell_type": "code",
   "metadata": {
    "ExecuteTime": {
     "end_time": "2025-01-05T15:31:55.327629Z",
     "start_time": "2025-01-05T15:31:55.320599Z"
    }
   },
   "source": [
    "cpi.info()"
   ],
   "outputs": [
    {
     "name": "stdout",
     "output_type": "stream",
     "text": [
      "<class 'pandas.core.frame.DataFrame'>\n",
      "RangeIndex: 504 entries, 0 to 503\n",
      "Data columns (total 7 columns):\n",
      " #   Column                                       Non-Null Count  Dtype  \n",
      "---  ------                                       --------------  -----  \n",
      " 0   Economy ISO3                                 504 non-null    object \n",
      " 1   Economy Name                                 504 non-null    object \n",
      " 2   Year                                         504 non-null    int64  \n",
      " 3   Corruption Perceptions Index Rank            491 non-null    float64\n",
      " 4   Corruption Perceptions Index Score           504 non-null    float64\n",
      " 5   Corruption Perceptions Index Sources         504 non-null    float64\n",
      " 6   Corruption Perceptions Index Standard Error  504 non-null    float64\n",
      "dtypes: float64(4), int64(1), object(2)\n",
      "memory usage: 27.7+ KB\n"
     ]
    }
   ],
   "execution_count": 86
  }
 ],
 "metadata": {
  "kernelspec": {
   "display_name": ".venv",
   "language": "python",
   "name": "python3"
  },
  "language_info": {
   "codemirror_mode": {
    "name": "ipython",
    "version": 3
   },
   "file_extension": ".py",
   "mimetype": "text/x-python",
   "name": "python",
   "nbconvert_exporter": "python",
   "pygments_lexer": "ipython3",
   "version": "3.10.12"
  }
 },
 "nbformat": 4,
 "nbformat_minor": 2
}
