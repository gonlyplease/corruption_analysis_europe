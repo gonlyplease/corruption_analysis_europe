{
 "cells": [
  {
   "cell_type": "markdown",
   "metadata": {},
   "source": [
    "## How well can the level of corruption of a country in Europe be quantified? \n",
    "\n",
    "* What differences are there in actual corruption and perceived corruption? \n",
    "\n",
    "* Are there different forms of corruption prevalent in different countries in Europe? \n",
    "\n",
    "* What characteristics of a country predict the level of corruption? \n",
    "\n",
    "* What characteristics of a country predict an increase or decrease in the level of corruption?"
   ]
  },
  {
   "cell_type": "markdown",
   "metadata": {
    "vscode": {
     "languageId": "plaintext"
    }
   },
   "source": [
    "• Corruption Perceptions Index (CPI) from Transparency International.\n",
    "Data Set that shows preceived corruption of countries and rank them.\n",
    "\n",
    "• World Bank Development Indicators (economic, social, and governance data).\n",
    "Indicators could be used to look for correlation between them and the corruption score of countries\n",
    "\n",
    "• European Social Survey (perception-related data).\n",
    "• OECD Data on governance and public sector integrity."
   ]
  },
  {
   "cell_type": "code",
   "metadata": {
    "ExecuteTime": {
     "end_time": "2025-01-05T15:06:43.970027Z",
     "start_time": "2025-01-05T15:06:43.967211Z"
    }
   },
   "source": [
    "import pandas as pd\n",
    "import os"
   ],
   "outputs": [],
   "execution_count": 55
  },
  {
   "cell_type": "code",
   "metadata": {
    "ExecuteTime": {
     "end_time": "2025-01-05T15:06:43.979967Z",
     "start_time": "2025-01-05T15:06:43.975063Z"
    }
   },
   "source": [
    "corruption_raw_data = pd.read_csv(\"../data/processed/CPI.csv\")"
   ],
   "outputs": [],
   "execution_count": 56
  },
  {
   "cell_type": "code",
   "metadata": {
    "ExecuteTime": {
     "end_time": "2025-01-05T15:06:44.010969Z",
     "start_time": "2025-01-05T15:06:43.997265Z"
    }
   },
   "source": [
    "\n",
    "corruption_raw_data.head()"
   ],
   "outputs": [
    {
     "data": {
      "text/plain": [
       "  Economy ISO3 Economy Name                                    Indicator  \\\n",
       "0          ALB      Albania            Corruption Perceptions Index Rank   \n",
       "1          ALB      Albania  Corruption Perceptions Index Standard Error   \n",
       "2          ALB      Albania           Corruption Perceptions Index Score   \n",
       "3          ALB      Albania         Corruption Perceptions Index Sources   \n",
       "4          AUT      Austria            Corruption Perceptions Index Rank   \n",
       "\n",
       "    2012   2013    2014   2015   2016   2017   2018    2019    2020    2021  \\\n",
       "0  113.0  116.0  110.00  88.00  83.00  91.00  99.00  106.00  104.00  110.00   \n",
       "1    2.0    2.1    1.51   3.58   1.99   1.81   1.65    2.51    0.92    1.33   \n",
       "2   33.0   31.0   33.00  36.00  39.00  38.00  36.00   35.00   36.00   35.00   \n",
       "3    7.0    7.0    7.00   7.00   7.00   8.00   8.00    8.00    8.00    8.00   \n",
       "4   25.0   26.0   23.00  16.00  17.00  16.00  14.00   12.00   15.00   13.00   \n",
       "\n",
       "     2022   2023  \n",
       "0  101.00  98.00  \n",
       "1    1.32   1.56  \n",
       "2   36.00  37.00  \n",
       "3    8.00   7.00  \n",
       "4   22.00  20.00  "
      ],
      "text/html": [
       "<div>\n",
       "<style scoped>\n",
       "    .dataframe tbody tr th:only-of-type {\n",
       "        vertical-align: middle;\n",
       "    }\n",
       "\n",
       "    .dataframe tbody tr th {\n",
       "        vertical-align: top;\n",
       "    }\n",
       "\n",
       "    .dataframe thead th {\n",
       "        text-align: right;\n",
       "    }\n",
       "</style>\n",
       "<table border=\"1\" class=\"dataframe\">\n",
       "  <thead>\n",
       "    <tr style=\"text-align: right;\">\n",
       "      <th></th>\n",
       "      <th>Economy ISO3</th>\n",
       "      <th>Economy Name</th>\n",
       "      <th>Indicator</th>\n",
       "      <th>2012</th>\n",
       "      <th>2013</th>\n",
       "      <th>2014</th>\n",
       "      <th>2015</th>\n",
       "      <th>2016</th>\n",
       "      <th>2017</th>\n",
       "      <th>2018</th>\n",
       "      <th>2019</th>\n",
       "      <th>2020</th>\n",
       "      <th>2021</th>\n",
       "      <th>2022</th>\n",
       "      <th>2023</th>\n",
       "    </tr>\n",
       "  </thead>\n",
       "  <tbody>\n",
       "    <tr>\n",
       "      <th>0</th>\n",
       "      <td>ALB</td>\n",
       "      <td>Albania</td>\n",
       "      <td>Corruption Perceptions Index Rank</td>\n",
       "      <td>113.0</td>\n",
       "      <td>116.0</td>\n",
       "      <td>110.00</td>\n",
       "      <td>88.00</td>\n",
       "      <td>83.00</td>\n",
       "      <td>91.00</td>\n",
       "      <td>99.00</td>\n",
       "      <td>106.00</td>\n",
       "      <td>104.00</td>\n",
       "      <td>110.00</td>\n",
       "      <td>101.00</td>\n",
       "      <td>98.00</td>\n",
       "    </tr>\n",
       "    <tr>\n",
       "      <th>1</th>\n",
       "      <td>ALB</td>\n",
       "      <td>Albania</td>\n",
       "      <td>Corruption Perceptions Index Standard Error</td>\n",
       "      <td>2.0</td>\n",
       "      <td>2.1</td>\n",
       "      <td>1.51</td>\n",
       "      <td>3.58</td>\n",
       "      <td>1.99</td>\n",
       "      <td>1.81</td>\n",
       "      <td>1.65</td>\n",
       "      <td>2.51</td>\n",
       "      <td>0.92</td>\n",
       "      <td>1.33</td>\n",
       "      <td>1.32</td>\n",
       "      <td>1.56</td>\n",
       "    </tr>\n",
       "    <tr>\n",
       "      <th>2</th>\n",
       "      <td>ALB</td>\n",
       "      <td>Albania</td>\n",
       "      <td>Corruption Perceptions Index Score</td>\n",
       "      <td>33.0</td>\n",
       "      <td>31.0</td>\n",
       "      <td>33.00</td>\n",
       "      <td>36.00</td>\n",
       "      <td>39.00</td>\n",
       "      <td>38.00</td>\n",
       "      <td>36.00</td>\n",
       "      <td>35.00</td>\n",
       "      <td>36.00</td>\n",
       "      <td>35.00</td>\n",
       "      <td>36.00</td>\n",
       "      <td>37.00</td>\n",
       "    </tr>\n",
       "    <tr>\n",
       "      <th>3</th>\n",
       "      <td>ALB</td>\n",
       "      <td>Albania</td>\n",
       "      <td>Corruption Perceptions Index Sources</td>\n",
       "      <td>7.0</td>\n",
       "      <td>7.0</td>\n",
       "      <td>7.00</td>\n",
       "      <td>7.00</td>\n",
       "      <td>7.00</td>\n",
       "      <td>8.00</td>\n",
       "      <td>8.00</td>\n",
       "      <td>8.00</td>\n",
       "      <td>8.00</td>\n",
       "      <td>8.00</td>\n",
       "      <td>8.00</td>\n",
       "      <td>7.00</td>\n",
       "    </tr>\n",
       "    <tr>\n",
       "      <th>4</th>\n",
       "      <td>AUT</td>\n",
       "      <td>Austria</td>\n",
       "      <td>Corruption Perceptions Index Rank</td>\n",
       "      <td>25.0</td>\n",
       "      <td>26.0</td>\n",
       "      <td>23.00</td>\n",
       "      <td>16.00</td>\n",
       "      <td>17.00</td>\n",
       "      <td>16.00</td>\n",
       "      <td>14.00</td>\n",
       "      <td>12.00</td>\n",
       "      <td>15.00</td>\n",
       "      <td>13.00</td>\n",
       "      <td>22.00</td>\n",
       "      <td>20.00</td>\n",
       "    </tr>\n",
       "  </tbody>\n",
       "</table>\n",
       "</div>"
      ]
     },
     "execution_count": 57,
     "metadata": {},
     "output_type": "execute_result"
    }
   ],
   "execution_count": 57
  },
  {
   "cell_type": "code",
   "metadata": {
    "ExecuteTime": {
     "end_time": "2025-01-05T15:06:44.061336Z",
     "start_time": "2025-01-05T15:06:44.056306Z"
    }
   },
   "source": [
    "countries = pd.read_csv(\"../data/processed/europe_countries.csv\")"
   ],
   "outputs": [],
   "execution_count": 58
  },
  {
   "cell_type": "code",
   "metadata": {
    "ExecuteTime": {
     "end_time": "2025-01-05T15:06:44.114055Z",
     "start_time": "2025-01-05T15:06:44.106722Z"
    }
   },
   "source": [
    "countries.info()"
   ],
   "outputs": [
    {
     "name": "stdout",
     "output_type": "stream",
     "text": [
      "<class 'pandas.core.frame.DataFrame'>\n",
      "RangeIndex: 48 entries, 0 to 47\n",
      "Data columns (total 3 columns):\n",
      " #   Column     Non-Null Count  Dtype \n",
      "---  ------     --------------  ----- \n",
      " 0   Country    48 non-null     object\n",
      " 1   ISO3 Code  48 non-null     object\n",
      " 2   ISO2 Code  48 non-null     object\n",
      "dtypes: object(3)\n",
      "memory usage: 1.3+ KB\n"
     ]
    }
   ],
   "execution_count": 59
  },
  {
   "cell_type": "code",
   "metadata": {
    "ExecuteTime": {
     "end_time": "2025-01-05T15:06:44.193143Z",
     "start_time": "2025-01-05T15:06:44.188874Z"
    }
   },
   "source": [
    "iso3_europe_all = set(countries[\"ISO3 Code\"])"
   ],
   "outputs": [],
   "execution_count": 60
  },
  {
   "cell_type": "code",
   "metadata": {
    "ExecuteTime": {
     "end_time": "2025-01-05T15:06:44.266463Z",
     "start_time": "2025-01-05T15:06:44.261966Z"
    }
   },
   "source": [
    "len(iso3_europe_all)"
   ],
   "outputs": [
    {
     "data": {
      "text/plain": [
       "48"
      ]
     },
     "execution_count": 61,
     "metadata": {},
     "output_type": "execute_result"
    }
   ],
   "execution_count": 61
  },
  {
   "cell_type": "code",
   "metadata": {
    "ExecuteTime": {
     "end_time": "2025-01-05T15:06:44.286021Z",
     "start_time": "2025-01-05T15:06:44.281573Z"
    }
   },
   "source": [
    "iso3_europe_cpi = set(corruption_raw_data[\"Economy ISO3\"])"
   ],
   "outputs": [],
   "execution_count": 62
  },
  {
   "cell_type": "code",
   "metadata": {
    "ExecuteTime": {
     "end_time": "2025-01-05T15:06:44.346179Z",
     "start_time": "2025-01-05T15:06:44.341748Z"
    }
   },
   "source": [
    "len(iso3_europe_cpi)"
   ],
   "outputs": [
    {
     "data": {
      "text/plain": [
       "42"
      ]
     },
     "execution_count": 63,
     "metadata": {},
     "output_type": "execute_result"
    }
   ],
   "execution_count": 63
  },
  {
   "cell_type": "code",
   "metadata": {
    "ExecuteTime": {
     "end_time": "2025-01-05T15:06:44.414159Z",
     "start_time": "2025-01-05T15:06:44.409047Z"
    }
   },
   "source": [
    "iso3_europe_all-iso3_europe_cpi"
   ],
   "outputs": [
    {
     "data": {
      "text/plain": [
       "{'AND', 'LIE', 'MCO', 'RKS', 'SMR', 'VAT'}"
      ]
     },
     "execution_count": 64,
     "metadata": {},
     "output_type": "execute_result"
    }
   ],
   "execution_count": 64
  },
  {
   "cell_type": "markdown",
   "metadata": {},
   "source": [
    "Countries missing: Andora, Liechtenstein, Kosovo, San Marino, Vatikan. I think we dont need this countries due to their size and small impact."
   ]
  },
  {
   "cell_type": "code",
   "metadata": {
    "ExecuteTime": {
     "end_time": "2025-01-05T15:06:44.468196Z",
     "start_time": "2025-01-05T15:06:44.451363Z"
    }
   },
   "source": [
    "corruption_raw_data = corruption_raw_data[corruption_raw_data[\"Economy ISO3\"].isin(iso3_europe_all)]\n",
    "#corruption_raw_data = corruption_raw_data.drop(columns=[\"Indicator ID\"])\n",
    "\n",
    "# Transponing dataframe so that indicators are column-wise and years are in a single column\n",
    "corruption_raw_data_melted = corruption_raw_data.melt(\n",
    "    id_vars=[\"Economy ISO3\", \"Economy Name\", \"Indicator\"],\n",
    "    value_vars=[str(year) for year in range(2012, 2024)],\n",
    "    var_name=\"year\",\n",
    "    value_name=\"Value\"\n",
    ")\n",
    "\n",
    "# Pivot the melted DataFrame to make each indicator a column\n",
    "corruption_transposed = corruption_raw_data_melted.pivot(\n",
    "    index=[\"Economy ISO3\", \"Economy Name\", \"year\"],  # Columns to keep as index\n",
    "    columns=\"Indicator\",  # Values to pivot into columns\n",
    "    values=\"Value\"  # Values to use in the new columns\n",
    ").reset_index()\n",
    "\n",
    "# Rename columns for clarity (optional)\n",
    "corruption_transposed.columns.name = None\n",
    "corruption_transposed.head()"
   ],
   "outputs": [
    {
     "data": {
      "text/plain": [
       "  Economy ISO3 Economy Name  year  Corruption Perceptions Index Rank  \\\n",
       "0          ALB      Albania  2012                              113.0   \n",
       "1          ALB      Albania  2013                              116.0   \n",
       "2          ALB      Albania  2014                              110.0   \n",
       "3          ALB      Albania  2015                               88.0   \n",
       "4          ALB      Albania  2016                               83.0   \n",
       "\n",
       "   Corruption Perceptions Index Score  Corruption Perceptions Index Sources  \\\n",
       "0                                33.0                                   7.0   \n",
       "1                                31.0                                   7.0   \n",
       "2                                33.0                                   7.0   \n",
       "3                                36.0                                   7.0   \n",
       "4                                39.0                                   7.0   \n",
       "\n",
       "   Corruption Perceptions Index Standard Error  \n",
       "0                                         2.00  \n",
       "1                                         2.10  \n",
       "2                                         1.51  \n",
       "3                                         3.58  \n",
       "4                                         1.99  "
      ],
      "text/html": [
       "<div>\n",
       "<style scoped>\n",
       "    .dataframe tbody tr th:only-of-type {\n",
       "        vertical-align: middle;\n",
       "    }\n",
       "\n",
       "    .dataframe tbody tr th {\n",
       "        vertical-align: top;\n",
       "    }\n",
       "\n",
       "    .dataframe thead th {\n",
       "        text-align: right;\n",
       "    }\n",
       "</style>\n",
       "<table border=\"1\" class=\"dataframe\">\n",
       "  <thead>\n",
       "    <tr style=\"text-align: right;\">\n",
       "      <th></th>\n",
       "      <th>Economy ISO3</th>\n",
       "      <th>Economy Name</th>\n",
       "      <th>year</th>\n",
       "      <th>Corruption Perceptions Index Rank</th>\n",
       "      <th>Corruption Perceptions Index Score</th>\n",
       "      <th>Corruption Perceptions Index Sources</th>\n",
       "      <th>Corruption Perceptions Index Standard Error</th>\n",
       "    </tr>\n",
       "  </thead>\n",
       "  <tbody>\n",
       "    <tr>\n",
       "      <th>0</th>\n",
       "      <td>ALB</td>\n",
       "      <td>Albania</td>\n",
       "      <td>2012</td>\n",
       "      <td>113.0</td>\n",
       "      <td>33.0</td>\n",
       "      <td>7.0</td>\n",
       "      <td>2.00</td>\n",
       "    </tr>\n",
       "    <tr>\n",
       "      <th>1</th>\n",
       "      <td>ALB</td>\n",
       "      <td>Albania</td>\n",
       "      <td>2013</td>\n",
       "      <td>116.0</td>\n",
       "      <td>31.0</td>\n",
       "      <td>7.0</td>\n",
       "      <td>2.10</td>\n",
       "    </tr>\n",
       "    <tr>\n",
       "      <th>2</th>\n",
       "      <td>ALB</td>\n",
       "      <td>Albania</td>\n",
       "      <td>2014</td>\n",
       "      <td>110.0</td>\n",
       "      <td>33.0</td>\n",
       "      <td>7.0</td>\n",
       "      <td>1.51</td>\n",
       "    </tr>\n",
       "    <tr>\n",
       "      <th>3</th>\n",
       "      <td>ALB</td>\n",
       "      <td>Albania</td>\n",
       "      <td>2015</td>\n",
       "      <td>88.0</td>\n",
       "      <td>36.0</td>\n",
       "      <td>7.0</td>\n",
       "      <td>3.58</td>\n",
       "    </tr>\n",
       "    <tr>\n",
       "      <th>4</th>\n",
       "      <td>ALB</td>\n",
       "      <td>Albania</td>\n",
       "      <td>2016</td>\n",
       "      <td>83.0</td>\n",
       "      <td>39.0</td>\n",
       "      <td>7.0</td>\n",
       "      <td>1.99</td>\n",
       "    </tr>\n",
       "  </tbody>\n",
       "</table>\n",
       "</div>"
      ]
     },
     "execution_count": 65,
     "metadata": {},
     "output_type": "execute_result"
    }
   ],
   "execution_count": 65
  },
  {
   "cell_type": "code",
   "metadata": {
    "ExecuteTime": {
     "end_time": "2025-01-05T15:06:44.541339Z",
     "start_time": "2025-01-05T15:06:44.530737Z"
    }
   },
   "source": "corruption_transposed.head()",
   "outputs": [
    {
     "data": {
      "text/plain": [
       "  Economy ISO3 Economy Name  year  Corruption Perceptions Index Rank  \\\n",
       "0          ALB      Albania  2012                              113.0   \n",
       "1          ALB      Albania  2013                              116.0   \n",
       "2          ALB      Albania  2014                              110.0   \n",
       "3          ALB      Albania  2015                               88.0   \n",
       "4          ALB      Albania  2016                               83.0   \n",
       "\n",
       "   Corruption Perceptions Index Score  Corruption Perceptions Index Sources  \\\n",
       "0                                33.0                                   7.0   \n",
       "1                                31.0                                   7.0   \n",
       "2                                33.0                                   7.0   \n",
       "3                                36.0                                   7.0   \n",
       "4                                39.0                                   7.0   \n",
       "\n",
       "   Corruption Perceptions Index Standard Error  \n",
       "0                                         2.00  \n",
       "1                                         2.10  \n",
       "2                                         1.51  \n",
       "3                                         3.58  \n",
       "4                                         1.99  "
      ],
      "text/html": [
       "<div>\n",
       "<style scoped>\n",
       "    .dataframe tbody tr th:only-of-type {\n",
       "        vertical-align: middle;\n",
       "    }\n",
       "\n",
       "    .dataframe tbody tr th {\n",
       "        vertical-align: top;\n",
       "    }\n",
       "\n",
       "    .dataframe thead th {\n",
       "        text-align: right;\n",
       "    }\n",
       "</style>\n",
       "<table border=\"1\" class=\"dataframe\">\n",
       "  <thead>\n",
       "    <tr style=\"text-align: right;\">\n",
       "      <th></th>\n",
       "      <th>Economy ISO3</th>\n",
       "      <th>Economy Name</th>\n",
       "      <th>year</th>\n",
       "      <th>Corruption Perceptions Index Rank</th>\n",
       "      <th>Corruption Perceptions Index Score</th>\n",
       "      <th>Corruption Perceptions Index Sources</th>\n",
       "      <th>Corruption Perceptions Index Standard Error</th>\n",
       "    </tr>\n",
       "  </thead>\n",
       "  <tbody>\n",
       "    <tr>\n",
       "      <th>0</th>\n",
       "      <td>ALB</td>\n",
       "      <td>Albania</td>\n",
       "      <td>2012</td>\n",
       "      <td>113.0</td>\n",
       "      <td>33.0</td>\n",
       "      <td>7.0</td>\n",
       "      <td>2.00</td>\n",
       "    </tr>\n",
       "    <tr>\n",
       "      <th>1</th>\n",
       "      <td>ALB</td>\n",
       "      <td>Albania</td>\n",
       "      <td>2013</td>\n",
       "      <td>116.0</td>\n",
       "      <td>31.0</td>\n",
       "      <td>7.0</td>\n",
       "      <td>2.10</td>\n",
       "    </tr>\n",
       "    <tr>\n",
       "      <th>2</th>\n",
       "      <td>ALB</td>\n",
       "      <td>Albania</td>\n",
       "      <td>2014</td>\n",
       "      <td>110.0</td>\n",
       "      <td>33.0</td>\n",
       "      <td>7.0</td>\n",
       "      <td>1.51</td>\n",
       "    </tr>\n",
       "    <tr>\n",
       "      <th>3</th>\n",
       "      <td>ALB</td>\n",
       "      <td>Albania</td>\n",
       "      <td>2015</td>\n",
       "      <td>88.0</td>\n",
       "      <td>36.0</td>\n",
       "      <td>7.0</td>\n",
       "      <td>3.58</td>\n",
       "    </tr>\n",
       "    <tr>\n",
       "      <th>4</th>\n",
       "      <td>ALB</td>\n",
       "      <td>Albania</td>\n",
       "      <td>2016</td>\n",
       "      <td>83.0</td>\n",
       "      <td>39.0</td>\n",
       "      <td>7.0</td>\n",
       "      <td>1.99</td>\n",
       "    </tr>\n",
       "  </tbody>\n",
       "</table>\n",
       "</div>"
      ]
     },
     "execution_count": 66,
     "metadata": {},
     "output_type": "execute_result"
    }
   ],
   "execution_count": 66
  },
  {
   "cell_type": "code",
   "metadata": {
    "ExecuteTime": {
     "end_time": "2025-01-05T15:06:44.647882Z",
     "start_time": "2025-01-05T15:06:44.643011Z"
    }
   },
   "source": "corruption_transposed[\"Economy ISO3\"].nunique()",
   "outputs": [
    {
     "data": {
      "text/plain": [
       "42"
      ]
     },
     "execution_count": 67,
     "metadata": {},
     "output_type": "execute_result"
    }
   ],
   "execution_count": 67
  },
  {
   "cell_type": "code",
   "metadata": {
    "ExecuteTime": {
     "end_time": "2025-01-05T15:06:44.934345Z",
     "start_time": "2025-01-05T15:06:44.926924Z"
    }
   },
   "source": "corruption_transposed.to_csv(\"../data/processed/CPI.csv\", index=False, index_label=False)",
   "outputs": [],
   "execution_count": 68
  },
  {
   "cell_type": "code",
   "metadata": {
    "ExecuteTime": {
     "end_time": "2025-01-05T15:06:45.080082Z",
     "start_time": "2025-01-05T15:06:45.072668Z"
    }
   },
   "source": [
    "cpi = pd.read_csv(\"../data/processed/CPI.csv\")"
   ],
   "outputs": [],
   "execution_count": 69
  },
  {
   "cell_type": "code",
   "metadata": {
    "ExecuteTime": {
     "end_time": "2025-01-05T15:06:45.145299Z",
     "start_time": "2025-01-05T15:06:45.137410Z"
    }
   },
   "source": [
    "cpi.info()"
   ],
   "outputs": [
    {
     "name": "stdout",
     "output_type": "stream",
     "text": [
      "<class 'pandas.core.frame.DataFrame'>\n",
      "RangeIndex: 504 entries, 0 to 503\n",
      "Data columns (total 7 columns):\n",
      " #   Column                                       Non-Null Count  Dtype  \n",
      "---  ------                                       --------------  -----  \n",
      " 0   Economy ISO3                                 504 non-null    object \n",
      " 1   Economy Name                                 504 non-null    object \n",
      " 2   year                                         504 non-null    int64  \n",
      " 3   Corruption Perceptions Index Rank            491 non-null    float64\n",
      " 4   Corruption Perceptions Index Score           504 non-null    float64\n",
      " 5   Corruption Perceptions Index Sources         504 non-null    float64\n",
      " 6   Corruption Perceptions Index Standard Error  504 non-null    float64\n",
      "dtypes: float64(4), int64(1), object(2)\n",
      "memory usage: 27.7+ KB\n"
     ]
    }
   ],
   "execution_count": 70
  }
 ],
 "metadata": {
  "kernelspec": {
   "display_name": ".venv",
   "language": "python",
   "name": "python3"
  },
  "language_info": {
   "codemirror_mode": {
    "name": "ipython",
    "version": 3
   },
   "file_extension": ".py",
   "mimetype": "text/x-python",
   "name": "python",
   "nbconvert_exporter": "python",
   "pygments_lexer": "ipython3",
   "version": "3.10.12"
  }
 },
 "nbformat": 4,
 "nbformat_minor": 2
}
